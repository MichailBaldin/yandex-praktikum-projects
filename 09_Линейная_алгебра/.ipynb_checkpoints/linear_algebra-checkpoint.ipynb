{
 "cells": [
  {
   "cell_type": "markdown",
   "id": "b9652ee0",
   "metadata": {},
   "source": [
    "# Защита персональных данных клиентов"
   ]
  },
  {
   "cell_type": "markdown",
   "id": "6c2608ca",
   "metadata": {},
   "source": [
    "# Задача\n",
    "Необходимо защитить данные клиентов страховой компании. Необходимо разработать метод преобразования данных, с помощью которого нельзя было бы восстановить персональную информацию, но при этом не ухудшилось качество моделей машинного обучения"
   ]
  },
  {
   "cell_type": "markdown",
   "id": "cd02638a",
   "metadata": {},
   "source": [
    "# Шаг 1. Подготовка данных"
   ]
  },
  {
   "cell_type": "code",
   "execution_count": 1,
   "id": "bb42da49",
   "metadata": {},
   "outputs": [],
   "source": [
    "import pandas as pd\n",
    "import numpy as np\n",
    "from sklearn.linear_model import LinearRegression\n",
    "from sklearn.metrics import r2_score"
   ]
  },
  {
   "cell_type": "code",
   "execution_count": 2,
   "id": "35ef996d",
   "metadata": {},
   "outputs": [],
   "source": [
    "try:\n",
    "    data = pd.read_csv('/datasets/insurance.csv')\n",
    "except FileNotFoundError:\n",
    "    data = pd.read_csv('insurance.csv')"
   ]
  },
  {
   "cell_type": "code",
   "execution_count": 3,
   "id": "2d209422",
   "metadata": {},
   "outputs": [
    {
     "data": {
      "text/html": [
       "<div>\n",
       "<style scoped>\n",
       "    .dataframe tbody tr th:only-of-type {\n",
       "        vertical-align: middle;\n",
       "    }\n",
       "\n",
       "    .dataframe tbody tr th {\n",
       "        vertical-align: top;\n",
       "    }\n",
       "\n",
       "    .dataframe thead th {\n",
       "        text-align: right;\n",
       "    }\n",
       "</style>\n",
       "<table border=\"1\" class=\"dataframe\">\n",
       "  <thead>\n",
       "    <tr style=\"text-align: right;\">\n",
       "      <th></th>\n",
       "      <th>Пол</th>\n",
       "      <th>Возраст</th>\n",
       "      <th>Зарплата</th>\n",
       "      <th>Члены семьи</th>\n",
       "      <th>Страховые выплаты</th>\n",
       "    </tr>\n",
       "  </thead>\n",
       "  <tbody>\n",
       "    <tr>\n",
       "      <th>0</th>\n",
       "      <td>1</td>\n",
       "      <td>41.0</td>\n",
       "      <td>49600.0</td>\n",
       "      <td>1</td>\n",
       "      <td>0</td>\n",
       "    </tr>\n",
       "    <tr>\n",
       "      <th>1</th>\n",
       "      <td>0</td>\n",
       "      <td>46.0</td>\n",
       "      <td>38000.0</td>\n",
       "      <td>1</td>\n",
       "      <td>1</td>\n",
       "    </tr>\n",
       "    <tr>\n",
       "      <th>2</th>\n",
       "      <td>0</td>\n",
       "      <td>29.0</td>\n",
       "      <td>21000.0</td>\n",
       "      <td>0</td>\n",
       "      <td>0</td>\n",
       "    </tr>\n",
       "    <tr>\n",
       "      <th>3</th>\n",
       "      <td>0</td>\n",
       "      <td>21.0</td>\n",
       "      <td>41700.0</td>\n",
       "      <td>2</td>\n",
       "      <td>0</td>\n",
       "    </tr>\n",
       "    <tr>\n",
       "      <th>4</th>\n",
       "      <td>1</td>\n",
       "      <td>28.0</td>\n",
       "      <td>26100.0</td>\n",
       "      <td>0</td>\n",
       "      <td>0</td>\n",
       "    </tr>\n",
       "    <tr>\n",
       "      <th>...</th>\n",
       "      <td>...</td>\n",
       "      <td>...</td>\n",
       "      <td>...</td>\n",
       "      <td>...</td>\n",
       "      <td>...</td>\n",
       "    </tr>\n",
       "    <tr>\n",
       "      <th>4995</th>\n",
       "      <td>0</td>\n",
       "      <td>28.0</td>\n",
       "      <td>35700.0</td>\n",
       "      <td>2</td>\n",
       "      <td>0</td>\n",
       "    </tr>\n",
       "    <tr>\n",
       "      <th>4996</th>\n",
       "      <td>0</td>\n",
       "      <td>34.0</td>\n",
       "      <td>52400.0</td>\n",
       "      <td>1</td>\n",
       "      <td>0</td>\n",
       "    </tr>\n",
       "    <tr>\n",
       "      <th>4997</th>\n",
       "      <td>0</td>\n",
       "      <td>20.0</td>\n",
       "      <td>33900.0</td>\n",
       "      <td>2</td>\n",
       "      <td>0</td>\n",
       "    </tr>\n",
       "    <tr>\n",
       "      <th>4998</th>\n",
       "      <td>1</td>\n",
       "      <td>22.0</td>\n",
       "      <td>32700.0</td>\n",
       "      <td>3</td>\n",
       "      <td>0</td>\n",
       "    </tr>\n",
       "    <tr>\n",
       "      <th>4999</th>\n",
       "      <td>1</td>\n",
       "      <td>28.0</td>\n",
       "      <td>40600.0</td>\n",
       "      <td>1</td>\n",
       "      <td>0</td>\n",
       "    </tr>\n",
       "  </tbody>\n",
       "</table>\n",
       "<p>5000 rows × 5 columns</p>\n",
       "</div>"
      ],
      "text/plain": [
       "      Пол  Возраст  Зарплата  Члены семьи  Страховые выплаты\n",
       "0       1     41.0   49600.0            1                  0\n",
       "1       0     46.0   38000.0            1                  1\n",
       "2       0     29.0   21000.0            0                  0\n",
       "3       0     21.0   41700.0            2                  0\n",
       "4       1     28.0   26100.0            0                  0\n",
       "...   ...      ...       ...          ...                ...\n",
       "4995    0     28.0   35700.0            2                  0\n",
       "4996    0     34.0   52400.0            1                  0\n",
       "4997    0     20.0   33900.0            2                  0\n",
       "4998    1     22.0   32700.0            3                  0\n",
       "4999    1     28.0   40600.0            1                  0\n",
       "\n",
       "[5000 rows x 5 columns]"
      ]
     },
     "execution_count": 3,
     "metadata": {},
     "output_type": "execute_result"
    }
   ],
   "source": [
    "data"
   ]
  },
  {
   "cell_type": "markdown",
   "id": "1e0072bf",
   "metadata": {},
   "source": [
    "## Описание данных"
   ]
  },
  {
   "cell_type": "markdown",
   "id": "3e586517",
   "metadata": {},
   "source": [
    "- Признаки: пол, возраст и зарплата застрахованного, количество членов его семьи.\n",
    "- Целевой признак: количество страховых выплат клиенту за последние 5 лет."
   ]
  },
  {
   "cell_type": "markdown",
   "id": "7290fe42",
   "metadata": {},
   "source": [
    "Проверим данные на дубликаты"
   ]
  },
  {
   "cell_type": "code",
   "execution_count": 4,
   "id": "b7c396e8",
   "metadata": {},
   "outputs": [
    {
     "data": {
      "text/plain": [
       "153"
      ]
     },
     "execution_count": 4,
     "metadata": {},
     "output_type": "execute_result"
    }
   ],
   "source": [
    "data.duplicated().sum()"
   ]
  },
  {
   "cell_type": "markdown",
   "id": "f3170dff",
   "metadata": {},
   "source": [
    "Кол-во дупликатов мало, смело их удаляем"
   ]
  },
  {
   "cell_type": "code",
   "execution_count": 5,
   "id": "8be7ad1e",
   "metadata": {},
   "outputs": [
    {
     "data": {
      "text/plain": [
       "(4847, 5)"
      ]
     },
     "execution_count": 5,
     "metadata": {},
     "output_type": "execute_result"
    }
   ],
   "source": [
    "data = data.drop_duplicates()\n",
    "data.shape"
   ]
  },
  {
   "cell_type": "markdown",
   "id": "b2111a01",
   "metadata": {},
   "source": [
    "Продолжим краткий анализ данных"
   ]
  },
  {
   "cell_type": "markdown",
   "id": "7203c58d",
   "metadata": {},
   "source": [
    "Для дальнейшего удобства переименуем столбцы"
   ]
  },
  {
   "cell_type": "code",
   "execution_count": 6,
   "id": "888959d9",
   "metadata": {},
   "outputs": [],
   "source": [
    "data = data.rename(columns = {\n",
    "    'Пол': 'gender',\n",
    "    'Возраст': 'age',\n",
    "    'Зарплата': 'salary',\n",
    "    'Члены семьи': 'family',\n",
    "    'Страховые выплаты': 'insurance'\n",
    "})"
   ]
  },
  {
   "cell_type": "code",
   "execution_count": 7,
   "id": "a8d4a69e",
   "metadata": {},
   "outputs": [
    {
     "data": {
      "text/html": [
       "<div>\n",
       "<style scoped>\n",
       "    .dataframe tbody tr th:only-of-type {\n",
       "        vertical-align: middle;\n",
       "    }\n",
       "\n",
       "    .dataframe tbody tr th {\n",
       "        vertical-align: top;\n",
       "    }\n",
       "\n",
       "    .dataframe thead th {\n",
       "        text-align: right;\n",
       "    }\n",
       "</style>\n",
       "<table border=\"1\" class=\"dataframe\">\n",
       "  <thead>\n",
       "    <tr style=\"text-align: right;\">\n",
       "      <th></th>\n",
       "      <th>gender</th>\n",
       "      <th>age</th>\n",
       "      <th>salary</th>\n",
       "      <th>family</th>\n",
       "      <th>insurance</th>\n",
       "    </tr>\n",
       "  </thead>\n",
       "  <tbody>\n",
       "    <tr>\n",
       "      <th>count</th>\n",
       "      <td>4847.000000</td>\n",
       "      <td>4847.000000</td>\n",
       "      <td>4847.000000</td>\n",
       "      <td>4847.000000</td>\n",
       "      <td>4847.000000</td>\n",
       "    </tr>\n",
       "    <tr>\n",
       "      <th>mean</th>\n",
       "      <td>0.498453</td>\n",
       "      <td>31.023932</td>\n",
       "      <td>39895.811842</td>\n",
       "      <td>1.203425</td>\n",
       "      <td>0.152259</td>\n",
       "    </tr>\n",
       "    <tr>\n",
       "      <th>std</th>\n",
       "      <td>0.500049</td>\n",
       "      <td>8.487995</td>\n",
       "      <td>9972.953985</td>\n",
       "      <td>1.098664</td>\n",
       "      <td>0.468934</td>\n",
       "    </tr>\n",
       "    <tr>\n",
       "      <th>min</th>\n",
       "      <td>0.000000</td>\n",
       "      <td>18.000000</td>\n",
       "      <td>5300.000000</td>\n",
       "      <td>0.000000</td>\n",
       "      <td>0.000000</td>\n",
       "    </tr>\n",
       "    <tr>\n",
       "      <th>25%</th>\n",
       "      <td>0.000000</td>\n",
       "      <td>24.000000</td>\n",
       "      <td>33200.000000</td>\n",
       "      <td>0.000000</td>\n",
       "      <td>0.000000</td>\n",
       "    </tr>\n",
       "    <tr>\n",
       "      <th>50%</th>\n",
       "      <td>0.000000</td>\n",
       "      <td>30.000000</td>\n",
       "      <td>40200.000000</td>\n",
       "      <td>1.000000</td>\n",
       "      <td>0.000000</td>\n",
       "    </tr>\n",
       "    <tr>\n",
       "      <th>75%</th>\n",
       "      <td>1.000000</td>\n",
       "      <td>37.000000</td>\n",
       "      <td>46600.000000</td>\n",
       "      <td>2.000000</td>\n",
       "      <td>0.000000</td>\n",
       "    </tr>\n",
       "    <tr>\n",
       "      <th>max</th>\n",
       "      <td>1.000000</td>\n",
       "      <td>65.000000</td>\n",
       "      <td>79000.000000</td>\n",
       "      <td>6.000000</td>\n",
       "      <td>5.000000</td>\n",
       "    </tr>\n",
       "  </tbody>\n",
       "</table>\n",
       "</div>"
      ],
      "text/plain": [
       "            gender          age        salary       family    insurance\n",
       "count  4847.000000  4847.000000   4847.000000  4847.000000  4847.000000\n",
       "mean      0.498453    31.023932  39895.811842     1.203425     0.152259\n",
       "std       0.500049     8.487995   9972.953985     1.098664     0.468934\n",
       "min       0.000000    18.000000   5300.000000     0.000000     0.000000\n",
       "25%       0.000000    24.000000  33200.000000     0.000000     0.000000\n",
       "50%       0.000000    30.000000  40200.000000     1.000000     0.000000\n",
       "75%       1.000000    37.000000  46600.000000     2.000000     0.000000\n",
       "max       1.000000    65.000000  79000.000000     6.000000     5.000000"
      ]
     },
     "execution_count": 7,
     "metadata": {},
     "output_type": "execute_result"
    }
   ],
   "source": [
    "data.describe()"
   ]
  },
  {
   "cell_type": "code",
   "execution_count": 8,
   "id": "0176eacb",
   "metadata": {},
   "outputs": [
    {
     "name": "stdout",
     "output_type": "stream",
     "text": [
      "<class 'pandas.core.frame.DataFrame'>\n",
      "Int64Index: 4847 entries, 0 to 4999\n",
      "Data columns (total 5 columns):\n",
      " #   Column     Non-Null Count  Dtype  \n",
      "---  ------     --------------  -----  \n",
      " 0   gender     4847 non-null   int64  \n",
      " 1   age        4847 non-null   float64\n",
      " 2   salary     4847 non-null   float64\n",
      " 3   family     4847 non-null   int64  \n",
      " 4   insurance  4847 non-null   int64  \n",
      "dtypes: float64(2), int64(3)\n",
      "memory usage: 227.2 KB\n"
     ]
    }
   ],
   "source": [
    "data.info()"
   ]
  },
  {
   "cell_type": "markdown",
   "id": "ccf2e5df",
   "metadata": {},
   "source": [
    "Приведем данные к более подходящему типу"
   ]
  },
  {
   "cell_type": "code",
   "execution_count": 9,
   "id": "0ed5d311",
   "metadata": {},
   "outputs": [],
   "source": [
    "data['gender'] = data['gender'].astype('int8')\n",
    "data['age'] = data['age'].astype('int8')\n",
    "data['salary'] = data['salary'].astype('int32')\n",
    "data['family'] = data['family'].astype('int8')\n",
    "data['insurance'] = data['insurance'].astype('int8')"
   ]
  },
  {
   "cell_type": "code",
   "execution_count": 10,
   "id": "254a248a",
   "metadata": {},
   "outputs": [
    {
     "name": "stdout",
     "output_type": "stream",
     "text": [
      "<class 'pandas.core.frame.DataFrame'>\n",
      "Int64Index: 4847 entries, 0 to 4999\n",
      "Data columns (total 5 columns):\n",
      " #   Column     Non-Null Count  Dtype\n",
      "---  ------     --------------  -----\n",
      " 0   gender     4847 non-null   int8 \n",
      " 1   age        4847 non-null   int8 \n",
      " 2   salary     4847 non-null   int32\n",
      " 3   family     4847 non-null   int8 \n",
      " 4   insurance  4847 non-null   int8 \n",
      "dtypes: int32(1), int8(4)\n",
      "memory usage: 75.7 KB\n"
     ]
    }
   ],
   "source": [
    "data.info()"
   ]
  },
  {
   "cell_type": "markdown",
   "id": "f34bbf2e",
   "metadata": {},
   "source": [
    "<b>Вывод</b>\n",
    "- данные загружены\n",
    "- данные соответствуют описанию\n",
    "- удалено незначительное кол-во дубликатов\n",
    "- для удобства переименнованы столбцы\n",
    "- (некритично) изменен тип данных на более подходящий"
   ]
  },
  {
   "cell_type": "markdown",
   "id": "a3ef35f9",
   "metadata": {},
   "source": [
    "# Шаг 2. Исследование влияния умножения признаков на обратимую матрицу на качество линейной регрессии"
   ]
  },
  {
   "cell_type": "markdown",
   "id": "8daa4198",
   "metadata": {},
   "source": [
    "## Изменятся ли признаки при умножении их на обратимую матрицу?"
   ]
  },
  {
   "cell_type": "markdown",
   "id": "c4c68cb6",
   "metadata": {},
   "source": [
    "Пусть $X$ - матрица признаков, $y$ - вектор целевого признака, $P$ - случайная обратимая матрица для шифрования признаков, $w$ - вектор весов. Предсказания вычисляем по ф-ле $a=Xw$. При минимизации функции потерь задача обучения линейной регрессии: $w=\\arg\\min_w MSE(Xw, y)$, а минимальное значение MSE достигается при $w=(X^T X)^{-1} X^T y$"
   ]
  },
  {
   "cell_type": "markdown",
   "id": "20a99729",
   "metadata": {},
   "source": [
    "Пусть исходную матрицу $X$ умножаем на некую обратимую матрицу $P$"
   ]
  },
  {
   "cell_type": "markdown",
   "id": "ff7b2cbe",
   "metadata": {},
   "source": [
    "Предположим, что качество лин. рег. не изменятся, тогда нам необходимо доказать, что: "
   ]
  },
  {
   "cell_type": "markdown",
   "id": "01b335c4",
   "metadata": {},
   "source": [
    "$X(X^T X)^{-1} X^T y) = XP((XP)^T (XP))^{-1} (XP)^T y)$"
   ]
  },
  {
   "cell_type": "markdown",
   "id": "205c18bf",
   "metadata": {},
   "source": [
    "Преобразуем правую часть уравнения"
   ]
  },
  {
   "cell_type": "markdown",
   "id": "4fbe4fad",
   "metadata": {},
   "source": [
    "Сначала $(XP)^T = P^TX^T$"
   ]
  },
  {
   "cell_type": "markdown",
   "id": "387320e1",
   "metadata": {},
   "source": [
    "$X(X^T X)^{-1} X^T y) = XP(P^TX^T XP)^{-1} P^TX^T y)$"
   ]
  },
  {
   "cell_type": "markdown",
   "id": "149bc339",
   "metadata": {},
   "source": [
    "Затем раскроем скобки $(AB)^{-1}=B^{-1}A^{-1}$"
   ]
  },
  {
   "cell_type": "markdown",
   "id": "037fc84d",
   "metadata": {},
   "source": [
    "$X(X^T X)^{-1} X^T y) = XPP^{-1}(P^TX^T X)^{-1} P^TX^T y)$"
   ]
  },
  {
   "cell_type": "markdown",
   "id": "da9e8cc1",
   "metadata": {},
   "source": [
    "$X(X^T X)^{-1} X^T y) = XPP^{-1}(X^T X)^{-1}P^{T^{-1}} P^TX^T y)$"
   ]
  },
  {
   "cell_type": "markdown",
   "id": "a0627e90",
   "metadata": {},
   "source": [
    "При умножении $AA^{-1} = E$ и единичные матрицы можем сократить"
   ]
  },
  {
   "cell_type": "markdown",
   "id": "4c3e0873",
   "metadata": {},
   "source": [
    "$X(X^T X)^{-1} X^T y) = X(X^T X)^{-1}X^T y)$"
   ]
  },
  {
   "cell_type": "markdown",
   "id": "86e09beb",
   "metadata": {},
   "source": [
    "<b>Вывод:</b>\n",
    "- теоретически доказано, что умножение на случайную обратимую матрицу не оказывает влияния на оригинальную матрицу. С математической точки зрения.\n",
    "- исходя из пункта выше можно смело предположить, что качество метрик не должно измениться"
   ]
  },
  {
   "cell_type": "markdown",
   "id": "5ce80d7e",
   "metadata": {},
   "source": [
    "# Шаг 3. Алгоритм преобразования данных для решения задачи"
   ]
  },
  {
   "cell_type": "markdown",
   "id": "28fc9817",
   "metadata": {},
   "source": [
    "Из шага 2 мы знаем, что при умножении признаков на случайную обратимую матрицу, операции с ней в процессе преобразовании сокращаются, поэтому качество линейной регрессии не поменяется"
   ]
  },
  {
   "cell_type": "markdown",
   "id": "98c0ba8f",
   "metadata": {},
   "source": [
    "Возможный алгоритм следующий:\n",
    "1. Обучение модели\n",
    "2. Предсказание целевого\n",
    "3. Получение r2\n",
    "4. Умножение матрицы признаков на случайную обратимую матрицу\n",
    "5. Предсказание новых значений целевого\n",
    "6. Получение r2\n",
    "7. Сравнение r2 в шаге 3 и 6"
   ]
  },
  {
   "cell_type": "markdown",
   "id": "beb01e26",
   "metadata": {},
   "source": [
    "# Шаг 4. Реализация алгоритма"
   ]
  },
  {
   "cell_type": "markdown",
   "id": "210d853d",
   "metadata": {},
   "source": [
    "Разделяем матрицу на признаки и целевой"
   ]
  },
  {
   "cell_type": "code",
   "execution_count": 11,
   "id": "e1b6762c",
   "metadata": {},
   "outputs": [],
   "source": [
    "X = data.drop(columns='insurance', axis=1)\n",
    "y = data['insurance']"
   ]
  },
  {
   "cell_type": "markdown",
   "id": "02a7548c",
   "metadata": {},
   "source": [
    "Создаем класс для шифровки данных клиентов"
   ]
  },
  {
   "cell_type": "code",
   "execution_count": 12,
   "id": "aa1e467e",
   "metadata": {},
   "outputs": [],
   "source": [
    "class DataCript:\n",
    "    def transform(self, X, random_state):\n",
    "        np.random.seed(random_state)\n",
    "        P = np.random.normal(size=(X.shape[1], X.shape[1]))\n",
    "        self.x = X\n",
    "        self.p = P\n",
    "        return X.dot(self.p)"
   ]
  },
  {
   "cell_type": "markdown",
   "id": "ba8b8d9a",
   "metadata": {},
   "source": [
    "Шифруем оригинаьлные признаки"
   ]
  },
  {
   "cell_type": "code",
   "execution_count": 13,
   "id": "ce7fe0a8",
   "metadata": {},
   "outputs": [
    {
     "data": {
      "text/html": [
       "<div>\n",
       "<style scoped>\n",
       "    .dataframe tbody tr th:only-of-type {\n",
       "        vertical-align: middle;\n",
       "    }\n",
       "\n",
       "    .dataframe tbody tr th {\n",
       "        vertical-align: top;\n",
       "    }\n",
       "\n",
       "    .dataframe thead th {\n",
       "        text-align: right;\n",
       "    }\n",
       "</style>\n",
       "<table border=\"1\" class=\"dataframe\">\n",
       "  <thead>\n",
       "    <tr style=\"text-align: right;\">\n",
       "      <th></th>\n",
       "      <th>0</th>\n",
       "      <th>1</th>\n",
       "      <th>2</th>\n",
       "      <th>3</th>\n",
       "    </tr>\n",
       "  </thead>\n",
       "  <tbody>\n",
       "    <tr>\n",
       "      <th>0</th>\n",
       "      <td>38224.186641</td>\n",
       "      <td>61881.000420</td>\n",
       "      <td>49961.234837</td>\n",
       "      <td>-64280.684721</td>\n",
       "    </tr>\n",
       "    <tr>\n",
       "      <th>1</th>\n",
       "      <td>29313.558467</td>\n",
       "      <td>47428.845564</td>\n",
       "      <td>38278.822267</td>\n",
       "      <td>-49242.555394</td>\n",
       "    </tr>\n",
       "    <tr>\n",
       "      <th>2</th>\n",
       "      <td>16206.481556</td>\n",
       "      <td>26215.538233</td>\n",
       "      <td>21153.670838</td>\n",
       "      <td>-27212.472653</td>\n",
       "    </tr>\n",
       "    <tr>\n",
       "      <th>3</th>\n",
       "      <td>32110.072445</td>\n",
       "      <td>52006.047856</td>\n",
       "      <td>42004.453110</td>\n",
       "      <td>-54044.730722</td>\n",
       "    </tr>\n",
       "    <tr>\n",
       "      <th>4</th>\n",
       "      <td>20126.326163</td>\n",
       "      <td>32571.440926</td>\n",
       "      <td>26289.724215</td>\n",
       "      <td>-33824.037786</td>\n",
       "    </tr>\n",
       "  </tbody>\n",
       "</table>\n",
       "</div>"
      ],
      "text/plain": [
       "              0             1             2             3\n",
       "0  38224.186641  61881.000420  49961.234837 -64280.684721\n",
       "1  29313.558467  47428.845564  38278.822267 -49242.555394\n",
       "2  16206.481556  26215.538233  21153.670838 -27212.472653\n",
       "3  32110.072445  52006.047856  42004.453110 -54044.730722\n",
       "4  20126.326163  32571.440926  26289.724215 -33824.037786"
      ]
     },
     "execution_count": 13,
     "metadata": {},
     "output_type": "execute_result"
    }
   ],
   "source": [
    "X_2 = DataCript().transform(X=X, random_state=12345)\n",
    "X_2.head()"
   ]
  },
  {
   "cell_type": "markdown",
   "id": "5c979a4a",
   "metadata": {},
   "source": [
    "Не сложно заметить, что модифицированную таблицу не сопоставить с оригинальной, что нам и требовалось.\n",
    "Теперь проверим влияет ли преобразование на метрику r2"
   ]
  },
  {
   "cell_type": "code",
   "execution_count": 14,
   "id": "1bef0fdb",
   "metadata": {},
   "outputs": [],
   "source": [
    "model = LinearRegression()"
   ]
  },
  {
   "cell_type": "code",
   "execution_count": 15,
   "id": "8b97e67b",
   "metadata": {},
   "outputs": [
    {
     "data": {
      "text/plain": [
       "True"
      ]
     },
     "execution_count": 15,
     "metadata": {},
     "output_type": "execute_result"
    }
   ],
   "source": [
    "model.fit(X, y)\n",
    "predict = model.predict(X)\n",
    "\n",
    "model.fit(X_2, y)\n",
    "predict_2 = model.predict(X_2)\n",
    "\n",
    "np.isclose(r2_score(y, predict), r2_score(y, predict_2))"
   ]
  },
  {
   "cell_type": "markdown",
   "id": "2c34fc42",
   "metadata": {},
   "source": [
    "<b>Общий вывод:</b>\n",
    "- данные загружены, соответствуют описанию, удалено незначительное кол-во дубликатов\n",
    "- математически доказано, что при умножении на случайную обратимую матрицу качество линейной регрессии не должно измениться.\n",
    "- описан алгоритм сравнения метрик r2 до и после шифрования\n",
    "- реализован алгоритм шифрования и проверены метрики r2 для обоих матриц признаков. Результат - оба значения r2 близки. Что и требовалось доказать"
   ]
  }
 ],
 "metadata": {
  "kernelspec": {
   "display_name": "Python 3 (ipykernel)",
   "language": "python",
   "name": "python3"
  },
  "language_info": {
   "codemirror_mode": {
    "name": "ipython",
    "version": 3
   },
   "file_extension": ".py",
   "mimetype": "text/x-python",
   "name": "python",
   "nbconvert_exporter": "python",
   "pygments_lexer": "ipython3",
   "version": "3.10.5"
  },
  "toc": {
   "base_numbering": 1,
   "nav_menu": {},
   "number_sections": true,
   "sideBar": true,
   "skip_h1_title": true,
   "title_cell": "Table of Contents",
   "title_sidebar": "Contents",
   "toc_cell": false,
   "toc_position": {},
   "toc_section_display": true,
   "toc_window_display": false
  }
 },
 "nbformat": 4,
 "nbformat_minor": 5
}
