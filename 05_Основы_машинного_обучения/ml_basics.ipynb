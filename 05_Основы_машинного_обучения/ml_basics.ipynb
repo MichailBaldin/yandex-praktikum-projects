{
 "cells": [
  {
   "cell_type": "markdown",
   "id": "587aa398",
   "metadata": {},
   "source": [
    "# Описание проекта"
   ]
  },
  {
   "cell_type": "markdown",
   "id": "d992563f",
   "metadata": {},
   "source": [
    "На основе данных оператора мобильной связи \"Мегалайн\" о поведении клиентов, которые уже перешли на новые тарифы, построить систему способную проанализировать клиентов, использующих старые тарифы и предложить на пододящий новый"
   ]
  },
  {
   "cell_type": "markdown",
   "id": "ec3579dd",
   "metadata": {},
   "source": [
    "# Доп. сведения о проекте/данных\n",
    "- предобработку делать не нужно, данные уже приведены к корректному виду\n",
    "- построить модель с метрикой accurace > 0.75\n",
    "- каждый объект - информация о поведении одного пользователя за месяц"
   ]
  },
  {
   "cell_type": "markdown",
   "id": "4e0778c7",
   "metadata": {},
   "source": [
    "# Шаг 1. Открытие данных и анализ общей информации о данных"
   ]
  },
  {
   "cell_type": "code",
   "execution_count": 1,
   "id": "02fb5bf4",
   "metadata": {},
   "outputs": [],
   "source": [
    "# импортируем необходимые библиотеки и задаем настройки\n",
    "import pandas as pd\n",
    "from sklearn.model_selection import train_test_split\n",
    "from sklearn.tree import DecisionTreeClassifier\n",
    "from sklearn.metrics import accuracy_score\n",
    "from sklearn.ensemble import RandomForestClassifier\n",
    "from sklearn.linear_model import LogisticRegression\n",
    "from sklearn.dummy import DummyClassifier"
   ]
  },
  {
   "cell_type": "code",
   "execution_count": 2,
   "id": "da5549a6",
   "metadata": {},
   "outputs": [],
   "source": [
    "# открываем файл с данными\n",
    "try:\n",
    "    data = pd.read_csv('/datasets/users_behavior.csv')\n",
    "except FileNotFoundError:\n",
    "    data = pd.read_csv('users_behavior.csv')"
   ]
  },
  {
   "cell_type": "code",
   "execution_count": 3,
   "id": "c464b517",
   "metadata": {},
   "outputs": [
    {
     "data": {
      "text/html": [
       "<div>\n",
       "<style scoped>\n",
       "    .dataframe tbody tr th:only-of-type {\n",
       "        vertical-align: middle;\n",
       "    }\n",
       "\n",
       "    .dataframe tbody tr th {\n",
       "        vertical-align: top;\n",
       "    }\n",
       "\n",
       "    .dataframe thead th {\n",
       "        text-align: right;\n",
       "    }\n",
       "</style>\n",
       "<table border=\"1\" class=\"dataframe\">\n",
       "  <thead>\n",
       "    <tr style=\"text-align: right;\">\n",
       "      <th></th>\n",
       "      <th>calls</th>\n",
       "      <th>minutes</th>\n",
       "      <th>messages</th>\n",
       "      <th>mb_used</th>\n",
       "      <th>is_ultra</th>\n",
       "    </tr>\n",
       "  </thead>\n",
       "  <tbody>\n",
       "    <tr>\n",
       "      <th>0</th>\n",
       "      <td>40.0</td>\n",
       "      <td>311.90</td>\n",
       "      <td>83.0</td>\n",
       "      <td>19915.42</td>\n",
       "      <td>0</td>\n",
       "    </tr>\n",
       "    <tr>\n",
       "      <th>1</th>\n",
       "      <td>85.0</td>\n",
       "      <td>516.75</td>\n",
       "      <td>56.0</td>\n",
       "      <td>22696.96</td>\n",
       "      <td>0</td>\n",
       "    </tr>\n",
       "    <tr>\n",
       "      <th>2</th>\n",
       "      <td>77.0</td>\n",
       "      <td>467.66</td>\n",
       "      <td>86.0</td>\n",
       "      <td>21060.45</td>\n",
       "      <td>0</td>\n",
       "    </tr>\n",
       "    <tr>\n",
       "      <th>3</th>\n",
       "      <td>106.0</td>\n",
       "      <td>745.53</td>\n",
       "      <td>81.0</td>\n",
       "      <td>8437.39</td>\n",
       "      <td>1</td>\n",
       "    </tr>\n",
       "    <tr>\n",
       "      <th>4</th>\n",
       "      <td>66.0</td>\n",
       "      <td>418.74</td>\n",
       "      <td>1.0</td>\n",
       "      <td>14502.75</td>\n",
       "      <td>0</td>\n",
       "    </tr>\n",
       "  </tbody>\n",
       "</table>\n",
       "</div>"
      ],
      "text/plain": [
       "   calls  minutes  messages   mb_used  is_ultra\n",
       "0   40.0   311.90      83.0  19915.42         0\n",
       "1   85.0   516.75      56.0  22696.96         0\n",
       "2   77.0   467.66      86.0  21060.45         0\n",
       "3  106.0   745.53      81.0   8437.39         1\n",
       "4   66.0   418.74       1.0  14502.75         0"
      ]
     },
     "execution_count": 3,
     "metadata": {},
     "output_type": "execute_result"
    }
   ],
   "source": [
    "data.head()"
   ]
  },
  {
   "cell_type": "code",
   "execution_count": 4,
   "id": "4ea92654",
   "metadata": {},
   "outputs": [
    {
     "name": "stdout",
     "output_type": "stream",
     "text": [
      "<class 'pandas.core.frame.DataFrame'>\n",
      "RangeIndex: 3214 entries, 0 to 3213\n",
      "Data columns (total 5 columns):\n",
      " #   Column    Non-Null Count  Dtype  \n",
      "---  ------    --------------  -----  \n",
      " 0   calls     3214 non-null   float64\n",
      " 1   minutes   3214 non-null   float64\n",
      " 2   messages  3214 non-null   float64\n",
      " 3   mb_used   3214 non-null   float64\n",
      " 4   is_ultra  3214 non-null   int64  \n",
      "dtypes: float64(4), int64(1)\n",
      "memory usage: 125.7 KB\n"
     ]
    }
   ],
   "source": [
    "data.info()"
   ]
  },
  {
   "cell_type": "markdown",
   "id": "5de71375",
   "metadata": {},
   "source": [
    "## Описание данных"
   ]
  },
  {
   "cell_type": "markdown",
   "id": "23bf1a42",
   "metadata": {},
   "source": [
    "- сalls — количество звонков,\n",
    "- minutes — суммарная длительность звонков в минутах,\n",
    "- messages — количество sms-сообщений,\n",
    "- mb_used — израсходованный интернет-трафик в Мб,\n",
    "- is_ultra — каким тарифом пользовался в течение месяца («Ультра» — 1, «Смарт» — 0)."
   ]
  },
  {
   "cell_type": "markdown",
   "id": "854b5d44",
   "metadata": {},
   "source": [
    "Исходя из описания данных стоит изменить тип данных в calls и messages на целочисленный"
   ]
  },
  {
   "cell_type": "code",
   "execution_count": 5,
   "id": "74bc00e7",
   "metadata": {},
   "outputs": [],
   "source": [
    "data['calls'] = data['calls'].astype('int16')\n",
    "data['messages'] = data['messages'].astype('int16')\n",
    "data['is_ultra'] = data['is_ultra'].astype('int16')"
   ]
  },
  {
   "cell_type": "markdown",
   "id": "4f78b578",
   "metadata": {},
   "source": [
    "Посмотрим на общее распределение данных"
   ]
  },
  {
   "cell_type": "code",
   "execution_count": 6,
   "id": "99b44509",
   "metadata": {},
   "outputs": [
    {
     "data": {
      "text/html": [
       "<div>\n",
       "<style scoped>\n",
       "    .dataframe tbody tr th:only-of-type {\n",
       "        vertical-align: middle;\n",
       "    }\n",
       "\n",
       "    .dataframe tbody tr th {\n",
       "        vertical-align: top;\n",
       "    }\n",
       "\n",
       "    .dataframe thead th {\n",
       "        text-align: right;\n",
       "    }\n",
       "</style>\n",
       "<table border=\"1\" class=\"dataframe\">\n",
       "  <thead>\n",
       "    <tr style=\"text-align: right;\">\n",
       "      <th></th>\n",
       "      <th>calls</th>\n",
       "      <th>minutes</th>\n",
       "      <th>messages</th>\n",
       "      <th>mb_used</th>\n",
       "      <th>is_ultra</th>\n",
       "    </tr>\n",
       "  </thead>\n",
       "  <tbody>\n",
       "    <tr>\n",
       "      <th>count</th>\n",
       "      <td>3214.000000</td>\n",
       "      <td>3214.000000</td>\n",
       "      <td>3214.000000</td>\n",
       "      <td>3214.000000</td>\n",
       "      <td>3214.000000</td>\n",
       "    </tr>\n",
       "    <tr>\n",
       "      <th>mean</th>\n",
       "      <td>63.038892</td>\n",
       "      <td>438.208787</td>\n",
       "      <td>38.281269</td>\n",
       "      <td>17207.673836</td>\n",
       "      <td>0.306472</td>\n",
       "    </tr>\n",
       "    <tr>\n",
       "      <th>std</th>\n",
       "      <td>33.236368</td>\n",
       "      <td>234.569872</td>\n",
       "      <td>36.148326</td>\n",
       "      <td>7570.968246</td>\n",
       "      <td>0.461100</td>\n",
       "    </tr>\n",
       "    <tr>\n",
       "      <th>min</th>\n",
       "      <td>0.000000</td>\n",
       "      <td>0.000000</td>\n",
       "      <td>0.000000</td>\n",
       "      <td>0.000000</td>\n",
       "      <td>0.000000</td>\n",
       "    </tr>\n",
       "    <tr>\n",
       "      <th>25%</th>\n",
       "      <td>40.000000</td>\n",
       "      <td>274.575000</td>\n",
       "      <td>9.000000</td>\n",
       "      <td>12491.902500</td>\n",
       "      <td>0.000000</td>\n",
       "    </tr>\n",
       "    <tr>\n",
       "      <th>50%</th>\n",
       "      <td>62.000000</td>\n",
       "      <td>430.600000</td>\n",
       "      <td>30.000000</td>\n",
       "      <td>16943.235000</td>\n",
       "      <td>0.000000</td>\n",
       "    </tr>\n",
       "    <tr>\n",
       "      <th>75%</th>\n",
       "      <td>82.000000</td>\n",
       "      <td>571.927500</td>\n",
       "      <td>57.000000</td>\n",
       "      <td>21424.700000</td>\n",
       "      <td>1.000000</td>\n",
       "    </tr>\n",
       "    <tr>\n",
       "      <th>max</th>\n",
       "      <td>244.000000</td>\n",
       "      <td>1632.060000</td>\n",
       "      <td>224.000000</td>\n",
       "      <td>49745.730000</td>\n",
       "      <td>1.000000</td>\n",
       "    </tr>\n",
       "  </tbody>\n",
       "</table>\n",
       "</div>"
      ],
      "text/plain": [
       "             calls      minutes     messages       mb_used     is_ultra\n",
       "count  3214.000000  3214.000000  3214.000000   3214.000000  3214.000000\n",
       "mean     63.038892   438.208787    38.281269  17207.673836     0.306472\n",
       "std      33.236368   234.569872    36.148326   7570.968246     0.461100\n",
       "min       0.000000     0.000000     0.000000      0.000000     0.000000\n",
       "25%      40.000000   274.575000     9.000000  12491.902500     0.000000\n",
       "50%      62.000000   430.600000    30.000000  16943.235000     0.000000\n",
       "75%      82.000000   571.927500    57.000000  21424.700000     1.000000\n",
       "max     244.000000  1632.060000   224.000000  49745.730000     1.000000"
      ]
     },
     "execution_count": 6,
     "metadata": {},
     "output_type": "execute_result"
    }
   ],
   "source": [
    "data.describe()"
   ]
  },
  {
   "cell_type": "markdown",
   "id": "d54ef848",
   "metadata": {},
   "source": [
    "<b>Вывод: </b>данные распределены нормально, пропусков нет. Небольшой перекос в данных есть в столбце messages"
   ]
  },
  {
   "cell_type": "markdown",
   "id": "2fb2eac3",
   "metadata": {},
   "source": [
    "# Шаг 2. Разделение выборки на обучающую, валидационную, тестовую"
   ]
  },
  {
   "cell_type": "markdown",
   "id": "a034fa36",
   "metadata": {},
   "source": [
    "Разделить исходные данные на обучающую, валидационную и тестовую выборки"
   ]
  },
  {
   "cell_type": "code",
   "execution_count": 7,
   "id": "60c07472",
   "metadata": {},
   "outputs": [],
   "source": [
    "features = data.drop('is_ultra', axis=1)\n",
    "target = data['is_ultra']"
   ]
  },
  {
   "cell_type": "code",
   "execution_count": 8,
   "id": "f1d2b483",
   "metadata": {},
   "outputs": [],
   "source": [
    "features_temp, features_test, target_temp, target_test = train_test_split(\n",
    "    features, \n",
    "    target, \n",
    "    test_size=0.2, \n",
    "    random_state=12345)"
   ]
  },
  {
   "cell_type": "code",
   "execution_count": 9,
   "id": "a0d3776d",
   "metadata": {},
   "outputs": [],
   "source": [
    "features_train, features_valid, target_train, target_valid = train_test_split(\n",
    "    features_temp, \n",
    "    target_temp, \n",
    "    test_size=0.2, \n",
    "    random_state=12345)"
   ]
  },
  {
   "cell_type": "markdown",
   "id": "db0d5b5c",
   "metadata": {},
   "source": [
    "# Шаг 3. Исследования качества разных моделей"
   ]
  },
  {
   "cell_type": "markdown",
   "id": "918314fc",
   "metadata": {},
   "source": [
    "Будем исследовать качество следующих моделей:\n",
    "- Решающее дерево\n",
    "- Случайный лес\n",
    "- Логистическая регрессия"
   ]
  },
  {
   "cell_type": "markdown",
   "id": "a91b1631",
   "metadata": {},
   "source": [
    "## Решающее дерево"
   ]
  },
  {
   "cell_type": "code",
   "execution_count": 10,
   "id": "30f05a3e",
   "metadata": {},
   "outputs": [
    {
     "name": "stdout",
     "output_type": "stream",
     "text": [
      "Accuracy:\t\t 0.781 \n",
      "max_depth:\t\t 8 \n",
      "criterion:\t\t entropy \n",
      "min_samples_leaf\t 3 \n",
      "best_min_samples_split\t 2\n",
      "\n",
      "CPU times: user 2.6 s, sys: 0 ns, total: 2.6 s\n",
      "Wall time: 2.6 s\n"
     ]
    }
   ],
   "source": [
    "%%time\n",
    "best_result = 0\n",
    "best_depth = 0\n",
    "best_criterion = ''\n",
    "best_model_decision_tree = None\n",
    "best_min_samples_split = 0\n",
    "best_min_samples_leaf = 0\n",
    "for criterion in ['gini', 'entropy']:\n",
    "    for min_samples_split in range(2, 6):\n",
    "        for min_samples_leaf in range(1, 10):\n",
    "            for depth in range(1, 10):\n",
    "                model = DecisionTreeClassifier(\n",
    "                    random_state=12345, \n",
    "                    max_depth=depth, \n",
    "                    criterion=criterion,\n",
    "                    min_samples_split = min_samples_split,\n",
    "                    min_samples_leaf = min_samples_leaf\n",
    "                )\n",
    "                model.fit(\n",
    "                    features_train, \n",
    "                    target_train\n",
    "                )\n",
    "                result = model.score(\n",
    "                    features_valid, \n",
    "                    target_valid\n",
    "                )\n",
    "                if result > best_result:\n",
    "                    best_result = round(result, 3)\n",
    "                    best_depth = depth\n",
    "                    best_criterion = criterion\n",
    "                    best_model_decision_tree = model\n",
    "                    best_min_samples_leaf = min_samples_leaf\n",
    "                    best_min_samples_split = min_samples_split\n",
    "print('Accuracy:\\t\\t', best_result, \n",
    "      '\\nmax_depth:\\t\\t', best_depth, \n",
    "      '\\ncriterion:\\t\\t', best_criterion,\n",
    "      '\\nmin_samples_leaf\\t', best_min_samples_leaf,\n",
    "      '\\nbest_min_samples_split\\t', best_min_samples_split)\n",
    "print()"
   ]
  },
  {
   "cell_type": "markdown",
   "id": "4cc49b37",
   "metadata": {},
   "source": [
    "## Случайный лес"
   ]
  },
  {
   "cell_type": "code",
   "execution_count": 11,
   "id": "420b21f1",
   "metadata": {},
   "outputs": [
    {
     "name": "stdout",
     "output_type": "stream",
     "text": [
      "Accuracy:\t\t 0.796 \n",
      "max_depth:\t\t 9 \n",
      "criterion:\t\t gini \n",
      "min_samples_leaf\t 2 \n",
      "best_min_samples_split\t 4 \n",
      "estimators:\t\t 9\n",
      "\n",
      "CPU times: user 2min 1s, sys: 227 ms, total: 2min 1s\n",
      "Wall time: 2min 1s\n"
     ]
    }
   ],
   "source": [
    "%%time\n",
    "best_result = 0\n",
    "best_est = 0\n",
    "best_criterion = ''\n",
    "best_depth = 0\n",
    "best_model_random_forest = None\n",
    "best_min_samples_leaf = 0\n",
    "best_min_samples_split = 0\n",
    "for est in range(1, 11):\n",
    "    for criterion in ['gini', 'entropy']:\n",
    "        for min_samples_leaf in range(2, 10):\n",
    "            for min_samples_split in range(2, 10):\n",
    "                for depth in range(1, 10):\n",
    "                    model = RandomForestClassifier(\n",
    "                        random_state=12345, \n",
    "                        n_estimators=est, \n",
    "                        criterion=criterion, \n",
    "                        max_depth=depth,\n",
    "                        min_samples_leaf=min_samples_leaf,\n",
    "                        min_samples_split=min_samples_split\n",
    "                    )\n",
    "                    model.fit(\n",
    "                        features_train, \n",
    "                        target_train\n",
    "                    )\n",
    "                    result = model.score(\n",
    "                        features_valid, \n",
    "                        target_valid\n",
    "                    )\n",
    "                    if result > best_result:\n",
    "                        best_result = round(result, 3)\n",
    "                        best_est = est\n",
    "                        best_criterion = criterion\n",
    "                        best_depth = depth\n",
    "                        best_model_random_forest = model\n",
    "                        best_min_samples_leaf = min_samples_leaf\n",
    "                        best_min_samples_split = min_samples_split\n",
    "print('Accuracy:\\t\\t', best_result, \n",
    "      '\\nmax_depth:\\t\\t', best_depth, \n",
    "      '\\ncriterion:\\t\\t', best_criterion,\n",
    "      '\\nmin_samples_leaf\\t', best_min_samples_leaf,\n",
    "      '\\nbest_min_samples_split\\t', best_min_samples_split, \n",
    "      '\\nestimators:\\t\\t', best_est)\n",
    "print()"
   ]
  },
  {
   "cell_type": "markdown",
   "id": "6f9f8980",
   "metadata": {},
   "source": [
    "## Логистическая регрессия"
   ]
  },
  {
   "cell_type": "code",
   "execution_count": 12,
   "id": "0d243240",
   "metadata": {},
   "outputs": [
    {
     "name": "stdout",
     "output_type": "stream",
     "text": [
      "Accuracy:  0.7165048543689321\n",
      "CPU times: user 18.9 ms, sys: 18 µs, total: 18.9 ms\n",
      "Wall time: 18.5 ms\n"
     ]
    }
   ],
   "source": [
    "%%time\n",
    "best_model_logistic_reg = LogisticRegression(random_state=12345)\n",
    "best_model_logistic_reg.fit(features_train, target_train)\n",
    "result = best_model_logistic_reg.score(features_valid, target_valid)\n",
    "print('Accuracy: ', result)"
   ]
  },
  {
   "cell_type": "markdown",
   "id": "c6b36a26",
   "metadata": {},
   "source": [
    "<b>Промежуточные выводы о качестве моделей на валидационной выборке:</b>\n",
    "\n",
    "Лучший результат (в прочем это было очевидно) показала модель случайного леса (accuracy = 0.796)\n",
    "\n",
    "Результат решающего дерева accuracy = 0.781. Не намного меньше.\n",
    "\n",
    "Но время обучения для модели случайного леса составило примерно 2 минуты, а для модели решающего дерева всего лишь около 2.5 секунд. С данной точки зрения решающее дерево безоговорочный лидер.\n",
    "\n",
    "Модель логистической регресии даже не смогла удовлетворить условиям задачи."
   ]
  },
  {
   "cell_type": "markdown",
   "id": "0735b928",
   "metadata": {},
   "source": [
    "# Шаг 4. Проверка лучшей модели на тестовой выборке"
   ]
  },
  {
   "cell_type": "markdown",
   "id": "93986c60",
   "metadata": {},
   "source": [
    "Лучшая модель - случайный лес"
   ]
  },
  {
   "cell_type": "code",
   "execution_count": 13,
   "id": "7a374569",
   "metadata": {},
   "outputs": [
    {
     "name": "stdout",
     "output_type": "stream",
     "text": [
      "Accuracy лучшей модели случайного леса на тестовой выборке:  0.796\n"
     ]
    }
   ],
   "source": [
    "result = best_model_random_forest.score(features_test, target_test)\n",
    "print('Accuracy лучшей модели случайного леса на тестовой выборке: ', round(result, 3))"
   ]
  },
  {
   "cell_type": "code",
   "execution_count": 14,
   "id": "fe719a23",
   "metadata": {},
   "outputs": [
    {
     "name": "stdout",
     "output_type": "stream",
     "text": [
      "Accuracy лучшей модели решающего дерева на тестовой выборке:  0.771\n"
     ]
    }
   ],
   "source": [
    "result = best_model_decision_tree.score(features_test, target_test)\n",
    "print('Accuracy лучшей модели решающего дерева на тестовой выборке: ', round(result, 3))"
   ]
  },
  {
   "cell_type": "markdown",
   "id": "d7f829da",
   "metadata": {},
   "source": [
    "<b>Выводы по итогам работы с тестовой выборкой:</b>\n",
    "\n",
    "Модель случайного леса на валидационной выборке показала accuracy = 0.796. На тестовой выборке 0.796\n",
    "\n",
    "Модель решающего дерева на валидационной выборке показала accuracy = 0.781. На тестовой выборке 0.771"
   ]
  },
  {
   "cell_type": "markdown",
   "id": "5a7d273a",
   "metadata": {},
   "source": [
    "# Шаг 5. Проверка модели на \"вменяемость\""
   ]
  },
  {
   "cell_type": "markdown",
   "id": "34f2d392",
   "metadata": {},
   "source": [
    "Проверка модели на адекватность"
   ]
  },
  {
   "cell_type": "code",
   "execution_count": 15,
   "id": "1668b4af",
   "metadata": {},
   "outputs": [
    {
     "name": "stdout",
     "output_type": "stream",
     "text": [
      "Accuracy Dummy модели:  0.676\n"
     ]
    }
   ],
   "source": [
    "dummy_model = DummyClassifier(strategy='most_frequent', random_state=12345)\n",
    "dummy_model.fit(features_train, target_train)\n",
    "result_dummy = dummy_model.score(features_valid, target_valid)\n",
    "print('Accuracy Dummy модели: ', round(result_dummy, 3))"
   ]
  },
  {
   "cell_type": "markdown",
   "id": "91515d65",
   "metadata": {},
   "source": [
    "# Общий вывод:\n",
    "\n",
    "1. Данные успешно загружены и проанализированы.\n",
    "2. Данные разделены на тренировочную, валидационную и тестовые выборки в соотношении 3:1:1\n",
    "3. Для анализа качества моделей выбраны следующие: решающее дерево, случайный лес и логистическая регрессия\n",
    "4. Лучшая модель \n",
    "- по качеству - случайный лес, но затрачивает огромное время на обучение (подбору гиперпараметров)\n",
    "- по времени - решающее дерево, accuracy чуть ниже, но время обучения в разы меньше\n",
    "- логистическая регрессия не смогла показать допустимый задачей результат\n",
    "5. При тестировании моделей на тестовой выборке\n",
    "- случайный лес показал аналогичное значение accuracy\n",
    "- решающее дерево показало результат чуть хуже чем на тренировочной выборке\n",
    "6. Проведен тест на вменяемость модели с помощью DummyClassifier. Accuracy = 0.676. В наших моделях результат оказался повыше."
   ]
  }
 ],
 "metadata": {
  "kernelspec": {
   "display_name": "Python 3 (ipykernel)",
   "language": "python",
   "name": "python3"
  },
  "language_info": {
   "codemirror_mode": {
    "name": "ipython",
    "version": 3
   },
   "file_extension": ".py",
   "mimetype": "text/x-python",
   "name": "python",
   "nbconvert_exporter": "python",
   "pygments_lexer": "ipython3",
   "version": "3.10.2"
  }
 },
 "nbformat": 4,
 "nbformat_minor": 5
}
