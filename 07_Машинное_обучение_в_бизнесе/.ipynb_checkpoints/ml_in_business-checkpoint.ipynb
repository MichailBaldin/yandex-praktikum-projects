{
 "cells": [
  {
   "cell_type": "markdown",
   "id": "7638adff",
   "metadata": {},
   "source": [
    "# Выбор локации для скважины"
   ]
  },
  {
   "cell_type": "markdown",
   "id": "3a157e92",
   "metadata": {},
   "source": [
    "## Задача\n",
    "\n",
    "Необходимо определить локацию для бурения новой скважины.\n",
    "\n",
    "Шаги выбора локации:\n",
    "- В избранном регионе собирают характеристики для скважин: качество нефти и объём её запасов;\n",
    "- Строят модель для предсказания объёма запасов в новых скважинах;\n",
    "- Выбирают скважины с самыми высокими оценками значений;\n",
    "- Определяют регион с максимальной суммарной прибылью отобранных скважин.\n",
    "\n",
    "Имеется информация о пробах нефти в трех регионах. Характеристики для каждой скважины в регионе уже известны. Необходимо построить модель для определения региона, где добыча принесет наибольшую прибыль. Проанализировать прибыль и риски техникой Bootstrap"
   ]
  },
  {
   "cell_type": "markdown",
   "id": "a906e2a2",
   "metadata": {},
   "source": [
    "Условия задачи:\n",
    "- Для обучения модели подходит только линейная регрессия (остальные — недостаточно предсказуемые).\n",
    "- При разведке региона исследуют 500 точек, из которых с помощью машинного обучения выбирают 200 лучших для разработки.\n",
    "- Бюджет на разработку скважин в регионе — 10 млрд рублей.\n",
    "- При нынешних ценах один баррель сырья приносит 450 рублей дохода. Доход с каждой единицы продукта составляет 450 тыс. рублей, поскольку объём указан в тысячах баррелей.\n",
    "- После оценки рисков нужно оставить лишь те регионы, в которых вероятность убытков меньше 2.5%. Среди них выбирают регион с наибольшей средней прибылью.\n",
    "\n",
    "Данные синтетические: детали контрактов и характеристики месторождений не разглашаются."
   ]
  },
  {
   "cell_type": "markdown",
   "id": "742a2bdd",
   "metadata": {},
   "source": [
    "# Шаг 1. Подготовка данных"
   ]
  },
  {
   "cell_type": "code",
   "execution_count": 1,
   "id": "962e3d1d",
   "metadata": {},
   "outputs": [],
   "source": [
    "import pandas as pd\n",
    "from IPython.display import display\n",
    "import numpy as np\n",
    "\n",
    "from sklearn.model_selection import train_test_split\n",
    "from sklearn.linear_model import LinearRegression\n",
    "from sklearn.metrics import mean_squared_error\n",
    "\n",
    "import warnings\n",
    "warnings.filterwarnings(\"ignore\")"
   ]
  },
  {
   "cell_type": "code",
   "execution_count": 2,
   "id": "78bedbd7",
   "metadata": {},
   "outputs": [],
   "source": [
    "try:\n",
    "    data_0 = pd.read_csv('/datasets/geo_data_0.csv')\n",
    "    data_1 = pd.read_csv('/datasets/geo_data_1.csv')\n",
    "    data_2 = pd.read_csv('/datasets/geo_data_2.csv')\n",
    "except FileNotFoundError:\n",
    "    data_0 = pd.read_csv('geo_data_0.csv')\n",
    "    data_1 = pd.read_csv('geo_data_1.csv')\n",
    "    data_2 = pd.read_csv('geo_data_2.csv')"
   ]
  },
  {
   "cell_type": "code",
   "execution_count": 3,
   "id": "b441d22d",
   "metadata": {},
   "outputs": [],
   "source": [
    "# функция открытия набора данных\n",
    "def open_file(df):\n",
    "    display(df.head())\n",
    "    display(df.info())"
   ]
  },
  {
   "cell_type": "code",
   "execution_count": 4,
   "id": "7b1e2dc3",
   "metadata": {},
   "outputs": [
    {
     "data": {
      "text/html": [
       "<div>\n",
       "<style scoped>\n",
       "    .dataframe tbody tr th:only-of-type {\n",
       "        vertical-align: middle;\n",
       "    }\n",
       "\n",
       "    .dataframe tbody tr th {\n",
       "        vertical-align: top;\n",
       "    }\n",
       "\n",
       "    .dataframe thead th {\n",
       "        text-align: right;\n",
       "    }\n",
       "</style>\n",
       "<table border=\"1\" class=\"dataframe\">\n",
       "  <thead>\n",
       "    <tr style=\"text-align: right;\">\n",
       "      <th></th>\n",
       "      <th>id</th>\n",
       "      <th>f0</th>\n",
       "      <th>f1</th>\n",
       "      <th>f2</th>\n",
       "      <th>product</th>\n",
       "    </tr>\n",
       "  </thead>\n",
       "  <tbody>\n",
       "    <tr>\n",
       "      <th>0</th>\n",
       "      <td>txEyH</td>\n",
       "      <td>0.705745</td>\n",
       "      <td>-0.497823</td>\n",
       "      <td>1.221170</td>\n",
       "      <td>105.280062</td>\n",
       "    </tr>\n",
       "    <tr>\n",
       "      <th>1</th>\n",
       "      <td>2acmU</td>\n",
       "      <td>1.334711</td>\n",
       "      <td>-0.340164</td>\n",
       "      <td>4.365080</td>\n",
       "      <td>73.037750</td>\n",
       "    </tr>\n",
       "    <tr>\n",
       "      <th>2</th>\n",
       "      <td>409Wp</td>\n",
       "      <td>1.022732</td>\n",
       "      <td>0.151990</td>\n",
       "      <td>1.419926</td>\n",
       "      <td>85.265647</td>\n",
       "    </tr>\n",
       "    <tr>\n",
       "      <th>3</th>\n",
       "      <td>iJLyR</td>\n",
       "      <td>-0.032172</td>\n",
       "      <td>0.139033</td>\n",
       "      <td>2.978566</td>\n",
       "      <td>168.620776</td>\n",
       "    </tr>\n",
       "    <tr>\n",
       "      <th>4</th>\n",
       "      <td>Xdl7t</td>\n",
       "      <td>1.988431</td>\n",
       "      <td>0.155413</td>\n",
       "      <td>4.751769</td>\n",
       "      <td>154.036647</td>\n",
       "    </tr>\n",
       "  </tbody>\n",
       "</table>\n",
       "</div>"
      ],
      "text/plain": [
       "      id        f0        f1        f2     product\n",
       "0  txEyH  0.705745 -0.497823  1.221170  105.280062\n",
       "1  2acmU  1.334711 -0.340164  4.365080   73.037750\n",
       "2  409Wp  1.022732  0.151990  1.419926   85.265647\n",
       "3  iJLyR -0.032172  0.139033  2.978566  168.620776\n",
       "4  Xdl7t  1.988431  0.155413  4.751769  154.036647"
      ]
     },
     "metadata": {},
     "output_type": "display_data"
    },
    {
     "name": "stdout",
     "output_type": "stream",
     "text": [
      "<class 'pandas.core.frame.DataFrame'>\n",
      "RangeIndex: 100000 entries, 0 to 99999\n",
      "Data columns (total 5 columns):\n",
      " #   Column   Non-Null Count   Dtype  \n",
      "---  ------   --------------   -----  \n",
      " 0   id       100000 non-null  object \n",
      " 1   f0       100000 non-null  float64\n",
      " 2   f1       100000 non-null  float64\n",
      " 3   f2       100000 non-null  float64\n",
      " 4   product  100000 non-null  float64\n",
      "dtypes: float64(4), object(1)\n",
      "memory usage: 3.8+ MB\n"
     ]
    },
    {
     "data": {
      "text/plain": [
       "None"
      ]
     },
     "metadata": {},
     "output_type": "display_data"
    }
   ],
   "source": [
    "open_file(data_0)"
   ]
  },
  {
   "cell_type": "code",
   "execution_count": 5,
   "id": "74f51942",
   "metadata": {},
   "outputs": [
    {
     "data": {
      "text/html": [
       "<div>\n",
       "<style scoped>\n",
       "    .dataframe tbody tr th:only-of-type {\n",
       "        vertical-align: middle;\n",
       "    }\n",
       "\n",
       "    .dataframe tbody tr th {\n",
       "        vertical-align: top;\n",
       "    }\n",
       "\n",
       "    .dataframe thead th {\n",
       "        text-align: right;\n",
       "    }\n",
       "</style>\n",
       "<table border=\"1\" class=\"dataframe\">\n",
       "  <thead>\n",
       "    <tr style=\"text-align: right;\">\n",
       "      <th></th>\n",
       "      <th>id</th>\n",
       "      <th>f0</th>\n",
       "      <th>f1</th>\n",
       "      <th>f2</th>\n",
       "      <th>product</th>\n",
       "    </tr>\n",
       "  </thead>\n",
       "  <tbody>\n",
       "    <tr>\n",
       "      <th>0</th>\n",
       "      <td>kBEdx</td>\n",
       "      <td>-15.001348</td>\n",
       "      <td>-8.276000</td>\n",
       "      <td>-0.005876</td>\n",
       "      <td>3.179103</td>\n",
       "    </tr>\n",
       "    <tr>\n",
       "      <th>1</th>\n",
       "      <td>62mP7</td>\n",
       "      <td>14.272088</td>\n",
       "      <td>-3.475083</td>\n",
       "      <td>0.999183</td>\n",
       "      <td>26.953261</td>\n",
       "    </tr>\n",
       "    <tr>\n",
       "      <th>2</th>\n",
       "      <td>vyE1P</td>\n",
       "      <td>6.263187</td>\n",
       "      <td>-5.948386</td>\n",
       "      <td>5.001160</td>\n",
       "      <td>134.766305</td>\n",
       "    </tr>\n",
       "    <tr>\n",
       "      <th>3</th>\n",
       "      <td>KcrkZ</td>\n",
       "      <td>-13.081196</td>\n",
       "      <td>-11.506057</td>\n",
       "      <td>4.999415</td>\n",
       "      <td>137.945408</td>\n",
       "    </tr>\n",
       "    <tr>\n",
       "      <th>4</th>\n",
       "      <td>AHL4O</td>\n",
       "      <td>12.702195</td>\n",
       "      <td>-8.147433</td>\n",
       "      <td>5.004363</td>\n",
       "      <td>134.766305</td>\n",
       "    </tr>\n",
       "  </tbody>\n",
       "</table>\n",
       "</div>"
      ],
      "text/plain": [
       "      id         f0         f1        f2     product\n",
       "0  kBEdx -15.001348  -8.276000 -0.005876    3.179103\n",
       "1  62mP7  14.272088  -3.475083  0.999183   26.953261\n",
       "2  vyE1P   6.263187  -5.948386  5.001160  134.766305\n",
       "3  KcrkZ -13.081196 -11.506057  4.999415  137.945408\n",
       "4  AHL4O  12.702195  -8.147433  5.004363  134.766305"
      ]
     },
     "metadata": {},
     "output_type": "display_data"
    },
    {
     "name": "stdout",
     "output_type": "stream",
     "text": [
      "<class 'pandas.core.frame.DataFrame'>\n",
      "RangeIndex: 100000 entries, 0 to 99999\n",
      "Data columns (total 5 columns):\n",
      " #   Column   Non-Null Count   Dtype  \n",
      "---  ------   --------------   -----  \n",
      " 0   id       100000 non-null  object \n",
      " 1   f0       100000 non-null  float64\n",
      " 2   f1       100000 non-null  float64\n",
      " 3   f2       100000 non-null  float64\n",
      " 4   product  100000 non-null  float64\n",
      "dtypes: float64(4), object(1)\n",
      "memory usage: 3.8+ MB\n"
     ]
    },
    {
     "data": {
      "text/plain": [
       "None"
      ]
     },
     "metadata": {},
     "output_type": "display_data"
    }
   ],
   "source": [
    "open_file(data_1)"
   ]
  },
  {
   "cell_type": "code",
   "execution_count": 6,
   "id": "b36aad2f",
   "metadata": {},
   "outputs": [
    {
     "data": {
      "text/html": [
       "<div>\n",
       "<style scoped>\n",
       "    .dataframe tbody tr th:only-of-type {\n",
       "        vertical-align: middle;\n",
       "    }\n",
       "\n",
       "    .dataframe tbody tr th {\n",
       "        vertical-align: top;\n",
       "    }\n",
       "\n",
       "    .dataframe thead th {\n",
       "        text-align: right;\n",
       "    }\n",
       "</style>\n",
       "<table border=\"1\" class=\"dataframe\">\n",
       "  <thead>\n",
       "    <tr style=\"text-align: right;\">\n",
       "      <th></th>\n",
       "      <th>id</th>\n",
       "      <th>f0</th>\n",
       "      <th>f1</th>\n",
       "      <th>f2</th>\n",
       "      <th>product</th>\n",
       "    </tr>\n",
       "  </thead>\n",
       "  <tbody>\n",
       "    <tr>\n",
       "      <th>0</th>\n",
       "      <td>fwXo0</td>\n",
       "      <td>-1.146987</td>\n",
       "      <td>0.963328</td>\n",
       "      <td>-0.828965</td>\n",
       "      <td>27.758673</td>\n",
       "    </tr>\n",
       "    <tr>\n",
       "      <th>1</th>\n",
       "      <td>WJtFt</td>\n",
       "      <td>0.262778</td>\n",
       "      <td>0.269839</td>\n",
       "      <td>-2.530187</td>\n",
       "      <td>56.069697</td>\n",
       "    </tr>\n",
       "    <tr>\n",
       "      <th>2</th>\n",
       "      <td>ovLUW</td>\n",
       "      <td>0.194587</td>\n",
       "      <td>0.289035</td>\n",
       "      <td>-5.586433</td>\n",
       "      <td>62.871910</td>\n",
       "    </tr>\n",
       "    <tr>\n",
       "      <th>3</th>\n",
       "      <td>q6cA6</td>\n",
       "      <td>2.236060</td>\n",
       "      <td>-0.553760</td>\n",
       "      <td>0.930038</td>\n",
       "      <td>114.572842</td>\n",
       "    </tr>\n",
       "    <tr>\n",
       "      <th>4</th>\n",
       "      <td>WPMUX</td>\n",
       "      <td>-0.515993</td>\n",
       "      <td>1.716266</td>\n",
       "      <td>5.899011</td>\n",
       "      <td>149.600746</td>\n",
       "    </tr>\n",
       "  </tbody>\n",
       "</table>\n",
       "</div>"
      ],
      "text/plain": [
       "      id        f0        f1        f2     product\n",
       "0  fwXo0 -1.146987  0.963328 -0.828965   27.758673\n",
       "1  WJtFt  0.262778  0.269839 -2.530187   56.069697\n",
       "2  ovLUW  0.194587  0.289035 -5.586433   62.871910\n",
       "3  q6cA6  2.236060 -0.553760  0.930038  114.572842\n",
       "4  WPMUX -0.515993  1.716266  5.899011  149.600746"
      ]
     },
     "metadata": {},
     "output_type": "display_data"
    },
    {
     "name": "stdout",
     "output_type": "stream",
     "text": [
      "<class 'pandas.core.frame.DataFrame'>\n",
      "RangeIndex: 100000 entries, 0 to 99999\n",
      "Data columns (total 5 columns):\n",
      " #   Column   Non-Null Count   Dtype  \n",
      "---  ------   --------------   -----  \n",
      " 0   id       100000 non-null  object \n",
      " 1   f0       100000 non-null  float64\n",
      " 2   f1       100000 non-null  float64\n",
      " 3   f2       100000 non-null  float64\n",
      " 4   product  100000 non-null  float64\n",
      "dtypes: float64(4), object(1)\n",
      "memory usage: 3.8+ MB\n"
     ]
    },
    {
     "data": {
      "text/plain": [
       "None"
      ]
     },
     "metadata": {},
     "output_type": "display_data"
    }
   ],
   "source": [
    "open_file(data_2)"
   ]
  },
  {
   "cell_type": "markdown",
   "id": "a442013b",
   "metadata": {},
   "source": [
    "Описание данных от заказчика\n",
    "- id — уникальный идентификатор скважины;\n",
    "- f0, f1, f2 — три признака точек (неважно, что они означают, но сами признаки значимы);\n",
    "- product — объём запасов в скважине (тыс. баррелей)."
   ]
  },
  {
   "cell_type": "markdown",
   "id": "41caec60",
   "metadata": {},
   "source": [
    "<b>Предварительный вывод</b>\n",
    "- данные загружены\n",
    "- пропусков в таблицах нет\n",
    "- данные соответствуют описанию"
   ]
  },
  {
   "cell_type": "markdown",
   "id": "5bec431c",
   "metadata": {},
   "source": [
    "<b>Выводы</b>\n",
    "- данные загружены\n",
    "- пропусков нет\n",
    "- проанализированы все три локации:\n",
    "    - большая часть данных распределена нормально\n",
    "    - в некоторые столбцах имеются выбросы, но они не влияют на распределение данных\n",
    "    - неизвестные данные в столбцах f0, f1, f2 имеют сопоставимые порядки величин"
   ]
  },
  {
   "cell_type": "markdown",
   "id": "3b01bbd3",
   "metadata": {},
   "source": [
    "# Шаг 2. Обучение модели лин.рег. и проверка ее на каждом регионе"
   ]
  },
  {
   "cell_type": "markdown",
   "id": "1c594586",
   "metadata": {},
   "source": [
    "Для начала разделим данные на признаки и целевой"
   ]
  },
  {
   "cell_type": "code",
   "execution_count": 7,
   "id": "a9f6012b",
   "metadata": {},
   "outputs": [],
   "source": [
    "features_geo_0 = data_0.drop(['product', 'id'], axis=1)\n",
    "target_geo_0 = data_0['product']\n",
    "\n",
    "features_geo_1 = data_1.drop(['product', 'id'], axis=1)\n",
    "target_geo_1 = data_1['product']\n",
    "\n",
    "features_geo_2 = data_2.drop(['product', 'id'], axis=1)\n",
    "target_geo_2 = data_2['product']"
   ]
  },
  {
   "cell_type": "code",
   "execution_count": 8,
   "id": "8cf6fb9b",
   "metadata": {},
   "outputs": [],
   "source": [
    "def model_fit(features, target): \n",
    "    features_train, features_valid, target_train, target_valid = train_test_split(features, target, \\\n",
    "                                                                            test_size=0.25, random_state=12345)\n",
    "    print('-----------------------------------------------------')\n",
    "    print('Общий размер выборки:', features.shape)\n",
    "    print('Размер тренировочной выборки:', features_train.shape)\n",
    "    print('Размер валидационной выборки:', features_valid.shape)\n",
    "    \n",
    "    model = LinearRegression()\n",
    "    model.fit(features_train, target_train)\n",
    "    predicted_valid = model.predict(features_valid)\n",
    "    predicted_valid_mean = predicted_valid.mean()\n",
    "    rmse = mean_squared_error(target_valid, predicted_valid) ** .5\n",
    "    \n",
    "    print('Среднее кол-во сырья в локации:', round(predicted_valid_mean, 3))\n",
    "    print('RMSE:', round(rmse, 3))\n",
    "    print('-----------------------------------------------------')\n",
    "    print()\n",
    "    \n",
    "    return target_valid, predicted_valid"
   ]
  },
  {
   "cell_type": "code",
   "execution_count": 9,
   "id": "8f90980a",
   "metadata": {},
   "outputs": [
    {
     "name": "stdout",
     "output_type": "stream",
     "text": [
      "-----------------------------------------------------\n",
      "Общий размер выборки: (100000, 3)\n",
      "Размер тренировочной выборки: (75000, 3)\n",
      "Размер валидационной выборки: (25000, 3)\n",
      "Среднее кол-во сырья в локации: 92.593\n",
      "RMSE: 37.579\n",
      "-----------------------------------------------------\n",
      "\n",
      "-----------------------------------------------------\n",
      "Общий размер выборки: (100000, 3)\n",
      "Размер тренировочной выборки: (75000, 3)\n",
      "Размер валидационной выборки: (25000, 3)\n",
      "Среднее кол-во сырья в локации: 68.729\n",
      "RMSE: 0.893\n",
      "-----------------------------------------------------\n",
      "\n",
      "-----------------------------------------------------\n",
      "Общий размер выборки: (100000, 3)\n",
      "Размер тренировочной выборки: (75000, 3)\n",
      "Размер валидационной выборки: (25000, 3)\n",
      "Среднее кол-во сырья в локации: 94.965\n",
      "RMSE: 40.03\n",
      "-----------------------------------------------------\n",
      "\n"
     ]
    }
   ],
   "source": [
    "# локация 0\n",
    "target_geo_0_valid, predicted_geo_0_valid = model_fit(features_geo_0, target_geo_0)\n",
    "\n",
    "# локация 1\n",
    "target_geo_1_valid, predicted_geo_1_valid = model_fit(features_geo_1, target_geo_1)\n",
    "\n",
    "# локация 2\n",
    "target_geo_2_valid, predicted_geo_2_valid = model_fit(features_geo_2, target_geo_2)"
   ]
  },
  {
   "cell_type": "markdown",
   "id": "d58df4a0",
   "metadata": {},
   "source": [
    "<b>Вывод</b>\n",
    "- в локациях 0 и 2 на 30% больше сырья чем в локации 1\n",
    "- RMSE в локация 0 и 2 на порядки больше чем в локации 1, что свидетельствует о том, что сырья в локации 1 в среднем предсказано меньше, но данный прогноз в разы точнее чем в локациях 0 и 1"
   ]
  },
  {
   "cell_type": "markdown",
   "id": "9a5f10e6",
   "metadata": {},
   "source": [
    "# Шаг 3. Подготовка к расчету прибыли"
   ]
  },
  {
   "cell_type": "markdown",
   "id": "d6205cf2",
   "metadata": {},
   "source": [
    "- объем средств для освоения - 10 млрд\n",
    "- кол-во скважин - 200\n",
    "- доход с одной единицы сырья - 450 тыс"
   ]
  },
  {
   "cell_type": "code",
   "execution_count": 10,
   "id": "261009c8",
   "metadata": {},
   "outputs": [],
   "source": [
    "BUDGET = 10 ** 10\n",
    "TOP_WELL = 200\n",
    "WELL_INCOME = 450 * 10 ** 3"
   ]
  },
  {
   "cell_type": "code",
   "execution_count": 11,
   "id": "60142d71",
   "metadata": {},
   "outputs": [
    {
     "name": "stdout",
     "output_type": "stream",
     "text": [
      "Минимальный объем нефти с одной скважины: 111.11\n"
     ]
    }
   ],
   "source": [
    "min_brent_amount = BUDGET / TOP_WELL / WELL_INCOME\n",
    "print('Минимальный объем нефти с одной скважины:', round(min_brent_amount, 2))"
   ]
  },
  {
   "cell_type": "markdown",
   "id": "f7185c72",
   "metadata": {},
   "source": [
    "# Шаг 4. Расчет прибыли"
   ]
  },
  {
   "cell_type": "markdown",
   "id": "dde4bec6",
   "metadata": {},
   "source": [
    "Напишем функции для расчета прибыли и убытков"
   ]
  },
  {
   "cell_type": "code",
   "execution_count": 12,
   "id": "44852529",
   "metadata": {},
   "outputs": [],
   "source": [
    "target_geo_0_valid = target_geo_0_valid.reset_index(drop=True)\n",
    "target_geo_1_valid = target_geo_1_valid.reset_index(drop=True)\n",
    "target_geo_2_valid = target_geo_2_valid.reset_index(drop=True)\n",
    "\n",
    "predicted_geo_0_valid = pd.Series(predicted_geo_0_valid)\n",
    "predicted_geo_1_valid = pd.Series(predicted_geo_1_valid)\n",
    "predicted_geo_2_valid = pd.Series(predicted_geo_2_valid)"
   ]
  },
  {
   "cell_type": "markdown",
   "id": "9d0dec06",
   "metadata": {},
   "source": [
    "Напишем функцию для расчета прибыли по выбранным скважинам и предсказаниями модели для получения целевого объема сырья исходя из предсказаний и прибыли"
   ]
  },
  {
   "cell_type": "code",
   "execution_count": 13,
   "id": "61e06588",
   "metadata": {},
   "outputs": [],
   "source": [
    "state = np.random.RandomState(12345)\n",
    "\n",
    "def predicted_income(target, predictions, name):\n",
    "    sample_preds = predictions.sample(n=500, replace=True, random_state=state)\n",
    "    top_preds = sample_preds.sort_values(ascending=False)[:TOP_WELL]\n",
    "    top_targets = target[top_preds.index]\n",
    "    top_wells_mean = top_targets.mean()\n",
    "    print('-----------------------------------------------------')\n",
    "    print('Локация: ' + name)\n",
    "    print('Средний запас сырья среди скважин с максимальным показателем: {:.2f}'.format(top_wells_mean))\n",
    "    print('-----------------------------------------------------')\n",
    "    print()"
   ]
  },
  {
   "cell_type": "code",
   "execution_count": 14,
   "id": "97cafd7a",
   "metadata": {},
   "outputs": [
    {
     "name": "stdout",
     "output_type": "stream",
     "text": [
      "-----------------------------------------------------\n",
      "Локация: geo_0\n",
      "Средний запас сырья среди скважин с максимальным показателем: 117.84\n",
      "-----------------------------------------------------\n",
      "\n",
      "-----------------------------------------------------\n",
      "Локация: geo_1\n",
      "Средний запас сырья среди скважин с максимальным показателем: 114.83\n",
      "-----------------------------------------------------\n",
      "\n",
      "-----------------------------------------------------\n",
      "Локация: geo_2\n",
      "Средний запас сырья среди скважин с максимальным показателем: 118.07\n",
      "-----------------------------------------------------\n",
      "\n"
     ]
    }
   ],
   "source": [
    "for target, prediction, name in [(target_geo_0_valid, predicted_geo_0_valid, 'geo_0'), \n",
    "                                 (target_geo_1_valid, predicted_geo_1_valid, 'geo_1'), \n",
    "                                 (target_geo_2_valid, predicted_geo_2_valid, 'geo_2')]:\n",
    "    predicted_income(target, prediction, name)"
   ]
  },
  {
   "cell_type": "markdown",
   "id": "32595ee3",
   "metadata": {},
   "source": [
    "<b>Вывод</b>\n",
    "- средний запас сырья в скважинах с максимальным показателем превосходит минимально необходимый на всех локациях"
   ]
  },
  {
   "cell_type": "markdown",
   "id": "b4ff725f",
   "metadata": {},
   "source": [
    "# Шаг 5. Расчет прибыли и рисков для каждой локации"
   ]
  },
  {
   "cell_type": "code",
   "execution_count": 15,
   "id": "34086d03",
   "metadata": {},
   "outputs": [],
   "source": [
    "def profit(target, predictions):\n",
    "    pred_sorted = predictions.sort_values(ascending=False)\n",
    "    selected = target[pred_sorted.index][:TOP_WELL]\n",
    "    return (selected.sum() * WELL_INCOME - BUDGET) / 1_000_000"
   ]
  },
  {
   "cell_type": "code",
   "execution_count": 16,
   "id": "b7a30534",
   "metadata": {},
   "outputs": [],
   "source": [
    "def result(target,predictions, name):\n",
    "    values = []\n",
    "    for i in range(1000):\n",
    "        target_subsample = target.sample(n=500, replace=True, random_state=state)\n",
    "        probs_subsample = predictions[target_subsample.index]\n",
    "        result = profit(target_subsample, probs_subsample)\n",
    "        values.append(result)\n",
    "    values = pd.Series(values)\n",
    "#     percentage_of_negative = (values[values < 0].count() / len(values)) * 100\n",
    "    percentage_of_negative = (values < 0).mean() * 100\n",
    "    mean = values.mean()\n",
    "    lower = values.quantile(0.025)\n",
    "    upper = values.quantile(0.975)\n",
    "    print('-----------------------------------------------------')\n",
    "    print('Локация: ' + name)\n",
    "    print(f'Средняя прогнозная прибыль равняется {mean:.2f} млн')\n",
    "    print(f'С вероятностью 95% прибыль составит от {lower:.2f} до {upper:.2f} млн')\n",
    "    print(f'Риск убытков составляет {percentage_of_negative}%')\n",
    "    print('-----------------------------------------------------')\n",
    "    print()"
   ]
  },
  {
   "cell_type": "code",
   "execution_count": 17,
   "id": "b85eaaf5",
   "metadata": {},
   "outputs": [
    {
     "name": "stdout",
     "output_type": "stream",
     "text": [
      "-----------------------------------------------------\n",
      "Локация: geo_0\n",
      "Средняя прогнозная прибыль равняется 425.18 млн\n",
      "С вероятностью 95% прибыль составит от -102.09 до 947.98 млн\n",
      "Риск убытков составляет 6.0%\n",
      "-----------------------------------------------------\n",
      "\n",
      "-----------------------------------------------------\n",
      "Локация: geo_1\n",
      "Средняя прогнозная прибыль равняется 519.38 млн\n",
      "С вероятностью 95% прибыль составит от 131.58 до 953.61 млн\n",
      "Риск убытков составляет 0.3%\n",
      "-----------------------------------------------------\n",
      "\n",
      "-----------------------------------------------------\n",
      "Локация: geo_2\n",
      "Средняя прогнозная прибыль равняется 419.92 млн\n",
      "С вероятностью 95% прибыль составит от -115.85 до 989.63 млн\n",
      "Риск убытков составляет 6.2%\n",
      "-----------------------------------------------------\n",
      "\n"
     ]
    }
   ],
   "source": [
    "for target, prediction, name in [(target_geo_0_valid, predicted_geo_0_valid, 'geo_0'), \n",
    "                                 (target_geo_1_valid, predicted_geo_1_valid, 'geo_1'), \n",
    "                                 (target_geo_2_valid, predicted_geo_2_valid, 'geo_2')]:\n",
    "    result(target, prediction, name)"
   ]
  },
  {
   "cell_type": "markdown",
   "id": "c4f1323b",
   "metadata": {},
   "source": [
    "<b>Выводы</b>\n",
    "- Самая высокая оценка средней прибыли в локации 1 - 503.44 млн.\n",
    "- Только в локации 1 разработка безубыточная в 95% доверительном интервале\n",
    "- риск убытков для для локации 1 0.9%"
   ]
  },
  {
   "cell_type": "markdown",
   "id": "6de9c30a",
   "metadata": {},
   "source": [
    "# Шаг 6. Выводы"
   ]
  },
  {
   "cell_type": "markdown",
   "id": "6252196e",
   "metadata": {},
   "source": [
    "1. Загрузка данных\n",
    "    - данные загружены\n",
    "    - пропусков нет\n",
    "    - наблюдаются небольшие выбросы\n",
    "2. Начальное построение модели:\n",
    "    - в локациях 0 и 2 на 30% больше сырья чем в локации 1\n",
    "    - RMSE в локация 0 и 2 на порядки больше чем в локации 1, что свидетельствует о том, что сырья в локации 1 в среднем предсказано меньше, но данный прогноз в разы точнее чем в локациях 0 и 1\n",
    "    - средние показатели сырья ниже минимально необходимого\n",
    "3. Необходимый минимальный запас сырья при имеющимся бюджете - 111,11\n",
    "4. Запас сырья в 200 наилучших скважинах в среднем превосходит минимально необходимый во всех локациях\n",
    "5. Оценка прибылей и убытков\n",
    "    - Самая высокая оценка средней прибыли в локации 1 - 503.44 млн.\n",
    "    - Только в локации 1 разработка безубыточная в 95% доверительном интервале\n",
    "    - риск убытков для для локации 1 0.9%\n",
    "    \n",
    "В итоге рекомендована разработка в локации 1"
   ]
  }
 ],
 "metadata": {
  "kernelspec": {
   "display_name": "Python 3 (ipykernel)",
   "language": "python",
   "name": "python3"
  },
  "language_info": {
   "codemirror_mode": {
    "name": "ipython",
    "version": 3
   },
   "file_extension": ".py",
   "mimetype": "text/x-python",
   "name": "python",
   "nbconvert_exporter": "python",
   "pygments_lexer": "ipython3",
   "version": "3.10.4"
  },
  "toc": {
   "base_numbering": 1,
   "nav_menu": {},
   "number_sections": true,
   "sideBar": true,
   "skip_h1_title": true,
   "title_cell": "Table of Contents",
   "title_sidebar": "Contents",
   "toc_cell": false,
   "toc_position": {},
   "toc_section_display": true,
   "toc_window_display": false
  }
 },
 "nbformat": 4,
 "nbformat_minor": 5
}
