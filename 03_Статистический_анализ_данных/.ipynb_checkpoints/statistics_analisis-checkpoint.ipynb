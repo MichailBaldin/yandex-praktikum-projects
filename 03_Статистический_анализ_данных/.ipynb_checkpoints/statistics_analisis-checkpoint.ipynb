{
 "cells": [
  {
   "cell_type": "markdown",
   "id": "81fba534",
   "metadata": {},
   "source": [
    "## Описание проекта"
   ]
  },
  {
   "cell_type": "markdown",
   "id": "ca17dd1a",
   "metadata": {},
   "source": [
    "Коммерческий департамент федерального сотового оператора предоставил выборку из 500 пользователей за 2018 год с целью корректировки рекламного бюджета. Для решения данной задачи необходимо проанализировать поведение клиентов и выяснить какой тариф лучше"
   ]
  },
  {
   "cell_type": "markdown",
   "id": "cf39cb13",
   "metadata": {},
   "source": [
    "## Описание тарифов"
   ]
  },
  {
   "cell_type": "markdown",
   "id": "ef1c9f6f",
   "metadata": {},
   "source": [
    "Тариф «Смарт». Ежемесячная плата: 550 рублей. Включено 500 минут разговора, 50 сообщений и 15 Гб интернет-трафика.\n",
    "    \n",
    "Стоимость услуг сверх тарифного пакета:\n",
    "- минута разговора: 3 рубля\n",
    "- сообщение: 3 рубля\n",
    "- 1 Гб интернет-трафика: 200 рублей\n",
    "\n",
    "Тариф «Ультра». Ежемесячная плата: 1950 рублей. Включено 3000 минут разговора, 1000 сообщений и 30 Гб интернет-трафика.\n",
    "\n",
    "Стоимость услуг сверх тарифного пакета:\n",
    "- минута разговора: 1 рубль\n",
    "- сообщение: 1 рубль\n",
    "- 1 Гб интернет-трафика: 150 рублей"
   ]
  },
  {
   "cell_type": "markdown",
   "id": "f4469821",
   "metadata": {},
   "source": [
    "## Примечания учета оказанных услуг\n",
    "«Мегалайн» всегда округляет секунды до минут, а мегабайты — до гигабайт. Каждый звонок округляется отдельно: даже если он длился всего 1 секунду, будет засчитан как 1 минута.\n",
    "Для веб-трафика отдельные сессии не считаются. Вместо этого общая сумма за месяц округляется в бо́льшую сторону. Если абонент использует 1025 мегабайт в этом месяце, с него возьмут плату за 2 гигабайта."
   ]
  },
  {
   "cell_type": "markdown",
   "id": "2a3a7dc5",
   "metadata": {},
   "source": [
    "# Описание данных"
   ]
  },
  {
   "cell_type": "markdown",
   "id": "2dd68851",
   "metadata": {},
   "source": [
    "Таблица users (информация о пользователях):\n",
    "- user_id — уникальный идентификатор пользователя\n",
    "- first_name — имя пользователя\n",
    "- last_name — фамилия пользователя\n",
    "- age — возраст пользователя (годы)\n",
    "- reg_date — дата подключения тарифа (день, месяц, год)\n",
    "- churn_date — дата прекращения пользования тарифом (если значение пропущено, то тариф ещё действовал на момент выгрузки данных)\n",
    "- city — город проживания пользователя\n",
    "- tarif — название тарифного плана\n",
    "\n",
    "Таблица calls (информация о звонках):\n",
    "- id — уникальный номер звонка\n",
    "- call_date — дата звонка\n",
    "- duration — длительность звонка в минутах\n",
    "- user_id — идентификатор пользователя, сделавшего звонок\n",
    "\n",
    "Таблица messages (информация о сообщениях):\n",
    "- id — уникальный номер сообщения\n",
    "- message_date — дата сообщения\n",
    "- user_id — идентификатор пользователя, отправившего сообщение\n",
    "\n",
    "Таблица internet (информация об интернет-сессиях):\n",
    "- id — уникальный номер сессии\n",
    "- mb_used — объём потраченного за сессию интернет-трафика (в мегабайтах)\n",
    "- session_date — дата интернет-сессии\n",
    "- user_id — идентификатор пользователя\n",
    "\n",
    "Таблица tariffs (информация о тарифах):\n",
    "- tariff_name — название тарифа\n",
    "- rub_monthly_fee — ежемесячная абонентская плата в рублях\n",
    "- minutes_included — количество минут разговора в месяц, включённых в абонентскую плату\n",
    "- messages_included — количество сообщений в месяц, включённых в абонентскую плату\n",
    "- mb_per_month_included — объём интернет-трафика, включённого в абонентскую плату (в мегабайтах)\n",
    "- rub_per_minute — стоимость минуты разговора сверх тарифного пакета (например, если в тарифе 100 минут разговора в месяц, то со 101 минуты будет взиматься плата)\n",
    "- rub_per_message — стоимость отправки сообщения сверх тарифного пакета\n",
    "- rub_per_gb — стоимость дополнительного гигабайта интернет-трафика сверх тарифного пакета (1 гигабайт = 1024 мегабайта)"
   ]
  },
  {
   "cell_type": "markdown",
   "id": "5337fcd0",
   "metadata": {},
   "source": [
    "# Шаг 1"
   ]
  },
  {
   "cell_type": "code",
   "execution_count": 1,
   "id": "0ca5a101",
   "metadata": {},
   "outputs": [],
   "source": [
    "# импортируем необходимые библиотеки и настройки отображения\n",
    "import pandas as pd\n",
    "import math\n",
    "import numpy as np\n",
    "import scipy.stats as st\n",
    "import matplotlib.pyplot as plt\n",
    "%matplotlib inline\n",
    "pd.options.display.float_format ='{:,.2f}'.format"
   ]
  },
  {
   "cell_type": "code",
   "execution_count": 2,
   "id": "2c9bbcac",
   "metadata": {},
   "outputs": [],
   "source": [
    "# Открываем датасеты\n",
    "try:\n",
    "    calls = pd.read_csv('/datasets/calls.csv')\n",
    "    internet = pd.read_csv('/datasets/internet.csv')\n",
    "    messages = pd.read_csv('/datasets/messages.csv')\n",
    "    tariffs = pd.read_csv('/datasets/tariffs.csv')\n",
    "    users = pd.read_csv('/datasets/users.csv')\n",
    "except FileNotFoundError:\n",
    "    calls = pd.read_csv('calls.csv')\n",
    "    internet = pd.read_csv('internet.csv')\n",
    "    messages = pd.read_csv('messages.csv')\n",
    "    tariffs = pd.read_csv('tariffs.csv')\n",
    "    users = pd.read_csv('users.csv')"
   ]
  },
  {
   "cell_type": "markdown",
   "id": "ba8114b6",
   "metadata": {},
   "source": [
    "# Шаг 2"
   ]
  },
  {
   "cell_type": "code",
   "execution_count": 3,
   "id": "4168772d",
   "metadata": {},
   "outputs": [
    {
     "name": "stdout",
     "output_type": "stream",
     "text": [
      "<class 'pandas.core.frame.DataFrame'>\n",
      "RangeIndex: 202607 entries, 0 to 202606\n",
      "Data columns (total 4 columns):\n",
      " #   Column     Non-Null Count   Dtype  \n",
      "---  ------     --------------   -----  \n",
      " 0   id         202607 non-null  object \n",
      " 1   call_date  202607 non-null  object \n",
      " 2   duration   202607 non-null  float64\n",
      " 3   user_id    202607 non-null  int64  \n",
      "dtypes: float64(1), int64(1), object(2)\n",
      "memory usage: 6.2+ MB\n"
     ]
    }
   ],
   "source": [
    "# файл calls\n",
    "calls.info()"
   ]
  },
  {
   "cell_type": "markdown",
   "id": "ac261bd9",
   "metadata": {},
   "source": [
    "Пропусков нет, названия столбцов в норме."
   ]
  },
  {
   "cell_type": "code",
   "execution_count": 4,
   "id": "70729bb0",
   "metadata": {},
   "outputs": [
    {
     "data": {
      "text/html": [
       "<div>\n",
       "<style scoped>\n",
       "    .dataframe tbody tr th:only-of-type {\n",
       "        vertical-align: middle;\n",
       "    }\n",
       "\n",
       "    .dataframe tbody tr th {\n",
       "        vertical-align: top;\n",
       "    }\n",
       "\n",
       "    .dataframe thead th {\n",
       "        text-align: right;\n",
       "    }\n",
       "</style>\n",
       "<table border=\"1\" class=\"dataframe\">\n",
       "  <thead>\n",
       "    <tr style=\"text-align: right;\">\n",
       "      <th></th>\n",
       "      <th>id</th>\n",
       "      <th>call_date</th>\n",
       "      <th>duration</th>\n",
       "      <th>user_id</th>\n",
       "    </tr>\n",
       "  </thead>\n",
       "  <tbody>\n",
       "    <tr>\n",
       "      <th>147491</th>\n",
       "      <td>1375_322</td>\n",
       "      <td>2018-03-25</td>\n",
       "      <td>6.69</td>\n",
       "      <td>1375</td>\n",
       "    </tr>\n",
       "    <tr>\n",
       "      <th>182623</th>\n",
       "      <td>1454_375</td>\n",
       "      <td>2018-12-30</td>\n",
       "      <td>15.68</td>\n",
       "      <td>1454</td>\n",
       "    </tr>\n",
       "    <tr>\n",
       "      <th>13298</th>\n",
       "      <td>1034_237</td>\n",
       "      <td>2018-10-26</td>\n",
       "      <td>4.63</td>\n",
       "      <td>1034</td>\n",
       "    </tr>\n",
       "    <tr>\n",
       "      <th>27723</th>\n",
       "      <td>1068_75</td>\n",
       "      <td>2018-12-04</td>\n",
       "      <td>17.67</td>\n",
       "      <td>1068</td>\n",
       "    </tr>\n",
       "    <tr>\n",
       "      <th>145428</th>\n",
       "      <td>1367_150</td>\n",
       "      <td>2018-09-19</td>\n",
       "      <td>4.29</td>\n",
       "      <td>1367</td>\n",
       "    </tr>\n",
       "    <tr>\n",
       "      <th>182058</th>\n",
       "      <td>1453_1250</td>\n",
       "      <td>2018-06-20</td>\n",
       "      <td>4.08</td>\n",
       "      <td>1453</td>\n",
       "    </tr>\n",
       "    <tr>\n",
       "      <th>13018</th>\n",
       "      <td>1033_269</td>\n",
       "      <td>2018-09-23</td>\n",
       "      <td>10.89</td>\n",
       "      <td>1033</td>\n",
       "    </tr>\n",
       "    <tr>\n",
       "      <th>71599</th>\n",
       "      <td>1178_359</td>\n",
       "      <td>2018-09-26</td>\n",
       "      <td>0.00</td>\n",
       "      <td>1178</td>\n",
       "    </tr>\n",
       "    <tr>\n",
       "      <th>13255</th>\n",
       "      <td>1034_194</td>\n",
       "      <td>2018-09-09</td>\n",
       "      <td>2.73</td>\n",
       "      <td>1034</td>\n",
       "    </tr>\n",
       "    <tr>\n",
       "      <th>55562</th>\n",
       "      <td>1142_206</td>\n",
       "      <td>2018-04-30</td>\n",
       "      <td>0.77</td>\n",
       "      <td>1142</td>\n",
       "    </tr>\n",
       "  </tbody>\n",
       "</table>\n",
       "</div>"
      ],
      "text/plain": [
       "               id   call_date  duration  user_id\n",
       "147491   1375_322  2018-03-25      6.69     1375\n",
       "182623   1454_375  2018-12-30     15.68     1454\n",
       "13298    1034_237  2018-10-26      4.63     1034\n",
       "27723     1068_75  2018-12-04     17.67     1068\n",
       "145428   1367_150  2018-09-19      4.29     1367\n",
       "182058  1453_1250  2018-06-20      4.08     1453\n",
       "13018    1033_269  2018-09-23     10.89     1033\n",
       "71599    1178_359  2018-09-26      0.00     1178\n",
       "13255    1034_194  2018-09-09      2.73     1034\n",
       "55562    1142_206  2018-04-30      0.77     1142"
      ]
     },
     "execution_count": 4,
     "metadata": {},
     "output_type": "execute_result"
    }
   ],
   "source": [
    "calls.sample(10)"
   ]
  },
  {
   "cell_type": "markdown",
   "id": "cf01ad8c",
   "metadata": {},
   "source": [
    "<div class = \"alert alert-info\" >\n",
    "<h3>Комментарий студента</h3>\n",
    "Какой смысл фиксации зерна в методе .sample(). При работе с псевдослучайностями согласен. Всем заинтересованным сторонам должна выпадать одна \"случайность\". Но в данном конкретном случае я использовал .sample() просто для вывода. Можно было и обычным .head() ограничится\n",
    "</div>"
   ]
  },
  {
   "cell_type": "code",
   "execution_count": 5,
   "id": "4303d57e",
   "metadata": {},
   "outputs": [],
   "source": [
    "# приводим столбец call_date к типу datetime\n",
    "calls.call_date = pd.to_datetime(calls.call_date, format='%Y-%m-%d')"
   ]
  },
  {
   "cell_type": "code",
   "execution_count": 6,
   "id": "bfdc060e",
   "metadata": {},
   "outputs": [],
   "source": [
    "# согласно правилам учета звонков округляем до минут звонки\n",
    "def ceil_duration(value):\n",
    "    return math.ceil(value)\n",
    "calls.duration = calls.duration.apply(ceil_duration)"
   ]
  },
  {
   "cell_type": "markdown",
   "id": "cd364f21",
   "metadata": {},
   "source": [
    "<div class = \"alert alert-info\" >\n",
    "<h3>Комментарий студента</h3>\n",
    "Нет у меня до сих пор рефлекса использовать numpy. Это и дальше по работе видно. Буду исправлять\n",
    "</div>"
   ]
  },
  {
   "cell_type": "code",
   "execution_count": 7,
   "id": "0556c81a",
   "metadata": {},
   "outputs": [],
   "source": [
    "# добавляем столбец с месяцем\n",
    "calls['month'] = pd.DatetimeIndex(calls.call_date).month"
   ]
  },
  {
   "cell_type": "code",
   "execution_count": 8,
   "id": "5b04237f",
   "metadata": {},
   "outputs": [
    {
     "name": "stdout",
     "output_type": "stream",
     "text": [
      "<class 'pandas.core.frame.DataFrame'>\n",
      "RangeIndex: 202607 entries, 0 to 202606\n",
      "Data columns (total 5 columns):\n",
      " #   Column     Non-Null Count   Dtype         \n",
      "---  ------     --------------   -----         \n",
      " 0   id         202607 non-null  object        \n",
      " 1   call_date  202607 non-null  datetime64[ns]\n",
      " 2   duration   202607 non-null  int64         \n",
      " 3   user_id    202607 non-null  int64         \n",
      " 4   month      202607 non-null  int64         \n",
      "dtypes: datetime64[ns](1), int64(3), object(1)\n",
      "memory usage: 7.7+ MB\n"
     ]
    }
   ],
   "source": [
    "# проверяем\n",
    "calls.info()"
   ]
  },
  {
   "cell_type": "code",
   "execution_count": 9,
   "id": "c071ef38",
   "metadata": {},
   "outputs": [
    {
     "data": {
      "text/html": [
       "<div>\n",
       "<style scoped>\n",
       "    .dataframe tbody tr th:only-of-type {\n",
       "        vertical-align: middle;\n",
       "    }\n",
       "\n",
       "    .dataframe tbody tr th {\n",
       "        vertical-align: top;\n",
       "    }\n",
       "\n",
       "    .dataframe thead th {\n",
       "        text-align: right;\n",
       "    }\n",
       "</style>\n",
       "<table border=\"1\" class=\"dataframe\">\n",
       "  <thead>\n",
       "    <tr style=\"text-align: right;\">\n",
       "      <th></th>\n",
       "      <th>duration</th>\n",
       "      <th>user_id</th>\n",
       "      <th>month</th>\n",
       "    </tr>\n",
       "  </thead>\n",
       "  <tbody>\n",
       "    <tr>\n",
       "      <th>count</th>\n",
       "      <td>202,607.00</td>\n",
       "      <td>202,607.00</td>\n",
       "      <td>202,607.00</td>\n",
       "    </tr>\n",
       "    <tr>\n",
       "      <th>mean</th>\n",
       "      <td>7.16</td>\n",
       "      <td>1,253.94</td>\n",
       "      <td>8.57</td>\n",
       "    </tr>\n",
       "    <tr>\n",
       "      <th>std</th>\n",
       "      <td>5.96</td>\n",
       "      <td>144.72</td>\n",
       "      <td>2.79</td>\n",
       "    </tr>\n",
       "    <tr>\n",
       "      <th>min</th>\n",
       "      <td>0.00</td>\n",
       "      <td>1,000.00</td>\n",
       "      <td>1.00</td>\n",
       "    </tr>\n",
       "    <tr>\n",
       "      <th>25%</th>\n",
       "      <td>2.00</td>\n",
       "      <td>1,126.00</td>\n",
       "      <td>7.00</td>\n",
       "    </tr>\n",
       "    <tr>\n",
       "      <th>50%</th>\n",
       "      <td>6.00</td>\n",
       "      <td>1,260.00</td>\n",
       "      <td>9.00</td>\n",
       "    </tr>\n",
       "    <tr>\n",
       "      <th>75%</th>\n",
       "      <td>11.00</td>\n",
       "      <td>1,379.00</td>\n",
       "      <td>11.00</td>\n",
       "    </tr>\n",
       "    <tr>\n",
       "      <th>max</th>\n",
       "      <td>38.00</td>\n",
       "      <td>1,499.00</td>\n",
       "      <td>12.00</td>\n",
       "    </tr>\n",
       "  </tbody>\n",
       "</table>\n",
       "</div>"
      ],
      "text/plain": [
       "        duration    user_id      month\n",
       "count 202,607.00 202,607.00 202,607.00\n",
       "mean        7.16   1,253.94       8.57\n",
       "std         5.96     144.72       2.79\n",
       "min         0.00   1,000.00       1.00\n",
       "25%         2.00   1,126.00       7.00\n",
       "50%         6.00   1,260.00       9.00\n",
       "75%        11.00   1,379.00      11.00\n",
       "max        38.00   1,499.00      12.00"
      ]
     },
     "execution_count": 9,
     "metadata": {},
     "output_type": "execute_result"
    }
   ],
   "source": [
    "calls.describe()"
   ]
  },
  {
   "cell_type": "markdown",
   "id": "54efaf1f",
   "metadata": {},
   "source": [
    "Данные в пределах нормы. среднее и медиана 7 и 6 минут. 0 минут - пропущенные звонки, 38 минут вполне укладываются в разумные рамки. Оставляем как есть"
   ]
  },
  {
   "cell_type": "code",
   "execution_count": 10,
   "id": "3fb9d53b",
   "metadata": {},
   "outputs": [
    {
     "data": {
      "text/html": [
       "<div>\n",
       "<style scoped>\n",
       "    .dataframe tbody tr th:only-of-type {\n",
       "        vertical-align: middle;\n",
       "    }\n",
       "\n",
       "    .dataframe tbody tr th {\n",
       "        vertical-align: top;\n",
       "    }\n",
       "\n",
       "    .dataframe thead th {\n",
       "        text-align: right;\n",
       "    }\n",
       "</style>\n",
       "<table border=\"1\" class=\"dataframe\">\n",
       "  <thead>\n",
       "    <tr style=\"text-align: right;\">\n",
       "      <th></th>\n",
       "      <th>Unnamed: 0</th>\n",
       "      <th>id</th>\n",
       "      <th>mb_used</th>\n",
       "      <th>session_date</th>\n",
       "      <th>user_id</th>\n",
       "    </tr>\n",
       "  </thead>\n",
       "  <tbody>\n",
       "    <tr>\n",
       "      <th>95198</th>\n",
       "      <td>95198</td>\n",
       "      <td>1321_462</td>\n",
       "      <td>798.05</td>\n",
       "      <td>2018-02-27</td>\n",
       "      <td>1321</td>\n",
       "    </tr>\n",
       "    <tr>\n",
       "      <th>47599</th>\n",
       "      <td>47599</td>\n",
       "      <td>1164_168</td>\n",
       "      <td>77.10</td>\n",
       "      <td>2018-08-31</td>\n",
       "      <td>1164</td>\n",
       "    </tr>\n",
       "    <tr>\n",
       "      <th>132560</th>\n",
       "      <td>132560</td>\n",
       "      <td>1440_252</td>\n",
       "      <td>478.02</td>\n",
       "      <td>2018-11-12</td>\n",
       "      <td>1440</td>\n",
       "    </tr>\n",
       "    <tr>\n",
       "      <th>74866</th>\n",
       "      <td>74866</td>\n",
       "      <td>1251_428</td>\n",
       "      <td>269.27</td>\n",
       "      <td>2018-06-10</td>\n",
       "      <td>1251</td>\n",
       "    </tr>\n",
       "    <tr>\n",
       "      <th>139864</th>\n",
       "      <td>139864</td>\n",
       "      <td>1469_252</td>\n",
       "      <td>312.20</td>\n",
       "      <td>2018-07-11</td>\n",
       "      <td>1469</td>\n",
       "    </tr>\n",
       "    <tr>\n",
       "      <th>28849</th>\n",
       "      <td>28849</td>\n",
       "      <td>1100_215</td>\n",
       "      <td>104.06</td>\n",
       "      <td>2018-07-22</td>\n",
       "      <td>1100</td>\n",
       "    </tr>\n",
       "    <tr>\n",
       "      <th>27112</th>\n",
       "      <td>27112</td>\n",
       "      <td>1093_315</td>\n",
       "      <td>218.89</td>\n",
       "      <td>2018-07-15</td>\n",
       "      <td>1093</td>\n",
       "    </tr>\n",
       "    <tr>\n",
       "      <th>105674</th>\n",
       "      <td>105674</td>\n",
       "      <td>1357_101</td>\n",
       "      <td>627.38</td>\n",
       "      <td>2018-11-08</td>\n",
       "      <td>1357</td>\n",
       "    </tr>\n",
       "    <tr>\n",
       "      <th>111885</th>\n",
       "      <td>111885</td>\n",
       "      <td>1380_14</td>\n",
       "      <td>558.37</td>\n",
       "      <td>2018-05-28</td>\n",
       "      <td>1380</td>\n",
       "    </tr>\n",
       "    <tr>\n",
       "      <th>63841</th>\n",
       "      <td>63841</td>\n",
       "      <td>1217_409</td>\n",
       "      <td>346.85</td>\n",
       "      <td>2018-12-07</td>\n",
       "      <td>1217</td>\n",
       "    </tr>\n",
       "  </tbody>\n",
       "</table>\n",
       "</div>"
      ],
      "text/plain": [
       "        Unnamed: 0        id  mb_used session_date  user_id\n",
       "95198        95198  1321_462   798.05   2018-02-27     1321\n",
       "47599        47599  1164_168    77.10   2018-08-31     1164\n",
       "132560      132560  1440_252   478.02   2018-11-12     1440\n",
       "74866        74866  1251_428   269.27   2018-06-10     1251\n",
       "139864      139864  1469_252   312.20   2018-07-11     1469\n",
       "28849        28849  1100_215   104.06   2018-07-22     1100\n",
       "27112        27112  1093_315   218.89   2018-07-15     1093\n",
       "105674      105674  1357_101   627.38   2018-11-08     1357\n",
       "111885      111885   1380_14   558.37   2018-05-28     1380\n",
       "63841        63841  1217_409   346.85   2018-12-07     1217"
      ]
     },
     "execution_count": 10,
     "metadata": {},
     "output_type": "execute_result"
    }
   ],
   "source": [
    "# файл internet\n",
    "internet.sample(10)"
   ]
  },
  {
   "cell_type": "code",
   "execution_count": 11,
   "id": "3d9da4ff",
   "metadata": {},
   "outputs": [
    {
     "name": "stdout",
     "output_type": "stream",
     "text": [
      "<class 'pandas.core.frame.DataFrame'>\n",
      "RangeIndex: 149396 entries, 0 to 149395\n",
      "Data columns (total 5 columns):\n",
      " #   Column        Non-Null Count   Dtype  \n",
      "---  ------        --------------   -----  \n",
      " 0   Unnamed: 0    149396 non-null  int64  \n",
      " 1   id            149396 non-null  object \n",
      " 2   mb_used       149396 non-null  float64\n",
      " 3   session_date  149396 non-null  object \n",
      " 4   user_id       149396 non-null  int64  \n",
      "dtypes: float64(1), int64(2), object(2)\n",
      "memory usage: 5.7+ MB\n"
     ]
    }
   ],
   "source": [
    "internet.info()"
   ]
  },
  {
   "cell_type": "markdown",
   "id": "1d55775f",
   "metadata": {},
   "source": [
    "Пропусков нет, очень странное название столбца Unnamed. Чтобы не мозолило глаз переименнуем в индекс, а также приведем к корректному типу данных столбец session_date"
   ]
  },
  {
   "cell_type": "code",
   "execution_count": 12,
   "id": "db3ab27e",
   "metadata": {},
   "outputs": [],
   "source": [
    "# переименуем столбец\n",
    "internet = internet.rename(columns={'Unnamed: 0': 'index'})"
   ]
  },
  {
   "cell_type": "code",
   "execution_count": 13,
   "id": "6a29a191",
   "metadata": {},
   "outputs": [],
   "source": [
    "# корректируем тип данных\n",
    "internet.session_date = pd.to_datetime(internet.session_date, format='%Y-%m-%d')"
   ]
  },
  {
   "cell_type": "code",
   "execution_count": 14,
   "id": "ce75de7b",
   "metadata": {},
   "outputs": [],
   "source": [
    "# добавляем столбец с месяцем\n",
    "internet['month'] = pd.DatetimeIndex(internet.session_date).month"
   ]
  },
  {
   "cell_type": "code",
   "execution_count": 15,
   "id": "c87941fd",
   "metadata": {},
   "outputs": [
    {
     "name": "stdout",
     "output_type": "stream",
     "text": [
      "<class 'pandas.core.frame.DataFrame'>\n",
      "RangeIndex: 149396 entries, 0 to 149395\n",
      "Data columns (total 6 columns):\n",
      " #   Column        Non-Null Count   Dtype         \n",
      "---  ------        --------------   -----         \n",
      " 0   index         149396 non-null  int64         \n",
      " 1   id            149396 non-null  object        \n",
      " 2   mb_used       149396 non-null  float64       \n",
      " 3   session_date  149396 non-null  datetime64[ns]\n",
      " 4   user_id       149396 non-null  int64         \n",
      " 5   month         149396 non-null  int64         \n",
      "dtypes: datetime64[ns](1), float64(1), int64(3), object(1)\n",
      "memory usage: 6.8+ MB\n"
     ]
    }
   ],
   "source": [
    "# проверяем\n",
    "internet.info()"
   ]
  },
  {
   "cell_type": "code",
   "execution_count": 16,
   "id": "e0fcb3dc",
   "metadata": {},
   "outputs": [
    {
     "data": {
      "text/html": [
       "<div>\n",
       "<style scoped>\n",
       "    .dataframe tbody tr th:only-of-type {\n",
       "        vertical-align: middle;\n",
       "    }\n",
       "\n",
       "    .dataframe tbody tr th {\n",
       "        vertical-align: top;\n",
       "    }\n",
       "\n",
       "    .dataframe thead th {\n",
       "        text-align: right;\n",
       "    }\n",
       "</style>\n",
       "<table border=\"1\" class=\"dataframe\">\n",
       "  <thead>\n",
       "    <tr style=\"text-align: right;\">\n",
       "      <th></th>\n",
       "      <th>index</th>\n",
       "      <th>mb_used</th>\n",
       "      <th>user_id</th>\n",
       "      <th>month</th>\n",
       "    </tr>\n",
       "  </thead>\n",
       "  <tbody>\n",
       "    <tr>\n",
       "      <th>count</th>\n",
       "      <td>149,396.00</td>\n",
       "      <td>149,396.00</td>\n",
       "      <td>149,396.00</td>\n",
       "      <td>149,396.00</td>\n",
       "    </tr>\n",
       "    <tr>\n",
       "      <th>mean</th>\n",
       "      <td>74,697.50</td>\n",
       "      <td>370.19</td>\n",
       "      <td>1,252.10</td>\n",
       "      <td>8.56</td>\n",
       "    </tr>\n",
       "    <tr>\n",
       "      <th>std</th>\n",
       "      <td>43,127.05</td>\n",
       "      <td>278.30</td>\n",
       "      <td>144.05</td>\n",
       "      <td>2.79</td>\n",
       "    </tr>\n",
       "    <tr>\n",
       "      <th>min</th>\n",
       "      <td>0.00</td>\n",
       "      <td>0.00</td>\n",
       "      <td>1,000.00</td>\n",
       "      <td>1.00</td>\n",
       "    </tr>\n",
       "    <tr>\n",
       "      <th>25%</th>\n",
       "      <td>37,348.75</td>\n",
       "      <td>138.19</td>\n",
       "      <td>1,130.00</td>\n",
       "      <td>7.00</td>\n",
       "    </tr>\n",
       "    <tr>\n",
       "      <th>50%</th>\n",
       "      <td>74,697.50</td>\n",
       "      <td>348.01</td>\n",
       "      <td>1,251.00</td>\n",
       "      <td>9.00</td>\n",
       "    </tr>\n",
       "    <tr>\n",
       "      <th>75%</th>\n",
       "      <td>112,046.25</td>\n",
       "      <td>559.55</td>\n",
       "      <td>1,380.00</td>\n",
       "      <td>11.00</td>\n",
       "    </tr>\n",
       "    <tr>\n",
       "      <th>max</th>\n",
       "      <td>149,395.00</td>\n",
       "      <td>1,724.83</td>\n",
       "      <td>1,499.00</td>\n",
       "      <td>12.00</td>\n",
       "    </tr>\n",
       "  </tbody>\n",
       "</table>\n",
       "</div>"
      ],
      "text/plain": [
       "           index    mb_used    user_id      month\n",
       "count 149,396.00 149,396.00 149,396.00 149,396.00\n",
       "mean   74,697.50     370.19   1,252.10       8.56\n",
       "std    43,127.05     278.30     144.05       2.79\n",
       "min         0.00       0.00   1,000.00       1.00\n",
       "25%    37,348.75     138.19   1,130.00       7.00\n",
       "50%    74,697.50     348.01   1,251.00       9.00\n",
       "75%   112,046.25     559.55   1,380.00      11.00\n",
       "max   149,395.00   1,724.83   1,499.00      12.00"
      ]
     },
     "execution_count": 16,
     "metadata": {},
     "output_type": "execute_result"
    }
   ],
   "source": [
    "internet.describe()"
   ]
  },
  {
   "cell_type": "markdown",
   "id": "bfa68cfa",
   "metadata": {},
   "source": [
    "0 значения я считаю необходимым оставить, возможно клиенты использовали самые простые телефоны без подключения к интернету, среднее и медиана - 370 и 348 мб, что как мне кажется в пределах нормы, максимальное значение в 1,5Гб тоже в пределах допустимого. Оставляем как есть"
   ]
  },
  {
   "cell_type": "code",
   "execution_count": 17,
   "id": "24d56023",
   "metadata": {},
   "outputs": [
    {
     "name": "stdout",
     "output_type": "stream",
     "text": [
      "<class 'pandas.core.frame.DataFrame'>\n",
      "RangeIndex: 123036 entries, 0 to 123035\n",
      "Data columns (total 3 columns):\n",
      " #   Column        Non-Null Count   Dtype \n",
      "---  ------        --------------   ----- \n",
      " 0   id            123036 non-null  object\n",
      " 1   message_date  123036 non-null  object\n",
      " 2   user_id       123036 non-null  int64 \n",
      "dtypes: int64(1), object(2)\n",
      "memory usage: 2.8+ MB\n"
     ]
    }
   ],
   "source": [
    "# файл messages\n",
    "messages.info()"
   ]
  },
  {
   "cell_type": "code",
   "execution_count": 18,
   "id": "1d40383e",
   "metadata": {},
   "outputs": [
    {
     "data": {
      "text/html": [
       "<div>\n",
       "<style scoped>\n",
       "    .dataframe tbody tr th:only-of-type {\n",
       "        vertical-align: middle;\n",
       "    }\n",
       "\n",
       "    .dataframe tbody tr th {\n",
       "        vertical-align: top;\n",
       "    }\n",
       "\n",
       "    .dataframe thead th {\n",
       "        text-align: right;\n",
       "    }\n",
       "</style>\n",
       "<table border=\"1\" class=\"dataframe\">\n",
       "  <thead>\n",
       "    <tr style=\"text-align: right;\">\n",
       "      <th></th>\n",
       "      <th>id</th>\n",
       "      <th>message_date</th>\n",
       "      <th>user_id</th>\n",
       "    </tr>\n",
       "  </thead>\n",
       "  <tbody>\n",
       "    <tr>\n",
       "      <th>677</th>\n",
       "      <td>1003_111</td>\n",
       "      <td>2018-12-03</td>\n",
       "      <td>1003</td>\n",
       "    </tr>\n",
       "    <tr>\n",
       "      <th>48579</th>\n",
       "      <td>1215_6</td>\n",
       "      <td>2018-10-16</td>\n",
       "      <td>1215</td>\n",
       "    </tr>\n",
       "    <tr>\n",
       "      <th>2909</th>\n",
       "      <td>1007_219</td>\n",
       "      <td>2018-06-27</td>\n",
       "      <td>1007</td>\n",
       "    </tr>\n",
       "    <tr>\n",
       "      <th>12726</th>\n",
       "      <td>1054_282</td>\n",
       "      <td>2018-06-06</td>\n",
       "      <td>1054</td>\n",
       "    </tr>\n",
       "    <tr>\n",
       "      <th>60514</th>\n",
       "      <td>1266_122</td>\n",
       "      <td>2018-10-02</td>\n",
       "      <td>1266</td>\n",
       "    </tr>\n",
       "    <tr>\n",
       "      <th>89778</th>\n",
       "      <td>1374_226</td>\n",
       "      <td>2018-06-16</td>\n",
       "      <td>1374</td>\n",
       "    </tr>\n",
       "    <tr>\n",
       "      <th>71542</th>\n",
       "      <td>1302_370</td>\n",
       "      <td>2018-04-07</td>\n",
       "      <td>1302</td>\n",
       "    </tr>\n",
       "    <tr>\n",
       "      <th>7311</th>\n",
       "      <td>1030_222</td>\n",
       "      <td>2018-11-06</td>\n",
       "      <td>1030</td>\n",
       "    </tr>\n",
       "    <tr>\n",
       "      <th>88319</th>\n",
       "      <td>1369_244</td>\n",
       "      <td>2018-09-08</td>\n",
       "      <td>1369</td>\n",
       "    </tr>\n",
       "    <tr>\n",
       "      <th>102179</th>\n",
       "      <td>1417_41</td>\n",
       "      <td>2018-12-10</td>\n",
       "      <td>1417</td>\n",
       "    </tr>\n",
       "  </tbody>\n",
       "</table>\n",
       "</div>"
      ],
      "text/plain": [
       "              id message_date  user_id\n",
       "677     1003_111   2018-12-03     1003\n",
       "48579     1215_6   2018-10-16     1215\n",
       "2909    1007_219   2018-06-27     1007\n",
       "12726   1054_282   2018-06-06     1054\n",
       "60514   1266_122   2018-10-02     1266\n",
       "89778   1374_226   2018-06-16     1374\n",
       "71542   1302_370   2018-04-07     1302\n",
       "7311    1030_222   2018-11-06     1030\n",
       "88319   1369_244   2018-09-08     1369\n",
       "102179   1417_41   2018-12-10     1417"
      ]
     },
     "execution_count": 18,
     "metadata": {},
     "output_type": "execute_result"
    }
   ],
   "source": [
    "messages.sample(10)"
   ]
  },
  {
   "cell_type": "markdown",
   "id": "0fcf4d6a",
   "metadata": {},
   "source": [
    "Пропусков нет. Названия столбцов корректны."
   ]
  },
  {
   "cell_type": "code",
   "execution_count": 19,
   "id": "f1de5063",
   "metadata": {},
   "outputs": [],
   "source": [
    "# корректируем тип данных message_date\n",
    "messages.message_date = pd.to_datetime(messages.message_date, format='%Y-%m-%d')"
   ]
  },
  {
   "cell_type": "code",
   "execution_count": 20,
   "id": "a44f7e43",
   "metadata": {},
   "outputs": [],
   "source": [
    "# добавляем столбец с месяцем\n",
    "messages['month'] = pd.DatetimeIndex(messages.message_date).month"
   ]
  },
  {
   "cell_type": "code",
   "execution_count": 21,
   "id": "32414b8e",
   "metadata": {},
   "outputs": [
    {
     "name": "stdout",
     "output_type": "stream",
     "text": [
      "<class 'pandas.core.frame.DataFrame'>\n",
      "RangeIndex: 500 entries, 0 to 499\n",
      "Data columns (total 8 columns):\n",
      " #   Column      Non-Null Count  Dtype \n",
      "---  ------      --------------  ----- \n",
      " 0   user_id     500 non-null    int64 \n",
      " 1   age         500 non-null    int64 \n",
      " 2   churn_date  38 non-null     object\n",
      " 3   city        500 non-null    object\n",
      " 4   first_name  500 non-null    object\n",
      " 5   last_name   500 non-null    object\n",
      " 6   reg_date    500 non-null    object\n",
      " 7   tariff      500 non-null    object\n",
      "dtypes: int64(2), object(6)\n",
      "memory usage: 31.4+ KB\n"
     ]
    }
   ],
   "source": [
    "# файл users\n",
    "users.info()"
   ]
  },
  {
   "cell_type": "code",
   "execution_count": 22,
   "id": "9d6e25e2",
   "metadata": {},
   "outputs": [
    {
     "data": {
      "text/html": [
       "<div>\n",
       "<style scoped>\n",
       "    .dataframe tbody tr th:only-of-type {\n",
       "        vertical-align: middle;\n",
       "    }\n",
       "\n",
       "    .dataframe tbody tr th {\n",
       "        vertical-align: top;\n",
       "    }\n",
       "\n",
       "    .dataframe thead th {\n",
       "        text-align: right;\n",
       "    }\n",
       "</style>\n",
       "<table border=\"1\" class=\"dataframe\">\n",
       "  <thead>\n",
       "    <tr style=\"text-align: right;\">\n",
       "      <th></th>\n",
       "      <th>user_id</th>\n",
       "      <th>age</th>\n",
       "      <th>churn_date</th>\n",
       "      <th>city</th>\n",
       "      <th>first_name</th>\n",
       "      <th>last_name</th>\n",
       "      <th>reg_date</th>\n",
       "      <th>tariff</th>\n",
       "    </tr>\n",
       "  </thead>\n",
       "  <tbody>\n",
       "    <tr>\n",
       "      <th>287</th>\n",
       "      <td>1287</td>\n",
       "      <td>39</td>\n",
       "      <td>NaN</td>\n",
       "      <td>Севастополь</td>\n",
       "      <td>Вениамин</td>\n",
       "      <td>Мишин</td>\n",
       "      <td>2018-09-23</td>\n",
       "      <td>smart</td>\n",
       "    </tr>\n",
       "    <tr>\n",
       "      <th>379</th>\n",
       "      <td>1379</td>\n",
       "      <td>39</td>\n",
       "      <td>NaN</td>\n",
       "      <td>Москва</td>\n",
       "      <td>Нелли</td>\n",
       "      <td>Кочергина</td>\n",
       "      <td>2018-08-09</td>\n",
       "      <td>ultra</td>\n",
       "    </tr>\n",
       "    <tr>\n",
       "      <th>393</th>\n",
       "      <td>1393</td>\n",
       "      <td>56</td>\n",
       "      <td>NaN</td>\n",
       "      <td>Краснодар</td>\n",
       "      <td>Артём</td>\n",
       "      <td>Зубков</td>\n",
       "      <td>2018-02-17</td>\n",
       "      <td>smart</td>\n",
       "    </tr>\n",
       "    <tr>\n",
       "      <th>490</th>\n",
       "      <td>1490</td>\n",
       "      <td>30</td>\n",
       "      <td>NaN</td>\n",
       "      <td>Москва</td>\n",
       "      <td>Радомир</td>\n",
       "      <td>Алесин</td>\n",
       "      <td>2018-04-03</td>\n",
       "      <td>smart</td>\n",
       "    </tr>\n",
       "    <tr>\n",
       "      <th>72</th>\n",
       "      <td>1072</td>\n",
       "      <td>49</td>\n",
       "      <td>NaN</td>\n",
       "      <td>Уфа</td>\n",
       "      <td>Андрей</td>\n",
       "      <td>Андрейкин</td>\n",
       "      <td>2018-02-20</td>\n",
       "      <td>smart</td>\n",
       "    </tr>\n",
       "    <tr>\n",
       "      <th>415</th>\n",
       "      <td>1415</td>\n",
       "      <td>41</td>\n",
       "      <td>NaN</td>\n",
       "      <td>Москва</td>\n",
       "      <td>Андрей</td>\n",
       "      <td>Лукин</td>\n",
       "      <td>2018-06-29</td>\n",
       "      <td>ultra</td>\n",
       "    </tr>\n",
       "    <tr>\n",
       "      <th>107</th>\n",
       "      <td>1107</td>\n",
       "      <td>45</td>\n",
       "      <td>NaN</td>\n",
       "      <td>Орёл</td>\n",
       "      <td>Руслан</td>\n",
       "      <td>Воронин</td>\n",
       "      <td>2018-07-20</td>\n",
       "      <td>smart</td>\n",
       "    </tr>\n",
       "    <tr>\n",
       "      <th>97</th>\n",
       "      <td>1097</td>\n",
       "      <td>29</td>\n",
       "      <td>NaN</td>\n",
       "      <td>Краснодар</td>\n",
       "      <td>Алла</td>\n",
       "      <td>Кулешова</td>\n",
       "      <td>2018-06-25</td>\n",
       "      <td>ultra</td>\n",
       "    </tr>\n",
       "    <tr>\n",
       "      <th>333</th>\n",
       "      <td>1333</td>\n",
       "      <td>58</td>\n",
       "      <td>NaN</td>\n",
       "      <td>Москва</td>\n",
       "      <td>Вера</td>\n",
       "      <td>Антонова</td>\n",
       "      <td>2018-09-28</td>\n",
       "      <td>ultra</td>\n",
       "    </tr>\n",
       "    <tr>\n",
       "      <th>17</th>\n",
       "      <td>1017</td>\n",
       "      <td>73</td>\n",
       "      <td>NaN</td>\n",
       "      <td>Краснодар</td>\n",
       "      <td>Мария</td>\n",
       "      <td>Аленникова</td>\n",
       "      <td>2018-05-22</td>\n",
       "      <td>smart</td>\n",
       "    </tr>\n",
       "  </tbody>\n",
       "</table>\n",
       "</div>"
      ],
      "text/plain": [
       "     user_id  age churn_date         city first_name   last_name    reg_date  \\\n",
       "287     1287   39        NaN  Севастополь   Вениамин       Мишин  2018-09-23   \n",
       "379     1379   39        NaN       Москва      Нелли   Кочергина  2018-08-09   \n",
       "393     1393   56        NaN    Краснодар      Артём      Зубков  2018-02-17   \n",
       "490     1490   30        NaN       Москва    Радомир      Алесин  2018-04-03   \n",
       "72      1072   49        NaN          Уфа     Андрей   Андрейкин  2018-02-20   \n",
       "415     1415   41        NaN       Москва     Андрей       Лукин  2018-06-29   \n",
       "107     1107   45        NaN         Орёл     Руслан     Воронин  2018-07-20   \n",
       "97      1097   29        NaN    Краснодар       Алла    Кулешова  2018-06-25   \n",
       "333     1333   58        NaN       Москва       Вера    Антонова  2018-09-28   \n",
       "17      1017   73        NaN    Краснодар      Мария  Аленникова  2018-05-22   \n",
       "\n",
       "    tariff  \n",
       "287  smart  \n",
       "379  ultra  \n",
       "393  smart  \n",
       "490  smart  \n",
       "72   smart  \n",
       "415  ultra  \n",
       "107  smart  \n",
       "97   ultra  \n",
       "333  ultra  \n",
       "17   smart  "
      ]
     },
     "execution_count": 22,
     "metadata": {},
     "output_type": "execute_result"
    }
   ],
   "source": [
    "users.sample(10)"
   ]
  },
  {
   "cell_type": "markdown",
   "id": "6fb76bb8",
   "metadata": {},
   "source": [
    "заменим Nan в столбце churn_date на технический 0, скорректируем тип данных в столбцах churn_date и reg_date"
   ]
  },
  {
   "cell_type": "code",
   "execution_count": 23,
   "id": "34cb291c",
   "metadata": {},
   "outputs": [],
   "source": [
    "users.churn_date = pd.to_datetime(users.churn_date, format='%Y-%m-%d')\n",
    "users.reg_date = pd.to_datetime(users.reg_date, format='%Y-%m-%d')"
   ]
  },
  {
   "cell_type": "code",
   "execution_count": 24,
   "id": "baeaa686",
   "metadata": {},
   "outputs": [
    {
     "name": "stdout",
     "output_type": "stream",
     "text": [
      "<class 'pandas.core.frame.DataFrame'>\n",
      "RangeIndex: 500 entries, 0 to 499\n",
      "Data columns (total 8 columns):\n",
      " #   Column      Non-Null Count  Dtype         \n",
      "---  ------      --------------  -----         \n",
      " 0   user_id     500 non-null    int64         \n",
      " 1   age         500 non-null    int64         \n",
      " 2   churn_date  38 non-null     datetime64[ns]\n",
      " 3   city        500 non-null    object        \n",
      " 4   first_name  500 non-null    object        \n",
      " 5   last_name   500 non-null    object        \n",
      " 6   reg_date    500 non-null    datetime64[ns]\n",
      " 7   tariff      500 non-null    object        \n",
      "dtypes: datetime64[ns](2), int64(2), object(4)\n",
      "memory usage: 31.4+ KB\n"
     ]
    }
   ],
   "source": [
    "# проверяем\n",
    "users.info()"
   ]
  },
  {
   "cell_type": "code",
   "execution_count": 25,
   "id": "10d07f88",
   "metadata": {},
   "outputs": [
    {
     "name": "stdout",
     "output_type": "stream",
     "text": [
      "<class 'pandas.core.frame.DataFrame'>\n",
      "RangeIndex: 2 entries, 0 to 1\n",
      "Data columns (total 8 columns):\n",
      " #   Column                 Non-Null Count  Dtype \n",
      "---  ------                 --------------  ----- \n",
      " 0   messages_included      2 non-null      int64 \n",
      " 1   mb_per_month_included  2 non-null      int64 \n",
      " 2   minutes_included       2 non-null      int64 \n",
      " 3   rub_monthly_fee        2 non-null      int64 \n",
      " 4   rub_per_gb             2 non-null      int64 \n",
      " 5   rub_per_message        2 non-null      int64 \n",
      " 6   rub_per_minute         2 non-null      int64 \n",
      " 7   tariff_name            2 non-null      object\n",
      "dtypes: int64(7), object(1)\n",
      "memory usage: 256.0+ bytes\n"
     ]
    }
   ],
   "source": [
    "# файл tariffs\n",
    "tariffs.info()"
   ]
  },
  {
   "cell_type": "code",
   "execution_count": 26,
   "id": "0a3a56b4",
   "metadata": {},
   "outputs": [
    {
     "data": {
      "text/html": [
       "<div>\n",
       "<style scoped>\n",
       "    .dataframe tbody tr th:only-of-type {\n",
       "        vertical-align: middle;\n",
       "    }\n",
       "\n",
       "    .dataframe tbody tr th {\n",
       "        vertical-align: top;\n",
       "    }\n",
       "\n",
       "    .dataframe thead th {\n",
       "        text-align: right;\n",
       "    }\n",
       "</style>\n",
       "<table border=\"1\" class=\"dataframe\">\n",
       "  <thead>\n",
       "    <tr style=\"text-align: right;\">\n",
       "      <th></th>\n",
       "      <th>messages_included</th>\n",
       "      <th>mb_per_month_included</th>\n",
       "      <th>minutes_included</th>\n",
       "      <th>rub_monthly_fee</th>\n",
       "      <th>rub_per_gb</th>\n",
       "      <th>rub_per_message</th>\n",
       "      <th>rub_per_minute</th>\n",
       "      <th>tariff_name</th>\n",
       "    </tr>\n",
       "  </thead>\n",
       "  <tbody>\n",
       "    <tr>\n",
       "      <th>0</th>\n",
       "      <td>50</td>\n",
       "      <td>15360</td>\n",
       "      <td>500</td>\n",
       "      <td>550</td>\n",
       "      <td>200</td>\n",
       "      <td>3</td>\n",
       "      <td>3</td>\n",
       "      <td>smart</td>\n",
       "    </tr>\n",
       "    <tr>\n",
       "      <th>1</th>\n",
       "      <td>1000</td>\n",
       "      <td>30720</td>\n",
       "      <td>3000</td>\n",
       "      <td>1950</td>\n",
       "      <td>150</td>\n",
       "      <td>1</td>\n",
       "      <td>1</td>\n",
       "      <td>ultra</td>\n",
       "    </tr>\n",
       "  </tbody>\n",
       "</table>\n",
       "</div>"
      ],
      "text/plain": [
       "   messages_included  mb_per_month_included  minutes_included  \\\n",
       "0                 50                  15360               500   \n",
       "1               1000                  30720              3000   \n",
       "\n",
       "   rub_monthly_fee  rub_per_gb  rub_per_message  rub_per_minute tariff_name  \n",
       "0              550         200                3               3       smart  \n",
       "1             1950         150                1               1       ultra  "
      ]
     },
     "execution_count": 26,
     "metadata": {},
     "output_type": "execute_result"
    }
   ],
   "source": [
    "tariffs"
   ]
  },
  {
   "cell_type": "code",
   "execution_count": 27,
   "id": "3aa00375",
   "metadata": {},
   "outputs": [],
   "source": [
    "tariffs = tariffs.rename(columns={'tariff_name': 'tariff'})"
   ]
  },
  {
   "cell_type": "code",
   "execution_count": 28,
   "id": "f849e836",
   "metadata": {},
   "outputs": [],
   "source": [
    "# группируем таблицы с услугами\n",
    "# создаем функцию для дальнейшей группировки нужных данных по нужным нам параметрам\n",
    "def amount_by_month(data, values_col, func):\n",
    "    fin_data = (data\n",
    "                .pivot_table(index=['user_id', 'month'], \n",
    "                             values=values_col, \n",
    "                             aggfunc=func))\n",
    "    fin_data.reset_index(inplace=True)\n",
    "    return fin_data"
   ]
  },
  {
   "cell_type": "code",
   "execution_count": 29,
   "id": "40e16e13",
   "metadata": {},
   "outputs": [
    {
     "data": {
      "text/html": [
       "<div>\n",
       "<style scoped>\n",
       "    .dataframe tbody tr th:only-of-type {\n",
       "        vertical-align: middle;\n",
       "    }\n",
       "\n",
       "    .dataframe tbody tr th {\n",
       "        vertical-align: top;\n",
       "    }\n",
       "\n",
       "    .dataframe thead th {\n",
       "        text-align: right;\n",
       "    }\n",
       "</style>\n",
       "<table border=\"1\" class=\"dataframe\">\n",
       "  <thead>\n",
       "    <tr style=\"text-align: right;\">\n",
       "      <th></th>\n",
       "      <th>user_id</th>\n",
       "      <th>month</th>\n",
       "      <th>call_duration_min</th>\n",
       "    </tr>\n",
       "  </thead>\n",
       "  <tbody>\n",
       "    <tr>\n",
       "      <th>0</th>\n",
       "      <td>1000</td>\n",
       "      <td>5</td>\n",
       "      <td>159</td>\n",
       "    </tr>\n",
       "    <tr>\n",
       "      <th>1</th>\n",
       "      <td>1000</td>\n",
       "      <td>6</td>\n",
       "      <td>172</td>\n",
       "    </tr>\n",
       "    <tr>\n",
       "      <th>2</th>\n",
       "      <td>1000</td>\n",
       "      <td>7</td>\n",
       "      <td>340</td>\n",
       "    </tr>\n",
       "    <tr>\n",
       "      <th>3</th>\n",
       "      <td>1000</td>\n",
       "      <td>8</td>\n",
       "      <td>408</td>\n",
       "    </tr>\n",
       "    <tr>\n",
       "      <th>4</th>\n",
       "      <td>1000</td>\n",
       "      <td>9</td>\n",
       "      <td>466</td>\n",
       "    </tr>\n",
       "    <tr>\n",
       "      <th>...</th>\n",
       "      <td>...</td>\n",
       "      <td>...</td>\n",
       "      <td>...</td>\n",
       "    </tr>\n",
       "    <tr>\n",
       "      <th>3169</th>\n",
       "      <td>1498</td>\n",
       "      <td>10</td>\n",
       "      <td>247</td>\n",
       "    </tr>\n",
       "    <tr>\n",
       "      <th>3170</th>\n",
       "      <td>1499</td>\n",
       "      <td>9</td>\n",
       "      <td>70</td>\n",
       "    </tr>\n",
       "    <tr>\n",
       "      <th>3171</th>\n",
       "      <td>1499</td>\n",
       "      <td>10</td>\n",
       "      <td>449</td>\n",
       "    </tr>\n",
       "    <tr>\n",
       "      <th>3172</th>\n",
       "      <td>1499</td>\n",
       "      <td>11</td>\n",
       "      <td>612</td>\n",
       "    </tr>\n",
       "    <tr>\n",
       "      <th>3173</th>\n",
       "      <td>1499</td>\n",
       "      <td>12</td>\n",
       "      <td>492</td>\n",
       "    </tr>\n",
       "  </tbody>\n",
       "</table>\n",
       "<p>3174 rows × 3 columns</p>\n",
       "</div>"
      ],
      "text/plain": [
       "      user_id  month  call_duration_min\n",
       "0        1000      5                159\n",
       "1        1000      6                172\n",
       "2        1000      7                340\n",
       "3        1000      8                408\n",
       "4        1000      9                466\n",
       "...       ...    ...                ...\n",
       "3169     1498     10                247\n",
       "3170     1499      9                 70\n",
       "3171     1499     10                449\n",
       "3172     1499     11                612\n",
       "3173     1499     12                492\n",
       "\n",
       "[3174 rows x 3 columns]"
      ]
     },
     "execution_count": 29,
     "metadata": {},
     "output_type": "execute_result"
    }
   ],
   "source": [
    "calls_min_month_pivot = amount_by_month(calls, 'duration', 'sum')\n",
    "calls_min_month_pivot = calls_min_month_pivot.rename(columns={'duration': 'call_duration_min'})\n",
    "calls_min_month_pivot"
   ]
  },
  {
   "cell_type": "code",
   "execution_count": 30,
   "id": "4f50143f",
   "metadata": {},
   "outputs": [
    {
     "data": {
      "text/html": [
       "<div>\n",
       "<style scoped>\n",
       "    .dataframe tbody tr th:only-of-type {\n",
       "        vertical-align: middle;\n",
       "    }\n",
       "\n",
       "    .dataframe tbody tr th {\n",
       "        vertical-align: top;\n",
       "    }\n",
       "\n",
       "    .dataframe thead th {\n",
       "        text-align: right;\n",
       "    }\n",
       "</style>\n",
       "<table border=\"1\" class=\"dataframe\">\n",
       "  <thead>\n",
       "    <tr style=\"text-align: right;\">\n",
       "      <th></th>\n",
       "      <th>user_id</th>\n",
       "      <th>month</th>\n",
       "      <th>call_count</th>\n",
       "    </tr>\n",
       "  </thead>\n",
       "  <tbody>\n",
       "    <tr>\n",
       "      <th>0</th>\n",
       "      <td>1000</td>\n",
       "      <td>5</td>\n",
       "      <td>22</td>\n",
       "    </tr>\n",
       "    <tr>\n",
       "      <th>1</th>\n",
       "      <td>1000</td>\n",
       "      <td>6</td>\n",
       "      <td>43</td>\n",
       "    </tr>\n",
       "    <tr>\n",
       "      <th>2</th>\n",
       "      <td>1000</td>\n",
       "      <td>7</td>\n",
       "      <td>47</td>\n",
       "    </tr>\n",
       "    <tr>\n",
       "      <th>3</th>\n",
       "      <td>1000</td>\n",
       "      <td>8</td>\n",
       "      <td>52</td>\n",
       "    </tr>\n",
       "    <tr>\n",
       "      <th>4</th>\n",
       "      <td>1000</td>\n",
       "      <td>9</td>\n",
       "      <td>58</td>\n",
       "    </tr>\n",
       "    <tr>\n",
       "      <th>...</th>\n",
       "      <td>...</td>\n",
       "      <td>...</td>\n",
       "      <td>...</td>\n",
       "    </tr>\n",
       "    <tr>\n",
       "      <th>3169</th>\n",
       "      <td>1498</td>\n",
       "      <td>10</td>\n",
       "      <td>41</td>\n",
       "    </tr>\n",
       "    <tr>\n",
       "      <th>3170</th>\n",
       "      <td>1499</td>\n",
       "      <td>9</td>\n",
       "      <td>9</td>\n",
       "    </tr>\n",
       "    <tr>\n",
       "      <th>3171</th>\n",
       "      <td>1499</td>\n",
       "      <td>10</td>\n",
       "      <td>68</td>\n",
       "    </tr>\n",
       "    <tr>\n",
       "      <th>3172</th>\n",
       "      <td>1499</td>\n",
       "      <td>11</td>\n",
       "      <td>74</td>\n",
       "    </tr>\n",
       "    <tr>\n",
       "      <th>3173</th>\n",
       "      <td>1499</td>\n",
       "      <td>12</td>\n",
       "      <td>69</td>\n",
       "    </tr>\n",
       "  </tbody>\n",
       "</table>\n",
       "<p>3174 rows × 3 columns</p>\n",
       "</div>"
      ],
      "text/plain": [
       "      user_id  month  call_count\n",
       "0        1000      5          22\n",
       "1        1000      6          43\n",
       "2        1000      7          47\n",
       "3        1000      8          52\n",
       "4        1000      9          58\n",
       "...       ...    ...         ...\n",
       "3169     1498     10          41\n",
       "3170     1499      9           9\n",
       "3171     1499     10          68\n",
       "3172     1499     11          74\n",
       "3173     1499     12          69\n",
       "\n",
       "[3174 rows x 3 columns]"
      ]
     },
     "execution_count": 30,
     "metadata": {},
     "output_type": "execute_result"
    }
   ],
   "source": [
    "calls_count_month_pivot = amount_by_month(calls, 'duration', 'count')\n",
    "calls_count_month_pivot = calls_count_month_pivot.rename(columns={'duration': 'call_count'})\n",
    "calls_count_month_pivot"
   ]
  },
  {
   "cell_type": "code",
   "execution_count": 31,
   "id": "1ea43309",
   "metadata": {},
   "outputs": [
    {
     "data": {
      "text/html": [
       "<div>\n",
       "<style scoped>\n",
       "    .dataframe tbody tr th:only-of-type {\n",
       "        vertical-align: middle;\n",
       "    }\n",
       "\n",
       "    .dataframe tbody tr th {\n",
       "        vertical-align: top;\n",
       "    }\n",
       "\n",
       "    .dataframe thead th {\n",
       "        text-align: right;\n",
       "    }\n",
       "</style>\n",
       "<table border=\"1\" class=\"dataframe\">\n",
       "  <thead>\n",
       "    <tr style=\"text-align: right;\">\n",
       "      <th></th>\n",
       "      <th>user_id</th>\n",
       "      <th>month</th>\n",
       "      <th>sms_count</th>\n",
       "    </tr>\n",
       "  </thead>\n",
       "  <tbody>\n",
       "    <tr>\n",
       "      <th>0</th>\n",
       "      <td>1000</td>\n",
       "      <td>5</td>\n",
       "      <td>22</td>\n",
       "    </tr>\n",
       "    <tr>\n",
       "      <th>1</th>\n",
       "      <td>1000</td>\n",
       "      <td>6</td>\n",
       "      <td>60</td>\n",
       "    </tr>\n",
       "    <tr>\n",
       "      <th>2</th>\n",
       "      <td>1000</td>\n",
       "      <td>7</td>\n",
       "      <td>75</td>\n",
       "    </tr>\n",
       "    <tr>\n",
       "      <th>3</th>\n",
       "      <td>1000</td>\n",
       "      <td>8</td>\n",
       "      <td>81</td>\n",
       "    </tr>\n",
       "    <tr>\n",
       "      <th>4</th>\n",
       "      <td>1000</td>\n",
       "      <td>9</td>\n",
       "      <td>57</td>\n",
       "    </tr>\n",
       "    <tr>\n",
       "      <th>...</th>\n",
       "      <td>...</td>\n",
       "      <td>...</td>\n",
       "      <td>...</td>\n",
       "    </tr>\n",
       "    <tr>\n",
       "      <th>2712</th>\n",
       "      <td>1498</td>\n",
       "      <td>10</td>\n",
       "      <td>42</td>\n",
       "    </tr>\n",
       "    <tr>\n",
       "      <th>2713</th>\n",
       "      <td>1499</td>\n",
       "      <td>9</td>\n",
       "      <td>11</td>\n",
       "    </tr>\n",
       "    <tr>\n",
       "      <th>2714</th>\n",
       "      <td>1499</td>\n",
       "      <td>10</td>\n",
       "      <td>48</td>\n",
       "    </tr>\n",
       "    <tr>\n",
       "      <th>2715</th>\n",
       "      <td>1499</td>\n",
       "      <td>11</td>\n",
       "      <td>59</td>\n",
       "    </tr>\n",
       "    <tr>\n",
       "      <th>2716</th>\n",
       "      <td>1499</td>\n",
       "      <td>12</td>\n",
       "      <td>66</td>\n",
       "    </tr>\n",
       "  </tbody>\n",
       "</table>\n",
       "<p>2717 rows × 3 columns</p>\n",
       "</div>"
      ],
      "text/plain": [
       "      user_id  month  sms_count\n",
       "0        1000      5         22\n",
       "1        1000      6         60\n",
       "2        1000      7         75\n",
       "3        1000      8         81\n",
       "4        1000      9         57\n",
       "...       ...    ...        ...\n",
       "2712     1498     10         42\n",
       "2713     1499      9         11\n",
       "2714     1499     10         48\n",
       "2715     1499     11         59\n",
       "2716     1499     12         66\n",
       "\n",
       "[2717 rows x 3 columns]"
      ]
     },
     "execution_count": 31,
     "metadata": {},
     "output_type": "execute_result"
    }
   ],
   "source": [
    "messages_count_month_pivot = amount_by_month(messages, 'id', 'count')\n",
    "messages_count_month_pivot = messages_count_month_pivot.rename(columns={'id': 'sms_count'})\n",
    "messages_count_month_pivot"
   ]
  },
  {
   "cell_type": "code",
   "execution_count": 32,
   "id": "8b2d0e36",
   "metadata": {},
   "outputs": [
    {
     "data": {
      "text/html": [
       "<div>\n",
       "<style scoped>\n",
       "    .dataframe tbody tr th:only-of-type {\n",
       "        vertical-align: middle;\n",
       "    }\n",
       "\n",
       "    .dataframe tbody tr th {\n",
       "        vertical-align: top;\n",
       "    }\n",
       "\n",
       "    .dataframe thead th {\n",
       "        text-align: right;\n",
       "    }\n",
       "</style>\n",
       "<table border=\"1\" class=\"dataframe\">\n",
       "  <thead>\n",
       "    <tr style=\"text-align: right;\">\n",
       "      <th></th>\n",
       "      <th>user_id</th>\n",
       "      <th>month</th>\n",
       "      <th>mb_used</th>\n",
       "    </tr>\n",
       "  </thead>\n",
       "  <tbody>\n",
       "    <tr>\n",
       "      <th>0</th>\n",
       "      <td>1000</td>\n",
       "      <td>5</td>\n",
       "      <td>2,253.49</td>\n",
       "    </tr>\n",
       "    <tr>\n",
       "      <th>1</th>\n",
       "      <td>1000</td>\n",
       "      <td>6</td>\n",
       "      <td>23,233.77</td>\n",
       "    </tr>\n",
       "    <tr>\n",
       "      <th>2</th>\n",
       "      <td>1000</td>\n",
       "      <td>7</td>\n",
       "      <td>14,003.64</td>\n",
       "    </tr>\n",
       "    <tr>\n",
       "      <th>3</th>\n",
       "      <td>1000</td>\n",
       "      <td>8</td>\n",
       "      <td>14,055.93</td>\n",
       "    </tr>\n",
       "    <tr>\n",
       "      <th>4</th>\n",
       "      <td>1000</td>\n",
       "      <td>9</td>\n",
       "      <td>14,568.91</td>\n",
       "    </tr>\n",
       "    <tr>\n",
       "      <th>...</th>\n",
       "      <td>...</td>\n",
       "      <td>...</td>\n",
       "      <td>...</td>\n",
       "    </tr>\n",
       "    <tr>\n",
       "      <th>3198</th>\n",
       "      <td>1498</td>\n",
       "      <td>10</td>\n",
       "      <td>20,579.36</td>\n",
       "    </tr>\n",
       "    <tr>\n",
       "      <th>3199</th>\n",
       "      <td>1499</td>\n",
       "      <td>9</td>\n",
       "      <td>1,845.75</td>\n",
       "    </tr>\n",
       "    <tr>\n",
       "      <th>3200</th>\n",
       "      <td>1499</td>\n",
       "      <td>10</td>\n",
       "      <td>17,788.51</td>\n",
       "    </tr>\n",
       "    <tr>\n",
       "      <th>3201</th>\n",
       "      <td>1499</td>\n",
       "      <td>11</td>\n",
       "      <td>17,963.31</td>\n",
       "    </tr>\n",
       "    <tr>\n",
       "      <th>3202</th>\n",
       "      <td>1499</td>\n",
       "      <td>12</td>\n",
       "      <td>13,055.58</td>\n",
       "    </tr>\n",
       "  </tbody>\n",
       "</table>\n",
       "<p>3203 rows × 3 columns</p>\n",
       "</div>"
      ],
      "text/plain": [
       "      user_id  month   mb_used\n",
       "0        1000      5  2,253.49\n",
       "1        1000      6 23,233.77\n",
       "2        1000      7 14,003.64\n",
       "3        1000      8 14,055.93\n",
       "4        1000      9 14,568.91\n",
       "...       ...    ...       ...\n",
       "3198     1498     10 20,579.36\n",
       "3199     1499      9  1,845.75\n",
       "3200     1499     10 17,788.51\n",
       "3201     1499     11 17,963.31\n",
       "3202     1499     12 13,055.58\n",
       "\n",
       "[3203 rows x 3 columns]"
      ]
     },
     "execution_count": 32,
     "metadata": {},
     "output_type": "execute_result"
    }
   ],
   "source": [
    "internet_mb_month_pivot = amount_by_month(internet, 'mb_used', 'sum')\n",
    "internet_mb_month_pivot"
   ]
  },
  {
   "cell_type": "code",
   "execution_count": 33,
   "id": "ed095090",
   "metadata": {},
   "outputs": [
    {
     "data": {
      "text/html": [
       "<div>\n",
       "<style scoped>\n",
       "    .dataframe tbody tr th:only-of-type {\n",
       "        vertical-align: middle;\n",
       "    }\n",
       "\n",
       "    .dataframe tbody tr th {\n",
       "        vertical-align: top;\n",
       "    }\n",
       "\n",
       "    .dataframe thead th {\n",
       "        text-align: right;\n",
       "    }\n",
       "</style>\n",
       "<table border=\"1\" class=\"dataframe\">\n",
       "  <thead>\n",
       "    <tr style=\"text-align: right;\">\n",
       "      <th></th>\n",
       "      <th>user_id</th>\n",
       "      <th>month</th>\n",
       "      <th>call_count</th>\n",
       "      <th>call_duration_min</th>\n",
       "      <th>sms_count</th>\n",
       "      <th>mb_used</th>\n",
       "      <th>age</th>\n",
       "      <th>churn_date</th>\n",
       "      <th>city</th>\n",
       "      <th>first_name</th>\n",
       "      <th>last_name</th>\n",
       "      <th>reg_date</th>\n",
       "      <th>tariff</th>\n",
       "      <th>messages_included</th>\n",
       "      <th>mb_per_month_included</th>\n",
       "      <th>minutes_included</th>\n",
       "      <th>rub_monthly_fee</th>\n",
       "      <th>rub_per_gb</th>\n",
       "      <th>rub_per_message</th>\n",
       "      <th>rub_per_minute</th>\n",
       "    </tr>\n",
       "  </thead>\n",
       "  <tbody>\n",
       "    <tr>\n",
       "      <th>0</th>\n",
       "      <td>1000</td>\n",
       "      <td>5.00</td>\n",
       "      <td>22.00</td>\n",
       "      <td>159.00</td>\n",
       "      <td>22.00</td>\n",
       "      <td>2,253.49</td>\n",
       "      <td>52</td>\n",
       "      <td>NaT</td>\n",
       "      <td>Краснодар</td>\n",
       "      <td>Рафаил</td>\n",
       "      <td>Верещагин</td>\n",
       "      <td>2018-05-25</td>\n",
       "      <td>ultra</td>\n",
       "      <td>1000</td>\n",
       "      <td>30720</td>\n",
       "      <td>3000</td>\n",
       "      <td>1950</td>\n",
       "      <td>150</td>\n",
       "      <td>1</td>\n",
       "      <td>1</td>\n",
       "    </tr>\n",
       "    <tr>\n",
       "      <th>1</th>\n",
       "      <td>1000</td>\n",
       "      <td>6.00</td>\n",
       "      <td>43.00</td>\n",
       "      <td>172.00</td>\n",
       "      <td>60.00</td>\n",
       "      <td>23,233.77</td>\n",
       "      <td>52</td>\n",
       "      <td>NaT</td>\n",
       "      <td>Краснодар</td>\n",
       "      <td>Рафаил</td>\n",
       "      <td>Верещагин</td>\n",
       "      <td>2018-05-25</td>\n",
       "      <td>ultra</td>\n",
       "      <td>1000</td>\n",
       "      <td>30720</td>\n",
       "      <td>3000</td>\n",
       "      <td>1950</td>\n",
       "      <td>150</td>\n",
       "      <td>1</td>\n",
       "      <td>1</td>\n",
       "    </tr>\n",
       "    <tr>\n",
       "      <th>2</th>\n",
       "      <td>1000</td>\n",
       "      <td>7.00</td>\n",
       "      <td>47.00</td>\n",
       "      <td>340.00</td>\n",
       "      <td>75.00</td>\n",
       "      <td>14,003.64</td>\n",
       "      <td>52</td>\n",
       "      <td>NaT</td>\n",
       "      <td>Краснодар</td>\n",
       "      <td>Рафаил</td>\n",
       "      <td>Верещагин</td>\n",
       "      <td>2018-05-25</td>\n",
       "      <td>ultra</td>\n",
       "      <td>1000</td>\n",
       "      <td>30720</td>\n",
       "      <td>3000</td>\n",
       "      <td>1950</td>\n",
       "      <td>150</td>\n",
       "      <td>1</td>\n",
       "      <td>1</td>\n",
       "    </tr>\n",
       "    <tr>\n",
       "      <th>3</th>\n",
       "      <td>1000</td>\n",
       "      <td>8.00</td>\n",
       "      <td>52.00</td>\n",
       "      <td>408.00</td>\n",
       "      <td>81.00</td>\n",
       "      <td>14,055.93</td>\n",
       "      <td>52</td>\n",
       "      <td>NaT</td>\n",
       "      <td>Краснодар</td>\n",
       "      <td>Рафаил</td>\n",
       "      <td>Верещагин</td>\n",
       "      <td>2018-05-25</td>\n",
       "      <td>ultra</td>\n",
       "      <td>1000</td>\n",
       "      <td>30720</td>\n",
       "      <td>3000</td>\n",
       "      <td>1950</td>\n",
       "      <td>150</td>\n",
       "      <td>1</td>\n",
       "      <td>1</td>\n",
       "    </tr>\n",
       "    <tr>\n",
       "      <th>4</th>\n",
       "      <td>1000</td>\n",
       "      <td>9.00</td>\n",
       "      <td>58.00</td>\n",
       "      <td>466.00</td>\n",
       "      <td>57.00</td>\n",
       "      <td>14,568.91</td>\n",
       "      <td>52</td>\n",
       "      <td>NaT</td>\n",
       "      <td>Краснодар</td>\n",
       "      <td>Рафаил</td>\n",
       "      <td>Верещагин</td>\n",
       "      <td>2018-05-25</td>\n",
       "      <td>ultra</td>\n",
       "      <td>1000</td>\n",
       "      <td>30720</td>\n",
       "      <td>3000</td>\n",
       "      <td>1950</td>\n",
       "      <td>150</td>\n",
       "      <td>1</td>\n",
       "      <td>1</td>\n",
       "    </tr>\n",
       "    <tr>\n",
       "      <th>...</th>\n",
       "      <td>...</td>\n",
       "      <td>...</td>\n",
       "      <td>...</td>\n",
       "      <td>...</td>\n",
       "      <td>...</td>\n",
       "      <td>...</td>\n",
       "      <td>...</td>\n",
       "      <td>...</td>\n",
       "      <td>...</td>\n",
       "      <td>...</td>\n",
       "      <td>...</td>\n",
       "      <td>...</td>\n",
       "      <td>...</td>\n",
       "      <td>...</td>\n",
       "      <td>...</td>\n",
       "      <td>...</td>\n",
       "      <td>...</td>\n",
       "      <td>...</td>\n",
       "      <td>...</td>\n",
       "      <td>...</td>\n",
       "    </tr>\n",
       "    <tr>\n",
       "      <th>3211</th>\n",
       "      <td>1489</td>\n",
       "      <td>9.00</td>\n",
       "      <td>NaN</td>\n",
       "      <td>NaN</td>\n",
       "      <td>32.00</td>\n",
       "      <td>17,206.30</td>\n",
       "      <td>35</td>\n",
       "      <td>NaT</td>\n",
       "      <td>Санкт-Петербург</td>\n",
       "      <td>Павел</td>\n",
       "      <td>Гончаров</td>\n",
       "      <td>2018-08-15</td>\n",
       "      <td>smart</td>\n",
       "      <td>50</td>\n",
       "      <td>15360</td>\n",
       "      <td>500</td>\n",
       "      <td>550</td>\n",
       "      <td>200</td>\n",
       "      <td>3</td>\n",
       "      <td>3</td>\n",
       "    </tr>\n",
       "    <tr>\n",
       "      <th>3212</th>\n",
       "      <td>1489</td>\n",
       "      <td>10.00</td>\n",
       "      <td>NaN</td>\n",
       "      <td>NaN</td>\n",
       "      <td>21.00</td>\n",
       "      <td>19,559.44</td>\n",
       "      <td>35</td>\n",
       "      <td>NaT</td>\n",
       "      <td>Санкт-Петербург</td>\n",
       "      <td>Павел</td>\n",
       "      <td>Гончаров</td>\n",
       "      <td>2018-08-15</td>\n",
       "      <td>smart</td>\n",
       "      <td>50</td>\n",
       "      <td>15360</td>\n",
       "      <td>500</td>\n",
       "      <td>550</td>\n",
       "      <td>200</td>\n",
       "      <td>3</td>\n",
       "      <td>3</td>\n",
       "    </tr>\n",
       "    <tr>\n",
       "      <th>3213</th>\n",
       "      <td>1489</td>\n",
       "      <td>11.00</td>\n",
       "      <td>NaN</td>\n",
       "      <td>NaN</td>\n",
       "      <td>20.00</td>\n",
       "      <td>17,491.56</td>\n",
       "      <td>35</td>\n",
       "      <td>NaT</td>\n",
       "      <td>Санкт-Петербург</td>\n",
       "      <td>Павел</td>\n",
       "      <td>Гончаров</td>\n",
       "      <td>2018-08-15</td>\n",
       "      <td>smart</td>\n",
       "      <td>50</td>\n",
       "      <td>15360</td>\n",
       "      <td>500</td>\n",
       "      <td>550</td>\n",
       "      <td>200</td>\n",
       "      <td>3</td>\n",
       "      <td>3</td>\n",
       "    </tr>\n",
       "    <tr>\n",
       "      <th>3214</th>\n",
       "      <td>1489</td>\n",
       "      <td>12.00</td>\n",
       "      <td>NaN</td>\n",
       "      <td>NaN</td>\n",
       "      <td>35.00</td>\n",
       "      <td>17,322.51</td>\n",
       "      <td>35</td>\n",
       "      <td>NaT</td>\n",
       "      <td>Санкт-Петербург</td>\n",
       "      <td>Павел</td>\n",
       "      <td>Гончаров</td>\n",
       "      <td>2018-08-15</td>\n",
       "      <td>smart</td>\n",
       "      <td>50</td>\n",
       "      <td>15360</td>\n",
       "      <td>500</td>\n",
       "      <td>550</td>\n",
       "      <td>200</td>\n",
       "      <td>3</td>\n",
       "      <td>3</td>\n",
       "    </tr>\n",
       "    <tr>\n",
       "      <th>3215</th>\n",
       "      <td>1371</td>\n",
       "      <td>NaN</td>\n",
       "      <td>NaN</td>\n",
       "      <td>NaN</td>\n",
       "      <td>NaN</td>\n",
       "      <td>NaN</td>\n",
       "      <td>50</td>\n",
       "      <td>2018-12-30</td>\n",
       "      <td>Омск</td>\n",
       "      <td>Ириней</td>\n",
       "      <td>Трофимов</td>\n",
       "      <td>2018-12-25</td>\n",
       "      <td>smart</td>\n",
       "      <td>50</td>\n",
       "      <td>15360</td>\n",
       "      <td>500</td>\n",
       "      <td>550</td>\n",
       "      <td>200</td>\n",
       "      <td>3</td>\n",
       "      <td>3</td>\n",
       "    </tr>\n",
       "  </tbody>\n",
       "</table>\n",
       "<p>3216 rows × 20 columns</p>\n",
       "</div>"
      ],
      "text/plain": [
       "      user_id  month  call_count  call_duration_min  sms_count   mb_used  age  \\\n",
       "0        1000   5.00       22.00             159.00      22.00  2,253.49   52   \n",
       "1        1000   6.00       43.00             172.00      60.00 23,233.77   52   \n",
       "2        1000   7.00       47.00             340.00      75.00 14,003.64   52   \n",
       "3        1000   8.00       52.00             408.00      81.00 14,055.93   52   \n",
       "4        1000   9.00       58.00             466.00      57.00 14,568.91   52   \n",
       "...       ...    ...         ...                ...        ...       ...  ...   \n",
       "3211     1489   9.00         NaN                NaN      32.00 17,206.30   35   \n",
       "3212     1489  10.00         NaN                NaN      21.00 19,559.44   35   \n",
       "3213     1489  11.00         NaN                NaN      20.00 17,491.56   35   \n",
       "3214     1489  12.00         NaN                NaN      35.00 17,322.51   35   \n",
       "3215     1371    NaN         NaN                NaN        NaN       NaN   50   \n",
       "\n",
       "     churn_date             city first_name  last_name   reg_date tariff  \\\n",
       "0           NaT        Краснодар     Рафаил  Верещагин 2018-05-25  ultra   \n",
       "1           NaT        Краснодар     Рафаил  Верещагин 2018-05-25  ultra   \n",
       "2           NaT        Краснодар     Рафаил  Верещагин 2018-05-25  ultra   \n",
       "3           NaT        Краснодар     Рафаил  Верещагин 2018-05-25  ultra   \n",
       "4           NaT        Краснодар     Рафаил  Верещагин 2018-05-25  ultra   \n",
       "...         ...              ...        ...        ...        ...    ...   \n",
       "3211        NaT  Санкт-Петербург      Павел   Гончаров 2018-08-15  smart   \n",
       "3212        NaT  Санкт-Петербург      Павел   Гончаров 2018-08-15  smart   \n",
       "3213        NaT  Санкт-Петербург      Павел   Гончаров 2018-08-15  smart   \n",
       "3214        NaT  Санкт-Петербург      Павел   Гончаров 2018-08-15  smart   \n",
       "3215 2018-12-30             Омск     Ириней   Трофимов 2018-12-25  smart   \n",
       "\n",
       "      messages_included  mb_per_month_included  minutes_included  \\\n",
       "0                  1000                  30720              3000   \n",
       "1                  1000                  30720              3000   \n",
       "2                  1000                  30720              3000   \n",
       "3                  1000                  30720              3000   \n",
       "4                  1000                  30720              3000   \n",
       "...                 ...                    ...               ...   \n",
       "3211                 50                  15360               500   \n",
       "3212                 50                  15360               500   \n",
       "3213                 50                  15360               500   \n",
       "3214                 50                  15360               500   \n",
       "3215                 50                  15360               500   \n",
       "\n",
       "      rub_monthly_fee  rub_per_gb  rub_per_message  rub_per_minute  \n",
       "0                1950         150                1               1  \n",
       "1                1950         150                1               1  \n",
       "2                1950         150                1               1  \n",
       "3                1950         150                1               1  \n",
       "4                1950         150                1               1  \n",
       "...               ...         ...              ...             ...  \n",
       "3211              550         200                3               3  \n",
       "3212              550         200                3               3  \n",
       "3213              550         200                3               3  \n",
       "3214              550         200                3               3  \n",
       "3215              550         200                3               3  \n",
       "\n",
       "[3216 rows x 20 columns]"
      ]
     },
     "execution_count": 33,
     "metadata": {},
     "output_type": "execute_result"
    }
   ],
   "source": [
    "# группируем все таблицы в одну для дальнейших расчетов\n",
    "work_data = pd.merge(calls_count_month_pivot, calls_min_month_pivot, on=['user_id', 'month'], how='outer')\n",
    "work_data = pd.merge(work_data, messages_count_month_pivot, on=['user_id', 'month'], how='outer')\n",
    "work_data = pd.merge(work_data, internet_mb_month_pivot, on=['user_id', 'month'], how='outer')\n",
    "work_data = pd.merge(work_data, users, on='user_id', how='outer')\n",
    "work_data = pd.merge(work_data, tariffs, on='tariff', how='outer')\n",
    "#work_data = work_data.sms_count.astype('int')\n",
    "work_data"
   ]
  },
  {
   "cell_type": "code",
   "execution_count": 34,
   "id": "8b05b9cf",
   "metadata": {},
   "outputs": [],
   "source": [
    "# ф-ция для помесячной выручки с каждого пользователя\n",
    "def revenue(row):\n",
    "    # считаем разности между потраченными услугами и лимитами\n",
    "    delta_call = row.call_duration_min - row.minutes_included\n",
    "    delta_sms = row.sms_count - row.messages_included\n",
    "    delta_mb = row.mb_used - row.mb_per_month_included \n",
    "    total = row.rub_monthly_fee\n",
    "    # считаем перерасход\n",
    "    if delta_call > 0:\n",
    "        total += delta_call * row.rub_per_minute\n",
    "    if delta_sms > 0:\n",
    "        total += delta_sms * row.rub_per_message\n",
    "    if delta_mb > 0:\n",
    "    # считаем округление к Гб    \n",
    "        unit, rest = divmod(delta_mb, 1024)\n",
    "        if rest == 0:\n",
    "            total += unit * row.rub_per_gb\n",
    "        else:\n",
    "            total += (unit + 1) * row.rub_per_gb\n",
    "    return total"
   ]
  },
  {
   "cell_type": "code",
   "execution_count": 35,
   "id": "90c7ad42",
   "metadata": {},
   "outputs": [
    {
     "data": {
      "text/html": [
       "<div>\n",
       "<style scoped>\n",
       "    .dataframe tbody tr th:only-of-type {\n",
       "        vertical-align: middle;\n",
       "    }\n",
       "\n",
       "    .dataframe tbody tr th {\n",
       "        vertical-align: top;\n",
       "    }\n",
       "\n",
       "    .dataframe thead th {\n",
       "        text-align: right;\n",
       "    }\n",
       "</style>\n",
       "<table border=\"1\" class=\"dataframe\">\n",
       "  <thead>\n",
       "    <tr style=\"text-align: right;\">\n",
       "      <th></th>\n",
       "      <th>user_id</th>\n",
       "      <th>month</th>\n",
       "      <th>call_count</th>\n",
       "      <th>call_duration_min</th>\n",
       "      <th>sms_count</th>\n",
       "      <th>mb_used</th>\n",
       "      <th>age</th>\n",
       "      <th>churn_date</th>\n",
       "      <th>city</th>\n",
       "      <th>first_name</th>\n",
       "      <th>...</th>\n",
       "      <th>reg_date</th>\n",
       "      <th>tariff</th>\n",
       "      <th>messages_included</th>\n",
       "      <th>mb_per_month_included</th>\n",
       "      <th>minutes_included</th>\n",
       "      <th>rub_monthly_fee</th>\n",
       "      <th>rub_per_gb</th>\n",
       "      <th>rub_per_message</th>\n",
       "      <th>rub_per_minute</th>\n",
       "      <th>revenue</th>\n",
       "    </tr>\n",
       "  </thead>\n",
       "  <tbody>\n",
       "    <tr>\n",
       "      <th>0</th>\n",
       "      <td>1000</td>\n",
       "      <td>5.00</td>\n",
       "      <td>22.00</td>\n",
       "      <td>159.00</td>\n",
       "      <td>22.00</td>\n",
       "      <td>2,253.49</td>\n",
       "      <td>52</td>\n",
       "      <td>NaT</td>\n",
       "      <td>Краснодар</td>\n",
       "      <td>Рафаил</td>\n",
       "      <td>...</td>\n",
       "      <td>2018-05-25</td>\n",
       "      <td>ultra</td>\n",
       "      <td>1000</td>\n",
       "      <td>30720</td>\n",
       "      <td>3000</td>\n",
       "      <td>1950</td>\n",
       "      <td>150</td>\n",
       "      <td>1</td>\n",
       "      <td>1</td>\n",
       "      <td>1,950.00</td>\n",
       "    </tr>\n",
       "    <tr>\n",
       "      <th>1</th>\n",
       "      <td>1000</td>\n",
       "      <td>6.00</td>\n",
       "      <td>43.00</td>\n",
       "      <td>172.00</td>\n",
       "      <td>60.00</td>\n",
       "      <td>23,233.77</td>\n",
       "      <td>52</td>\n",
       "      <td>NaT</td>\n",
       "      <td>Краснодар</td>\n",
       "      <td>Рафаил</td>\n",
       "      <td>...</td>\n",
       "      <td>2018-05-25</td>\n",
       "      <td>ultra</td>\n",
       "      <td>1000</td>\n",
       "      <td>30720</td>\n",
       "      <td>3000</td>\n",
       "      <td>1950</td>\n",
       "      <td>150</td>\n",
       "      <td>1</td>\n",
       "      <td>1</td>\n",
       "      <td>1,950.00</td>\n",
       "    </tr>\n",
       "    <tr>\n",
       "      <th>2</th>\n",
       "      <td>1000</td>\n",
       "      <td>7.00</td>\n",
       "      <td>47.00</td>\n",
       "      <td>340.00</td>\n",
       "      <td>75.00</td>\n",
       "      <td>14,003.64</td>\n",
       "      <td>52</td>\n",
       "      <td>NaT</td>\n",
       "      <td>Краснодар</td>\n",
       "      <td>Рафаил</td>\n",
       "      <td>...</td>\n",
       "      <td>2018-05-25</td>\n",
       "      <td>ultra</td>\n",
       "      <td>1000</td>\n",
       "      <td>30720</td>\n",
       "      <td>3000</td>\n",
       "      <td>1950</td>\n",
       "      <td>150</td>\n",
       "      <td>1</td>\n",
       "      <td>1</td>\n",
       "      <td>1,950.00</td>\n",
       "    </tr>\n",
       "    <tr>\n",
       "      <th>3</th>\n",
       "      <td>1000</td>\n",
       "      <td>8.00</td>\n",
       "      <td>52.00</td>\n",
       "      <td>408.00</td>\n",
       "      <td>81.00</td>\n",
       "      <td>14,055.93</td>\n",
       "      <td>52</td>\n",
       "      <td>NaT</td>\n",
       "      <td>Краснодар</td>\n",
       "      <td>Рафаил</td>\n",
       "      <td>...</td>\n",
       "      <td>2018-05-25</td>\n",
       "      <td>ultra</td>\n",
       "      <td>1000</td>\n",
       "      <td>30720</td>\n",
       "      <td>3000</td>\n",
       "      <td>1950</td>\n",
       "      <td>150</td>\n",
       "      <td>1</td>\n",
       "      <td>1</td>\n",
       "      <td>1,950.00</td>\n",
       "    </tr>\n",
       "    <tr>\n",
       "      <th>4</th>\n",
       "      <td>1000</td>\n",
       "      <td>9.00</td>\n",
       "      <td>58.00</td>\n",
       "      <td>466.00</td>\n",
       "      <td>57.00</td>\n",
       "      <td>14,568.91</td>\n",
       "      <td>52</td>\n",
       "      <td>NaT</td>\n",
       "      <td>Краснодар</td>\n",
       "      <td>Рафаил</td>\n",
       "      <td>...</td>\n",
       "      <td>2018-05-25</td>\n",
       "      <td>ultra</td>\n",
       "      <td>1000</td>\n",
       "      <td>30720</td>\n",
       "      <td>3000</td>\n",
       "      <td>1950</td>\n",
       "      <td>150</td>\n",
       "      <td>1</td>\n",
       "      <td>1</td>\n",
       "      <td>1,950.00</td>\n",
       "    </tr>\n",
       "    <tr>\n",
       "      <th>...</th>\n",
       "      <td>...</td>\n",
       "      <td>...</td>\n",
       "      <td>...</td>\n",
       "      <td>...</td>\n",
       "      <td>...</td>\n",
       "      <td>...</td>\n",
       "      <td>...</td>\n",
       "      <td>...</td>\n",
       "      <td>...</td>\n",
       "      <td>...</td>\n",
       "      <td>...</td>\n",
       "      <td>...</td>\n",
       "      <td>...</td>\n",
       "      <td>...</td>\n",
       "      <td>...</td>\n",
       "      <td>...</td>\n",
       "      <td>...</td>\n",
       "      <td>...</td>\n",
       "      <td>...</td>\n",
       "      <td>...</td>\n",
       "      <td>...</td>\n",
       "    </tr>\n",
       "    <tr>\n",
       "      <th>3211</th>\n",
       "      <td>1489</td>\n",
       "      <td>9.00</td>\n",
       "      <td>NaN</td>\n",
       "      <td>NaN</td>\n",
       "      <td>32.00</td>\n",
       "      <td>17,206.30</td>\n",
       "      <td>35</td>\n",
       "      <td>NaT</td>\n",
       "      <td>Санкт-Петербург</td>\n",
       "      <td>Павел</td>\n",
       "      <td>...</td>\n",
       "      <td>2018-08-15</td>\n",
       "      <td>smart</td>\n",
       "      <td>50</td>\n",
       "      <td>15360</td>\n",
       "      <td>500</td>\n",
       "      <td>550</td>\n",
       "      <td>200</td>\n",
       "      <td>3</td>\n",
       "      <td>3</td>\n",
       "      <td>950.00</td>\n",
       "    </tr>\n",
       "    <tr>\n",
       "      <th>3212</th>\n",
       "      <td>1489</td>\n",
       "      <td>10.00</td>\n",
       "      <td>NaN</td>\n",
       "      <td>NaN</td>\n",
       "      <td>21.00</td>\n",
       "      <td>19,559.44</td>\n",
       "      <td>35</td>\n",
       "      <td>NaT</td>\n",
       "      <td>Санкт-Петербург</td>\n",
       "      <td>Павел</td>\n",
       "      <td>...</td>\n",
       "      <td>2018-08-15</td>\n",
       "      <td>smart</td>\n",
       "      <td>50</td>\n",
       "      <td>15360</td>\n",
       "      <td>500</td>\n",
       "      <td>550</td>\n",
       "      <td>200</td>\n",
       "      <td>3</td>\n",
       "      <td>3</td>\n",
       "      <td>1,550.00</td>\n",
       "    </tr>\n",
       "    <tr>\n",
       "      <th>3213</th>\n",
       "      <td>1489</td>\n",
       "      <td>11.00</td>\n",
       "      <td>NaN</td>\n",
       "      <td>NaN</td>\n",
       "      <td>20.00</td>\n",
       "      <td>17,491.56</td>\n",
       "      <td>35</td>\n",
       "      <td>NaT</td>\n",
       "      <td>Санкт-Петербург</td>\n",
       "      <td>Павел</td>\n",
       "      <td>...</td>\n",
       "      <td>2018-08-15</td>\n",
       "      <td>smart</td>\n",
       "      <td>50</td>\n",
       "      <td>15360</td>\n",
       "      <td>500</td>\n",
       "      <td>550</td>\n",
       "      <td>200</td>\n",
       "      <td>3</td>\n",
       "      <td>3</td>\n",
       "      <td>1,150.00</td>\n",
       "    </tr>\n",
       "    <tr>\n",
       "      <th>3214</th>\n",
       "      <td>1489</td>\n",
       "      <td>12.00</td>\n",
       "      <td>NaN</td>\n",
       "      <td>NaN</td>\n",
       "      <td>35.00</td>\n",
       "      <td>17,322.51</td>\n",
       "      <td>35</td>\n",
       "      <td>NaT</td>\n",
       "      <td>Санкт-Петербург</td>\n",
       "      <td>Павел</td>\n",
       "      <td>...</td>\n",
       "      <td>2018-08-15</td>\n",
       "      <td>smart</td>\n",
       "      <td>50</td>\n",
       "      <td>15360</td>\n",
       "      <td>500</td>\n",
       "      <td>550</td>\n",
       "      <td>200</td>\n",
       "      <td>3</td>\n",
       "      <td>3</td>\n",
       "      <td>950.00</td>\n",
       "    </tr>\n",
       "    <tr>\n",
       "      <th>3215</th>\n",
       "      <td>1371</td>\n",
       "      <td>NaN</td>\n",
       "      <td>NaN</td>\n",
       "      <td>NaN</td>\n",
       "      <td>NaN</td>\n",
       "      <td>NaN</td>\n",
       "      <td>50</td>\n",
       "      <td>2018-12-30</td>\n",
       "      <td>Омск</td>\n",
       "      <td>Ириней</td>\n",
       "      <td>...</td>\n",
       "      <td>2018-12-25</td>\n",
       "      <td>smart</td>\n",
       "      <td>50</td>\n",
       "      <td>15360</td>\n",
       "      <td>500</td>\n",
       "      <td>550</td>\n",
       "      <td>200</td>\n",
       "      <td>3</td>\n",
       "      <td>3</td>\n",
       "      <td>550.00</td>\n",
       "    </tr>\n",
       "  </tbody>\n",
       "</table>\n",
       "<p>3216 rows × 21 columns</p>\n",
       "</div>"
      ],
      "text/plain": [
       "      user_id  month  call_count  call_duration_min  sms_count   mb_used  age  \\\n",
       "0        1000   5.00       22.00             159.00      22.00  2,253.49   52   \n",
       "1        1000   6.00       43.00             172.00      60.00 23,233.77   52   \n",
       "2        1000   7.00       47.00             340.00      75.00 14,003.64   52   \n",
       "3        1000   8.00       52.00             408.00      81.00 14,055.93   52   \n",
       "4        1000   9.00       58.00             466.00      57.00 14,568.91   52   \n",
       "...       ...    ...         ...                ...        ...       ...  ...   \n",
       "3211     1489   9.00         NaN                NaN      32.00 17,206.30   35   \n",
       "3212     1489  10.00         NaN                NaN      21.00 19,559.44   35   \n",
       "3213     1489  11.00         NaN                NaN      20.00 17,491.56   35   \n",
       "3214     1489  12.00         NaN                NaN      35.00 17,322.51   35   \n",
       "3215     1371    NaN         NaN                NaN        NaN       NaN   50   \n",
       "\n",
       "     churn_date             city first_name  ...   reg_date tariff  \\\n",
       "0           NaT        Краснодар     Рафаил  ... 2018-05-25  ultra   \n",
       "1           NaT        Краснодар     Рафаил  ... 2018-05-25  ultra   \n",
       "2           NaT        Краснодар     Рафаил  ... 2018-05-25  ultra   \n",
       "3           NaT        Краснодар     Рафаил  ... 2018-05-25  ultra   \n",
       "4           NaT        Краснодар     Рафаил  ... 2018-05-25  ultra   \n",
       "...         ...              ...        ...  ...        ...    ...   \n",
       "3211        NaT  Санкт-Петербург      Павел  ... 2018-08-15  smart   \n",
       "3212        NaT  Санкт-Петербург      Павел  ... 2018-08-15  smart   \n",
       "3213        NaT  Санкт-Петербург      Павел  ... 2018-08-15  smart   \n",
       "3214        NaT  Санкт-Петербург      Павел  ... 2018-08-15  smart   \n",
       "3215 2018-12-30             Омск     Ириней  ... 2018-12-25  smart   \n",
       "\n",
       "     messages_included  mb_per_month_included  minutes_included  \\\n",
       "0                 1000                  30720              3000   \n",
       "1                 1000                  30720              3000   \n",
       "2                 1000                  30720              3000   \n",
       "3                 1000                  30720              3000   \n",
       "4                 1000                  30720              3000   \n",
       "...                ...                    ...               ...   \n",
       "3211                50                  15360               500   \n",
       "3212                50                  15360               500   \n",
       "3213                50                  15360               500   \n",
       "3214                50                  15360               500   \n",
       "3215                50                  15360               500   \n",
       "\n",
       "      rub_monthly_fee  rub_per_gb  rub_per_message  rub_per_minute  revenue  \n",
       "0                1950         150                1               1 1,950.00  \n",
       "1                1950         150                1               1 1,950.00  \n",
       "2                1950         150                1               1 1,950.00  \n",
       "3                1950         150                1               1 1,950.00  \n",
       "4                1950         150                1               1 1,950.00  \n",
       "...               ...         ...              ...             ...      ...  \n",
       "3211              550         200                3               3   950.00  \n",
       "3212              550         200                3               3 1,550.00  \n",
       "3213              550         200                3               3 1,150.00  \n",
       "3214              550         200                3               3   950.00  \n",
       "3215              550         200                3               3   550.00  \n",
       "\n",
       "[3216 rows x 21 columns]"
      ]
     },
     "execution_count": 35,
     "metadata": {},
     "output_type": "execute_result"
    }
   ],
   "source": [
    "# заполняем столбец с выручкой\n",
    "work_data['revenue'] = work_data.apply(revenue, axis=1)\n",
    "work_data"
   ]
  },
  {
   "cell_type": "markdown",
   "id": "659089fc",
   "metadata": {},
   "source": [
    "Вывод. Объединили данные из всех источников и на основании цен за предоставляемые оператором услуги расчитали какую выручку приносил каждый клиент по месячно в течении 2018 года"
   ]
  },
  {
   "cell_type": "markdown",
   "id": "80c58730",
   "metadata": {},
   "source": [
    "# Шаг 3"
   ]
  },
  {
   "cell_type": "markdown",
   "id": "e875a20d",
   "metadata": {},
   "source": [
    "Сколько требуется минут, сообщений, интернет-трафика в месяц по каждому тарифу"
   ]
  },
  {
   "cell_type": "code",
   "execution_count": 36,
   "id": "7fd7bb5d",
   "metadata": {},
   "outputs": [
    {
     "data": {
      "text/html": [
       "<div>\n",
       "<style scoped>\n",
       "    .dataframe tbody tr th:only-of-type {\n",
       "        vertical-align: middle;\n",
       "    }\n",
       "\n",
       "    .dataframe tbody tr th {\n",
       "        vertical-align: top;\n",
       "    }\n",
       "\n",
       "    .dataframe thead th {\n",
       "        text-align: right;\n",
       "    }\n",
       "</style>\n",
       "<table border=\"1\" class=\"dataframe\">\n",
       "  <thead>\n",
       "    <tr style=\"text-align: right;\">\n",
       "      <th></th>\n",
       "      <th></th>\n",
       "      <th>call_duration_min</th>\n",
       "      <th>mb_used</th>\n",
       "      <th>sms_count</th>\n",
       "    </tr>\n",
       "    <tr>\n",
       "      <th>tariff</th>\n",
       "      <th>month</th>\n",
       "      <th></th>\n",
       "      <th></th>\n",
       "      <th></th>\n",
       "    </tr>\n",
       "  </thead>\n",
       "  <tbody>\n",
       "    <tr>\n",
       "      <th rowspan=\"12\" valign=\"top\">smart</th>\n",
       "      <th>1.00</th>\n",
       "      <td>6,931.00</td>\n",
       "      <td>289,466.40</td>\n",
       "      <td>620.00</td>\n",
       "    </tr>\n",
       "    <tr>\n",
       "      <th>2.00</th>\n",
       "      <td>17,324.00</td>\n",
       "      <td>672,629.15</td>\n",
       "      <td>1,397.00</td>\n",
       "    </tr>\n",
       "    <tr>\n",
       "      <th>3.00</th>\n",
       "      <td>30,034.00</td>\n",
       "      <td>1,163,020.25</td>\n",
       "      <td>2,453.00</td>\n",
       "    </tr>\n",
       "    <tr>\n",
       "      <th>4.00</th>\n",
       "      <td>41,119.00</td>\n",
       "      <td>1,507,764.23</td>\n",
       "      <td>3,443.00</td>\n",
       "    </tr>\n",
       "    <tr>\n",
       "      <th>5.00</th>\n",
       "      <td>54,618.00</td>\n",
       "      <td>2,228,530.99</td>\n",
       "      <td>4,762.00</td>\n",
       "    </tr>\n",
       "    <tr>\n",
       "      <th>6.00</th>\n",
       "      <td>64,885.00</td>\n",
       "      <td>2,590,322.27</td>\n",
       "      <td>5,478.00</td>\n",
       "    </tr>\n",
       "    <tr>\n",
       "      <th>7.00</th>\n",
       "      <td>82,079.00</td>\n",
       "      <td>3,164,373.22</td>\n",
       "      <td>6,784.00</td>\n",
       "    </tr>\n",
       "    <tr>\n",
       "      <th>8.00</th>\n",
       "      <td>99,045.00</td>\n",
       "      <td>3,903,519.22</td>\n",
       "      <td>7,905.00</td>\n",
       "    </tr>\n",
       "    <tr>\n",
       "      <th>9.00</th>\n",
       "      <td>111,439.00</td>\n",
       "      <td>4,238,930.49</td>\n",
       "      <td>8,746.00</td>\n",
       "    </tr>\n",
       "    <tr>\n",
       "      <th>10.00</th>\n",
       "      <td>125,284.00</td>\n",
       "      <td>4,926,594.13</td>\n",
       "      <td>9,927.00</td>\n",
       "    </tr>\n",
       "    <tr>\n",
       "      <th>11.00</th>\n",
       "      <td>137,544.00</td>\n",
       "      <td>5,339,040.14</td>\n",
       "      <td>10,768.00</td>\n",
       "    </tr>\n",
       "    <tr>\n",
       "      <th>12.00</th>\n",
       "      <td>161,275.00</td>\n",
       "      <td>6,104,304.11</td>\n",
       "      <td>12,130.00</td>\n",
       "    </tr>\n",
       "    <tr>\n",
       "      <th rowspan=\"12\" valign=\"top\">ultra</th>\n",
       "      <th>1.00</th>\n",
       "      <td>3,853.00</td>\n",
       "      <td>118,266.13</td>\n",
       "      <td>304.00</td>\n",
       "    </tr>\n",
       "    <tr>\n",
       "      <th>2.00</th>\n",
       "      <td>7,131.00</td>\n",
       "      <td>282,622.50</td>\n",
       "      <td>527.00</td>\n",
       "    </tr>\n",
       "    <tr>\n",
       "      <th>3.00</th>\n",
       "      <td>18,117.00</td>\n",
       "      <td>648,815.36</td>\n",
       "      <td>1,195.00</td>\n",
       "    </tr>\n",
       "    <tr>\n",
       "      <th>4.00</th>\n",
       "      <td>25,191.00</td>\n",
       "      <td>925,547.39</td>\n",
       "      <td>1,736.00</td>\n",
       "    </tr>\n",
       "    <tr>\n",
       "      <th>5.00</th>\n",
       "      <td>34,192.00</td>\n",
       "      <td>1,297,331.25</td>\n",
       "      <td>2,536.00</td>\n",
       "    </tr>\n",
       "    <tr>\n",
       "      <th>6.00</th>\n",
       "      <td>40,295.00</td>\n",
       "      <td>1,589,694.90</td>\n",
       "      <td>3,505.00</td>\n",
       "    </tr>\n",
       "    <tr>\n",
       "      <th>7.00</th>\n",
       "      <td>49,667.00</td>\n",
       "      <td>1,865,105.53</td>\n",
       "      <td>4,536.00</td>\n",
       "    </tr>\n",
       "    <tr>\n",
       "      <th>8.00</th>\n",
       "      <td>54,653.00</td>\n",
       "      <td>2,094,637.85</td>\n",
       "      <td>5,183.00</td>\n",
       "    </tr>\n",
       "    <tr>\n",
       "      <th>9.00</th>\n",
       "      <td>62,036.00</td>\n",
       "      <td>2,208,491.87</td>\n",
       "      <td>6,013.00</td>\n",
       "    </tr>\n",
       "    <tr>\n",
       "      <th>10.00</th>\n",
       "      <td>68,644.00</td>\n",
       "      <td>2,465,576.49</td>\n",
       "      <td>7,187.00</td>\n",
       "    </tr>\n",
       "    <tr>\n",
       "      <th>11.00</th>\n",
       "      <td>72,545.00</td>\n",
       "      <td>2,651,432.87</td>\n",
       "      <td>7,476.00</td>\n",
       "    </tr>\n",
       "    <tr>\n",
       "      <th>12.00</th>\n",
       "      <td>82,400.00</td>\n",
       "      <td>3,029,250.99</td>\n",
       "      <td>8,425.00</td>\n",
       "    </tr>\n",
       "  </tbody>\n",
       "</table>\n",
       "</div>"
      ],
      "text/plain": [
       "              call_duration_min      mb_used  sms_count\n",
       "tariff month                                           \n",
       "smart  1.00            6,931.00   289,466.40     620.00\n",
       "       2.00           17,324.00   672,629.15   1,397.00\n",
       "       3.00           30,034.00 1,163,020.25   2,453.00\n",
       "       4.00           41,119.00 1,507,764.23   3,443.00\n",
       "       5.00           54,618.00 2,228,530.99   4,762.00\n",
       "       6.00           64,885.00 2,590,322.27   5,478.00\n",
       "       7.00           82,079.00 3,164,373.22   6,784.00\n",
       "       8.00           99,045.00 3,903,519.22   7,905.00\n",
       "       9.00          111,439.00 4,238,930.49   8,746.00\n",
       "       10.00         125,284.00 4,926,594.13   9,927.00\n",
       "       11.00         137,544.00 5,339,040.14  10,768.00\n",
       "       12.00         161,275.00 6,104,304.11  12,130.00\n",
       "ultra  1.00            3,853.00   118,266.13     304.00\n",
       "       2.00            7,131.00   282,622.50     527.00\n",
       "       3.00           18,117.00   648,815.36   1,195.00\n",
       "       4.00           25,191.00   925,547.39   1,736.00\n",
       "       5.00           34,192.00 1,297,331.25   2,536.00\n",
       "       6.00           40,295.00 1,589,694.90   3,505.00\n",
       "       7.00           49,667.00 1,865,105.53   4,536.00\n",
       "       8.00           54,653.00 2,094,637.85   5,183.00\n",
       "       9.00           62,036.00 2,208,491.87   6,013.00\n",
       "       10.00          68,644.00 2,465,576.49   7,187.00\n",
       "       11.00          72,545.00 2,651,432.87   7,476.00\n",
       "       12.00          82,400.00 3,029,250.99   8,425.00"
      ]
     },
     "execution_count": 36,
     "metadata": {},
     "output_type": "execute_result"
    }
   ],
   "source": [
    "work_data.pivot_table(index=['tariff', 'month'], values=['call_duration_min', 'sms_count', 'mb_used'], aggfunc='sum')"
   ]
  },
  {
   "cell_type": "markdown",
   "id": "ecbb61e8",
   "metadata": {},
   "source": [
    "Очень странные данные. Такое ощущение что они указаны набегающим остатком."
   ]
  },
  {
   "cell_type": "markdown",
   "id": "1f8e6475",
   "metadata": {},
   "source": [
    "Среднее, дисперсия и стандартное отклонение по услугам"
   ]
  },
  {
   "cell_type": "code",
   "execution_count": 37,
   "id": "19e20ce2",
   "metadata": {},
   "outputs": [
    {
     "data": {
      "text/html": [
       "<div>\n",
       "<style scoped>\n",
       "    .dataframe tbody tr th:only-of-type {\n",
       "        vertical-align: middle;\n",
       "    }\n",
       "\n",
       "    .dataframe tbody tr th {\n",
       "        vertical-align: top;\n",
       "    }\n",
       "\n",
       "    .dataframe thead tr th {\n",
       "        text-align: left;\n",
       "    }\n",
       "\n",
       "    .dataframe thead tr:last-of-type th {\n",
       "        text-align: right;\n",
       "    }\n",
       "</style>\n",
       "<table border=\"1\" class=\"dataframe\">\n",
       "  <thead>\n",
       "    <tr>\n",
       "      <th></th>\n",
       "      <th colspan=\"3\" halign=\"left\">mean</th>\n",
       "      <th colspan=\"3\" halign=\"left\">var</th>\n",
       "      <th colspan=\"3\" halign=\"left\">std</th>\n",
       "    </tr>\n",
       "    <tr>\n",
       "      <th></th>\n",
       "      <th>call_duration_min</th>\n",
       "      <th>mb_used</th>\n",
       "      <th>sms_count</th>\n",
       "      <th>call_duration_min</th>\n",
       "      <th>mb_used</th>\n",
       "      <th>sms_count</th>\n",
       "      <th>call_duration_min</th>\n",
       "      <th>mb_used</th>\n",
       "      <th>sms_count</th>\n",
       "    </tr>\n",
       "    <tr>\n",
       "      <th>tariff</th>\n",
       "      <th></th>\n",
       "      <th></th>\n",
       "      <th></th>\n",
       "      <th></th>\n",
       "      <th></th>\n",
       "      <th></th>\n",
       "      <th></th>\n",
       "      <th></th>\n",
       "      <th></th>\n",
       "    </tr>\n",
       "  </thead>\n",
       "  <tbody>\n",
       "    <tr>\n",
       "      <th>smart</th>\n",
       "      <td>419.06</td>\n",
       "      <td>16,215.66</td>\n",
       "      <td>38.72</td>\n",
       "      <td>35,844.19</td>\n",
       "      <td>34,359,951.68</td>\n",
       "      <td>717.59</td>\n",
       "      <td>189.33</td>\n",
       "      <td>5,861.74</td>\n",
       "      <td>26.79</td>\n",
       "    </tr>\n",
       "    <tr>\n",
       "      <th>ultra</th>\n",
       "      <td>545.45</td>\n",
       "      <td>19,668.49</td>\n",
       "      <td>61.16</td>\n",
       "      <td>94,203.42</td>\n",
       "      <td>98,864,248.95</td>\n",
       "      <td>2,109.66</td>\n",
       "      <td>306.93</td>\n",
       "      <td>9,943.05</td>\n",
       "      <td>45.93</td>\n",
       "    </tr>\n",
       "  </tbody>\n",
       "</table>\n",
       "</div>"
      ],
      "text/plain": [
       "                    mean                                   var                \\\n",
       "       call_duration_min   mb_used sms_count call_duration_min       mb_used   \n",
       "tariff                                                                         \n",
       "smart             419.06 16,215.66     38.72         35,844.19 34,359,951.68   \n",
       "ultra             545.45 19,668.49     61.16         94,203.42 98,864,248.95   \n",
       "\n",
       "                               std                     \n",
       "       sms_count call_duration_min  mb_used sms_count  \n",
       "tariff                                                 \n",
       "smart     717.59            189.33 5,861.74     26.79  \n",
       "ultra   2,109.66            306.93 9,943.05     45.93  "
      ]
     },
     "execution_count": 37,
     "metadata": {},
     "output_type": "execute_result"
    }
   ],
   "source": [
    "work_data.pivot_table(index='tariff', \n",
    "              values=['call_duration_min', \n",
    "                      'sms_count', \n",
    "                      'mb_used'], \n",
    "              aggfunc=['mean', \n",
    "                       'var', \n",
    "                       'std'])"
   ]
  },
  {
   "cell_type": "code",
   "execution_count": 38,
   "id": "05b37369",
   "metadata": {},
   "outputs": [
    {
     "data": {
      "text/plain": [
       "count    2,228.00\n",
       "mean    16,215.66\n",
       "std      5,861.74\n",
       "min          0.00\n",
       "25%     12,649.27\n",
       "50%     16,507.74\n",
       "75%     20,043.79\n",
       "max     38,552.45\n",
       "Name: mb_used, dtype: float64"
      ]
     },
     "execution_count": 38,
     "metadata": {},
     "output_type": "execute_result"
    }
   ],
   "source": [
    "work_data[work_data.tariff == 'smart']['mb_used'].describe()"
   ]
  },
  {
   "cell_type": "code",
   "execution_count": 39,
   "id": "2113b43a",
   "metadata": {},
   "outputs": [
    {
     "data": {
      "image/png": "[encoded data removed]",
      "text/plain": [
       "<Figure size 432x288 with 1 Axes>"
      ]
     },
     "metadata": {
      "needs_background": "light"
     },
     "output_type": "display_data"
    },
    {
     "data": {
      "image/png": "[encoded data removed]",
      "text/plain": [
       "<Figure size 432x288 with 1 Axes>"
      ]
     },
     "metadata": {
      "needs_background": "light"
     },
     "output_type": "display_data"
    },
    {
     "data": {
      "image/png": "[encoded data removed]",
      "text/plain": [
       "<Figure size 432x288 with 1 Axes>"
      ]
     },
     "metadata": {
      "needs_background": "light"
     },
     "output_type": "display_data"
    }
   ],
   "source": [
    "# строим гистограммы для каждой услуги\n",
    "for item in ['call_duration_min', 'mb_used', 'sms_count']:\n",
    "    ax = work_data[work_data.tariff == 'smart'].plot(\n",
    "             kind='hist',\n",
    "             grid=True,\n",
    "             y=item,\n",
    "             alpha=0.3,\n",
    "             legend=True,\n",
    "             label = 'Smart',\n",
    "             title=item)\n",
    "    work_data[work_data.tariff == 'ultra'].plot(\n",
    "            kind='hist',\n",
    "            y=item,\n",
    "            ax=ax,\n",
    "            grid=True,\n",
    "            alpha=0.3,\n",
    "            legend=True,\n",
    "            label = 'Ultra',\n",
    "            title=item)"
   ]
  },
  {
   "cell_type": "markdown",
   "id": "c61906b9",
   "metadata": {},
   "source": [
    "Выводы:\n",
    "\n",
    "Тариф Smart\n",
    "- время разговора\n",
    "    - среднее - 419.06 \n",
    "    - дисперсия - 35 844,19\n",
    "    - станд. откл. - 189,33\n",
    "    - распределение - нормальное\n",
    "- кол-во смс\n",
    "    - среднее - 38,75\n",
    "    - дисперсия - 719,17\n",
    "    - станд. откл. - 26,82\n",
    "    - распределение - Пуассона\n",
    "- объем трафика\n",
    "    - среднее - 16 216,66 \n",
    "    - дисперсия - 34 427 592,42\n",
    "    - станд. откл. - 5 867,50\n",
    "    - распределение - нормальное\n",
    "\n",
    "Тариф Ultra\n",
    "- время разговора\n",
    "    - среднее - 545.45 \n",
    "    - дисперсия - 94 203.42\n",
    "    - станд. откл. - 306.93\n",
    "    - распределение - нормальное\n",
    "- кол-во смс\n",
    "    - среднее - 61.20\n",
    "    - дисперсия - 1 999.57\n",
    "    - станд. откл. - 44.72\n",
    "    - распределение - Пуассона\n",
    "- объем трафика\n",
    "    - среднее - 19 669.28 \n",
    "    - дисперсия - 99 571 001.59\n",
    "    - станд. откл. - 9 978.53\n",
    "    - распределение - нормальное"
   ]
  },
  {
   "cell_type": "markdown",
   "id": "0c78cb1c",
   "metadata": {},
   "source": [
    "# Шаг 4"
   ]
  },
  {
   "cell_type": "markdown",
   "id": "4069e675",
   "metadata": {},
   "source": [
    "### Проверяем гипотезу \"средняя выручка пользователей тарифов «Ультра» и «Смарт» различаются\"."
   ]
  },
  {
   "cell_type": "markdown",
   "id": "98716a94",
   "metadata": {},
   "source": [
    "Выбираем сравнение средних двух несвязных выборок, так как пользователи двух тарифов не пересекаются друг с другом\n",
    "\n",
    "Нулевая гипотеза - средняя выручка от пользователей двух тарифов равна\n",
    "\n",
    "Альтернативная гипотеза - средняя выручка от пользователей двух тарифов не равна"
   ]
  },
  {
   "cell_type": "code",
   "execution_count": 40,
   "id": "d1ce6619",
   "metadata": {},
   "outputs": [
    {
     "data": {
      "text/plain": [
       "2230"
      ]
     },
     "execution_count": 40,
     "metadata": {},
     "output_type": "execute_result"
    }
   ],
   "source": [
    "# оцениваем дисперсии и размеры выборок для каждого тарифа\n",
    "len(work_data[work_data.tariff == 'smart'])"
   ]
  },
  {
   "cell_type": "code",
   "execution_count": 41,
   "id": "86f66e0b",
   "metadata": {},
   "outputs": [
    {
     "data": {
      "text/plain": [
       "986"
      ]
     },
     "execution_count": 41,
     "metadata": {},
     "output_type": "execute_result"
    }
   ],
   "source": [
    "len(work_data[work_data.tariff == 'ultra'])"
   ]
  },
  {
   "cell_type": "code",
   "execution_count": 42,
   "id": "69b014d2",
   "metadata": {},
   "outputs": [
    {
     "data": {
      "text/plain": [
       "669730.763894807"
      ]
     },
     "execution_count": 42,
     "metadata": {},
     "output_type": "execute_result"
    }
   ],
   "source": [
    "np.var(work_data[work_data.tariff == 'smart']['revenue'], ddof=1)"
   ]
  },
  {
   "cell_type": "code",
   "execution_count": 43,
   "id": "bbc05eaa",
   "metadata": {},
   "outputs": [
    {
     "data": {
      "text/plain": [
       "141387.7148093615"
      ]
     },
     "execution_count": 43,
     "metadata": {},
     "output_type": "execute_result"
    }
   ],
   "source": [
    "np.var(work_data[work_data.tariff == 'ultra']['revenue'], ddof=1)"
   ]
  },
  {
   "cell_type": "code",
   "execution_count": 44,
   "id": "f59b1237",
   "metadata": {},
   "outputs": [
    {
     "name": "stdout",
     "output_type": "stream",
     "text": [
      "p-значение:  1.927011394420941e-250\n",
      "Отвергаем нулевую гипотезу\n"
     ]
    }
   ],
   "source": [
    "# проверяем поставленную гипотезу\n",
    "# устанавливаем критический уровень статистической значимости\n",
    "alpha = .05\n",
    "\n",
    "result = st.ttest_ind(\n",
    "    work_data[work_data.tariff == 'smart']['revenue'],\n",
    "    work_data[work_data.tariff == 'ultra']['revenue'],\n",
    "    # дисперсии считаем отдельно, так как размеры выборок разные и дисперсии у них разные\n",
    "    equal_var = False \n",
    ")\n",
    "\n",
    "print('p-значение: ', result.pvalue)\n",
    "\n",
    "if result.pvalue < alpha:\n",
    "    print('Отвергаем нулевую гипотезу')\n",
    "else:\n",
    "    print('Не получилось отвергнуть нулевую гипотезу')"
   ]
  },
  {
   "cell_type": "markdown",
   "id": "93955ede",
   "metadata": {},
   "source": [
    "Вывод: тест сравнения средних значений выручки двух выборок для разных тарифов показал, что гипотезу о том, что средние выручки двух тарифов равны некорректной. Изначальную гипотезу о том, что средние выручки не равны не отвергаем."
   ]
  },
  {
   "cell_type": "markdown",
   "id": "b47272b5",
   "metadata": {},
   "source": [
    "### Проверяем гипотезу \"средняя выручка пользователи из Москвы отличается от выручки пользователей из других регионов.\""
   ]
  },
  {
   "cell_type": "markdown",
   "id": "2fea8810",
   "metadata": {},
   "source": [
    "Выбираем сравнение средних двух несвязных выборок, так как пользователи двух локаций не пересекаются друг с другом\n",
    "\n",
    "Нулевая гипотеза - средняя выручка пользователи из Москвы и выручка пользователей из других регионов равны.\n",
    "\n",
    "Альтернативная гипотеза - средняя выручка пользователи из Москвы и выручка пользователей из других регионов не равны"
   ]
  },
  {
   "cell_type": "code",
   "execution_count": 45,
   "id": "cd8b761c",
   "metadata": {},
   "outputs": [
    {
     "name": "stdout",
     "output_type": "stream",
     "text": [
      "smart/ultra в Москве: 0.582901554404145\n",
      "smart/ultra в стране: 0.41268980477223427\n"
     ]
    }
   ],
   "source": [
    "# для начала оценим соотношение кол-ва клиентов smart/ultra в Москве и в целом по стране\n",
    "print('smart/ultra в Москве:', \n",
    "      len(work_data[(work_data.city == 'Москва') & \n",
    "                    (work_data.tariff == 'ultra')]) / \n",
    "      len(work_data[(work_data.city == 'Москва') & \n",
    "                    (work_data.tariff == 'smart')]))\n",
    "print('smart/ultra в стране:', \n",
    "      len(work_data[(work_data.city != 'Москва') & \n",
    "                    (work_data.tariff == 'ultra')]) / \n",
    "      len(work_data[(work_data.city != 'Москва') & \n",
    "                    (work_data.tariff == 'smart')]))"
   ]
  },
  {
   "cell_type": "markdown",
   "id": "af4eaa0b",
   "metadata": {},
   "source": [
    "относительная разница не велика, можем считать что вклад клиентов тарифа ультра сопоставим в обоих локациях"
   ]
  },
  {
   "cell_type": "code",
   "execution_count": 46,
   "id": "598e90ac",
   "metadata": {},
   "outputs": [
    {
     "data": {
      "text/plain": [
       "611"
      ]
     },
     "execution_count": 46,
     "metadata": {},
     "output_type": "execute_result"
    }
   ],
   "source": [
    "# оцениваем дисперсии и размеры выборок для каждой локации\n",
    "len(work_data[work_data.city == 'Москва'])"
   ]
  },
  {
   "cell_type": "code",
   "execution_count": 47,
   "id": "a473ca5e",
   "metadata": {},
   "outputs": [
    {
     "data": {
      "text/plain": [
       "2605"
      ]
     },
     "execution_count": 47,
     "metadata": {},
     "output_type": "execute_result"
    }
   ],
   "source": [
    "len(work_data[work_data.city != 'Москва'])"
   ]
  },
  {
   "cell_type": "code",
   "execution_count": 48,
   "id": "fd3abbe0",
   "metadata": {},
   "outputs": [
    {
     "data": {
      "text/plain": [
       "565636.467011886"
      ]
     },
     "execution_count": 48,
     "metadata": {},
     "output_type": "execute_result"
    }
   ],
   "source": [
    "np.var(work_data[work_data.city == 'Москва']['revenue'], ddof=1)"
   ]
  },
  {
   "cell_type": "code",
   "execution_count": 49,
   "id": "5c2cf4fc",
   "metadata": {},
   "outputs": [
    {
     "data": {
      "text/plain": [
       "654069.574962777"
      ]
     },
     "execution_count": 49,
     "metadata": {},
     "output_type": "execute_result"
    }
   ],
   "source": [
    "np.var(work_data[work_data.city != 'Москва']['revenue'], ddof=1)"
   ]
  },
  {
   "cell_type": "code",
   "execution_count": 50,
   "id": "e0fc992a",
   "metadata": {},
   "outputs": [
    {
     "name": "stdout",
     "output_type": "stream",
     "text": [
      "p-значение:  0.5400751614511182\n",
      "Не получилось отвергнуть нулевую гипотезу\n"
     ]
    }
   ],
   "source": [
    "# Так как дисперсии обоих выборок примерно сопоставимы то мы можем оставить параметр equal_var по умолчанию\n",
    "# проверяем поставленную гипотезу\n",
    "# устанавливаем критический уровень статистической значимости\n",
    "alpha = .05\n",
    "\n",
    "result = st.ttest_ind(\n",
    "    work_data[work_data.city == 'Москва']['revenue'],\n",
    "    work_data[work_data.city != 'Москва']['revenue'],\n",
    ")\n",
    "\n",
    "print('p-значение: ', result.pvalue)\n",
    "\n",
    "if result.pvalue < alpha:\n",
    "    print('Отвергаем нулевую гипотезу')\n",
    "else:\n",
    "    print('Не получилось отвергнуть нулевую гипотезу')"
   ]
  },
  {
   "cell_type": "markdown",
   "id": "e3669e81",
   "metadata": {},
   "source": [
    "Вывод значение pvalue 0.46, то есть гипотезу о том, что средняя выручка одинаковая в Москве и в остальной части страны нам отвергнуть не получилось."
   ]
  },
  {
   "cell_type": "markdown",
   "id": "34e2ef8a",
   "metadata": {},
   "source": [
    "# Шаг 5"
   ]
  },
  {
   "cell_type": "markdown",
   "id": "67f780c4",
   "metadata": {},
   "source": [
    "Для того, чтобы сделать общий вывод и ответить на вопрос какой из тарифов приносит больше выручки, полученной выше информации нам явно не достаточно. Исследование было бы более полное если в данных присутствовали какие либо данные о затратах, которые несет компания в процессе обслуживания клиентов, но ее нет. Нам остается проанализировать лишь какой тариф приносит больше выгоды.\n",
    "\n",
    "Для более полного ответа можно ответить еще на следующие вопросы:\n",
    "- какой из двух тарифов приносит больше выручки в целом\n",
    "- какой из двух тарифов приносит выручку стабильнее в течении года\n",
    "- какое соотношение абонентской платы и доп. услуг в течении года по каждому тарифу"
   ]
  },
  {
   "cell_type": "code",
   "execution_count": 51,
   "id": "02a34d3c",
   "metadata": {},
   "outputs": [
    {
     "data": {
      "text/html": [
       "<div>\n",
       "<style scoped>\n",
       "    .dataframe tbody tr th:only-of-type {\n",
       "        vertical-align: middle;\n",
       "    }\n",
       "\n",
       "    .dataframe tbody tr th {\n",
       "        vertical-align: top;\n",
       "    }\n",
       "\n",
       "    .dataframe thead th {\n",
       "        text-align: right;\n",
       "    }\n",
       "</style>\n",
       "<table border=\"1\" class=\"dataframe\">\n",
       "  <thead>\n",
       "    <tr style=\"text-align: right;\">\n",
       "      <th></th>\n",
       "      <th>revenue</th>\n",
       "    </tr>\n",
       "    <tr>\n",
       "      <th>tariff</th>\n",
       "      <th></th>\n",
       "    </tr>\n",
       "  </thead>\n",
       "  <tbody>\n",
       "    <tr>\n",
       "      <th>smart</th>\n",
       "      <td>2,875,901.00</td>\n",
       "    </tr>\n",
       "    <tr>\n",
       "      <th>ultra</th>\n",
       "      <td>2,041,050.00</td>\n",
       "    </tr>\n",
       "  </tbody>\n",
       "</table>\n",
       "</div>"
      ],
      "text/plain": [
       "            revenue\n",
       "tariff             \n",
       "smart  2,875,901.00\n",
       "ultra  2,041,050.00"
      ]
     },
     "execution_count": 51,
     "metadata": {},
     "output_type": "execute_result"
    }
   ],
   "source": [
    "# считаем полную выручку за год по каждому тарифу\n",
    "work_data.pivot_table(index='tariff', values='revenue', aggfunc=np.sum)"
   ]
  },
  {
   "cell_type": "code",
   "execution_count": 52,
   "id": "ccb16ce5",
   "metadata": {},
   "outputs": [
    {
     "name": "stdout",
     "output_type": "stream",
     "text": [
      "Средний чек по тарифу смарт составляет: 1289.6417040358745\n",
      "Медиана по тарифу смарт составляет: 1021.0\n",
      "Средний чек по тарифу ультра составляет: 2070.030425963489\n",
      "Медиана по тарифу ультра составляет: 1950.0\n"
     ]
    }
   ],
   "source": [
    "# считаем средний чек и медиану по каждому тарифу\n",
    "print('Средний чек по тарифу смарт составляет:', work_data[work_data.tariff == 'smart']['revenue'].mean())\n",
    "print('Медиана по тарифу смарт составляет:', work_data[work_data.tariff == 'smart']['revenue'].median())\n",
    "print('Средний чек по тарифу ультра составляет:', work_data[work_data.tariff == 'ultra']['revenue'].mean())\n",
    "print('Медиана по тарифу ультра составляет:', work_data[work_data.tariff == 'ultra']['revenue'].median())"
   ]
  },
  {
   "cell_type": "code",
   "execution_count": 53,
   "id": "8d9ed323",
   "metadata": {},
   "outputs": [],
   "source": [
    "# смотрим выручку по тарифам в течении года по месячно\n",
    "\n",
    "# ax = work_data[work_data.tariff == 'smart'].plot(\n",
    "#              kind='hist',\n",
    "#              x='revenue',\n",
    "#              grid=True,\n",
    "#              y='month',\n",
    "#              alpha=0.3,\n",
    "#              legend=True,\n",
    "#              label = 'Smart',\n",
    "#              bins=12)\n",
    "# work_data[work_data.tariff == 'ultra'].plot(\n",
    "#             kind='hist',\n",
    "#             x='revenue',\n",
    "#             y='month',\n",
    "#             ax=ax,\n",
    "#             grid=True,\n",
    "#             alpha=0.3,\n",
    "#             legend=True,\n",
    "#             label = 'Ultra',\n",
    "#             title='revenue',\n",
    "#             bins=12);"
   ]
  },
  {
   "cell_type": "code",
   "execution_count": 54,
   "id": "2dbff77b",
   "metadata": {},
   "outputs": [
    {
     "data": {
      "image/png": "[encoded data removed]",
      "text/plain": [
       "<Figure size 1080x576 with 1 Axes>"
      ]
     },
     "metadata": {
      "needs_background": "light"
     },
     "output_type": "display_data"
    }
   ],
   "source": [
    "(work_data\n",
    " .pivot_table(index='month', \n",
    "              columns='tariff', \n",
    "              values='revenue', \n",
    "              aggfunc='sum')\n",
    " .plot(kind='bar', \n",
    "       figsize=(15,8), \n",
    "       ylabel='revenue')\n",
    ");"
   ]
  },
  {
   "cell_type": "code",
   "execution_count": 55,
   "id": "842ca758",
   "metadata": {},
   "outputs": [
    {
     "name": "stdout",
     "output_type": "stream",
     "text": [
      "Доля клиентов не пользующихся доп. услугами в тарифе смарт: 0.17661691542288557\n",
      "Доля клиентов не пользующихся доп. услугами в тарифе ультра: 0.26492537313432835\n"
     ]
    }
   ],
   "source": [
    "# доли клиентов в каждом тарифе, которые не пользуются услугами сверх тарифа\n",
    "print('Доля клиентов не пользующихся доп. услугами в тарифе смарт:', \n",
    "      work_data.query('revenue == rub_monthly_fee and tariff == \"smart\"')['revenue'].count() / len(work_data))\n",
    "print('Доля клиентов не пользующихся доп. услугами в тарифе ультра:', \n",
    "      work_data.query('revenue == rub_monthly_fee and tariff == \"ultra\"')['revenue'].count() / len(work_data))"
   ]
  },
  {
   "cell_type": "markdown",
   "id": "ce594f87",
   "metadata": {},
   "source": [
    "## Вывод:"
   ]
  },
  {
   "cell_type": "markdown",
   "id": "af6b9fa9",
   "metadata": {},
   "source": [
    "С точки зрения фактических показателей больше всего выручки за год принес тариф смарт - 3 млн против 2ух в тарифе ультра. Также очевидно, что в тарифе смарт клиенты чаще покупают доп. услуги по оверпрайсу и их значительно больше чем клиентов тарифа ультра, которые не до конца используют предоставленныем им лимиты.\n",
    "\n",
    "Но если рассуждать с точки зрения обоснования увеличения рекламных бюджетов данных то тарифов, то я бы рекомендовал увеличить рекламный бюджет тарифа ультра, так как хоть доп. услугами данные клиенты не пользуются, но их абонентская плата почти в два раза выше чем средний чек у клиентов пакета смарт. Предполагая тот факт, что рекламные компании для обоих тарифов будут соозмеримы, то вклад каждого привлеченного клиента по тарифу ультра будет намного весомей, чем вклад клиента тарифа смарт, с точки зрения привнесенной им ежемесячной выручки."
   ]
  }
 ],
 "metadata": {
  "ExecuteTimeLog": [
   {
    "duration": 66,
    "start_time": "2022-02-22T13:07:07.582Z"
   },
   {
    "duration": 1080,
    "start_time": "2022-02-22T13:13:50.207Z"
   },
   {
    "duration": 505,
    "start_time": "2022-02-22T13:13:51.289Z"
   },
   {
    "duration": 23,
    "start_time": "2022-02-22T13:13:51.796Z"
   },
   {
    "duration": 18,
    "start_time": "2022-02-22T13:13:51.821Z"
   },
   {
    "duration": 33,
    "start_time": "2022-02-22T13:13:51.841Z"
   },
   {
    "duration": 119,
    "start_time": "2022-02-22T13:13:51.876Z"
   },
   {
    "duration": 28,
    "start_time": "2022-02-22T13:13:51.997Z"
   },
   {
    "duration": 20,
    "start_time": "2022-02-22T13:13:52.026Z"
   },
   {
    "duration": 33,
    "start_time": "2022-02-22T13:13:52.048Z"
   },
   {
    "duration": 12,
    "start_time": "2022-02-22T13:13:52.082Z"
   },
   {
    "duration": 18,
    "start_time": "2022-02-22T13:13:52.119Z"
   },
   {
    "duration": 14,
    "start_time": "2022-02-22T13:13:52.139Z"
   },
   {
    "duration": 22,
    "start_time": "2022-02-22T13:13:52.154Z"
   },
   {
    "duration": 46,
    "start_time": "2022-02-22T13:13:52.178Z"
   },
   {
    "duration": 14,
    "start_time": "2022-02-22T13:13:52.226Z"
   },
   {
    "duration": 33,
    "start_time": "2022-02-22T13:13:52.241Z"
   },
   {
    "duration": 16,
    "start_time": "2022-02-22T13:13:52.276Z"
   },
   {
    "duration": 31,
    "start_time": "2022-02-22T13:13:52.293Z"
   },
   {
    "duration": 20,
    "start_time": "2022-02-22T13:13:52.325Z"
   },
   {
    "duration": 16,
    "start_time": "2022-02-22T13:13:52.346Z"
   },
   {
    "duration": 6,
    "start_time": "2022-02-22T13:13:52.363Z"
   },
   {
    "duration": 12,
    "start_time": "2022-02-22T13:13:52.371Z"
   },
   {
    "duration": 38,
    "start_time": "2022-02-22T13:13:52.385Z"
   },
   {
    "duration": 11,
    "start_time": "2022-02-22T13:13:52.425Z"
   },
   {
    "duration": 9,
    "start_time": "2022-02-22T13:13:52.438Z"
   },
   {
    "duration": 12,
    "start_time": "2022-02-22T13:13:52.448Z"
   },
   {
    "duration": 9,
    "start_time": "2022-02-22T13:13:52.464Z"
   },
   {
    "duration": 9,
    "start_time": "2022-02-22T13:13:52.475Z"
   },
   {
    "duration": 52,
    "start_time": "2022-02-22T13:13:52.485Z"
   },
   {
    "duration": 33,
    "start_time": "2022-02-22T13:13:52.539Z"
   },
   {
    "duration": 56,
    "start_time": "2022-02-22T13:13:52.573Z"
   },
   {
    "duration": 28,
    "start_time": "2022-02-22T13:13:52.630Z"
   },
   {
    "duration": 61,
    "start_time": "2022-02-22T13:13:52.659Z"
   },
   {
    "duration": 4,
    "start_time": "2022-02-22T13:13:52.721Z"
   },
   {
    "duration": 299,
    "start_time": "2022-02-22T13:13:52.727Z"
   },
   {
    "duration": 20,
    "start_time": "2022-02-22T13:13:53.027Z"
   },
   {
    "duration": 31,
    "start_time": "2022-02-22T13:13:53.048Z"
   },
   {
    "duration": 10,
    "start_time": "2022-02-22T13:13:53.081Z"
   },
   {
    "duration": 923,
    "start_time": "2022-02-22T13:13:53.119Z"
   },
   {
    "duration": 6,
    "start_time": "2022-02-22T13:13:54.045Z"
   },
   {
    "duration": 7,
    "start_time": "2022-02-22T13:13:54.053Z"
   },
   {
    "duration": 9,
    "start_time": "2022-02-22T13:13:54.062Z"
   },
   {
    "duration": 7,
    "start_time": "2022-02-22T13:13:54.073Z"
   },
   {
    "duration": 43,
    "start_time": "2022-02-22T13:13:54.082Z"
   },
   {
    "duration": 13,
    "start_time": "2022-02-22T13:13:54.127Z"
   },
   {
    "duration": 6,
    "start_time": "2022-02-22T13:13:54.141Z"
   },
   {
    "duration": 14,
    "start_time": "2022-02-22T13:13:54.148Z"
   },
   {
    "duration": 10,
    "start_time": "2022-02-22T13:13:54.164Z"
   },
   {
    "duration": 8,
    "start_time": "2022-02-22T13:13:54.175Z"
   },
   {
    "duration": 40,
    "start_time": "2022-02-22T13:13:54.185Z"
   },
   {
    "duration": 15,
    "start_time": "2022-02-22T13:13:54.228Z"
   },
   {
    "duration": 13,
    "start_time": "2022-02-22T13:13:54.245Z"
   },
   {
    "duration": 339,
    "start_time": "2022-02-22T13:13:54.260Z"
   },
   {
    "duration": 18,
    "start_time": "2022-02-22T13:13:54.602Z"
   },
   {
    "duration": 13,
    "start_time": "2022-02-22T13:13:54.622Z"
   },
   {
    "duration": 309,
    "start_time": "2022-02-22T13:14:32.786Z"
   },
   {
    "duration": 320,
    "start_time": "2022-02-22T13:14:44.419Z"
   },
   {
    "duration": 61,
    "start_time": "2022-02-22T13:16:45.066Z"
   }
  ],
  "kernelspec": {
   "display_name": "Python 3 (ipykernel)",
   "language": "python",
   "name": "python3"
  },
  "language_info": {
   "codemirror_mode": {
    "name": "ipython",
    "version": 3
   },
   "file_extension": ".py",
   "mimetype": "text/x-python",
   "name": "python",
   "nbconvert_exporter": "python",
   "pygments_lexer": "ipython3",
   "version": "3.10.2"
  },
  "toc": {
   "base_numbering": 1,
   "nav_menu": {},
   "number_sections": true,
   "sideBar": true,
   "skip_h1_title": true,
   "title_cell": "Table of Contents",
   "title_sidebar": "Contents",
   "toc_cell": false,
   "toc_position": {},
   "toc_section_display": true,
   "toc_window_display": true
  }
 },
 "nbformat": 4,
 "nbformat_minor": 5
}
