{
 "cells": [
  {
   "cell_type": "markdown",
   "id": "af1a2d5a",
   "metadata": {},
   "source": [
    "# Определение стоимости автомобиля"
   ]
  },
  {
   "cell_type": "markdown",
   "id": "6f112a54",
   "metadata": {},
   "source": [
    "## Задача"
   ]
  },
  {
   "cell_type": "markdown",
   "id": "d3ce5c9e",
   "metadata": {},
   "source": [
    "На основе исторических данных необходимо построить модель для определения стоимости автомобиля"
   ]
  },
  {
   "cell_type": "markdown",
   "id": "eb950306",
   "metadata": {},
   "source": [
    "## Критерии"
   ]
  },
  {
   "cell_type": "markdown",
   "id": "5bd5a5da",
   "metadata": {},
   "source": [
    "- качество предсказания\n",
    "- скорость предсказания\n",
    "- время обучения"
   ]
  },
  {
   "cell_type": "markdown",
   "id": "e6405b96",
   "metadata": {},
   "source": [
    "## Доп. критерии\n",
    "- Для оценки качества моделей применяйте метрику RMSE.\n",
    "- Самостоятельно освойте библиотеку LightGBM и её средствами постройте модели градиентного бустинга.\n",
    "- Время выполнения ячейки кода Jupyter Notebook можно получить специальной командой. Найдите её.\n",
    "- Поскольку модель градиентного бустинга может обучаться долго, измените у неё только два-три параметра."
   ]
  },
  {
   "cell_type": "markdown",
   "id": "1a975ef7",
   "metadata": {},
   "source": [
    "# Шаг 1. Загрузка и анализ данных"
   ]
  },
  {
   "cell_type": "code",
   "execution_count": 1,
   "id": "e4682738",
   "metadata": {},
   "outputs": [],
   "source": [
    "import pandas as pd\n",
    "import numpy as np\n",
    "from math import sqrt\n",
    "import time\n",
    "\n",
    "import warnings\n",
    "warnings.filterwarnings(\"ignore\")\n",
    "\n",
    "from sklearn.model_selection import train_test_split\n",
    "from sklearn.preprocessing import StandardScaler\n",
    "from sklearn.metrics import mean_squared_error\n",
    "from sklearn.linear_model import LinearRegression, Ridge, Lasso\n",
    "from sklearn.model_selection import cross_val_score, KFold\n",
    "from sklearn.dummy import DummyRegressor\n",
    "from sklearn.model_selection import GridSearchCV\n",
    "\n",
    "from lightgbm import LGBMRegressor\n",
    "\n",
    "import matplotlib.pyplot as plt\n",
    "%matplotlib inline\n",
    "\n",
    "RAND = 12345"
   ]
  },
  {
   "cell_type": "code",
   "execution_count": 2,
   "id": "6d43d1a0",
   "metadata": {},
   "outputs": [],
   "source": [
    "try:\n",
    "    data = pd.read_csv('/datasets/autos.csv')\n",
    "except FileNotFoundError:\n",
    "    data = pd.read_csv('autos.csv')"
   ]
  },
  {
   "cell_type": "code",
   "execution_count": 3,
   "id": "b155f17c",
   "metadata": {},
   "outputs": [
    {
     "data": {
      "text/html": [
       "<div>\n",
       "<style scoped>\n",
       "    .dataframe tbody tr th:only-of-type {\n",
       "        vertical-align: middle;\n",
       "    }\n",
       "\n",
       "    .dataframe tbody tr th {\n",
       "        vertical-align: top;\n",
       "    }\n",
       "\n",
       "    .dataframe thead th {\n",
       "        text-align: right;\n",
       "    }\n",
       "</style>\n",
       "<table border=\"1\" class=\"dataframe\">\n",
       "  <thead>\n",
       "    <tr style=\"text-align: right;\">\n",
       "      <th></th>\n",
       "      <th>DateCrawled</th>\n",
       "      <th>Price</th>\n",
       "      <th>VehicleType</th>\n",
       "      <th>RegistrationYear</th>\n",
       "      <th>Gearbox</th>\n",
       "      <th>Power</th>\n",
       "      <th>Model</th>\n",
       "      <th>Kilometer</th>\n",
       "      <th>RegistrationMonth</th>\n",
       "      <th>FuelType</th>\n",
       "      <th>Brand</th>\n",
       "      <th>NotRepaired</th>\n",
       "      <th>DateCreated</th>\n",
       "      <th>NumberOfPictures</th>\n",
       "      <th>PostalCode</th>\n",
       "      <th>LastSeen</th>\n",
       "    </tr>\n",
       "  </thead>\n",
       "  <tbody>\n",
       "    <tr>\n",
       "      <th>0</th>\n",
       "      <td>2016-03-24 11:52:17</td>\n",
       "      <td>480</td>\n",
       "      <td>NaN</td>\n",
       "      <td>1993</td>\n",
       "      <td>manual</td>\n",
       "      <td>0</td>\n",
       "      <td>golf</td>\n",
       "      <td>150000</td>\n",
       "      <td>0</td>\n",
       "      <td>petrol</td>\n",
       "      <td>volkswagen</td>\n",
       "      <td>NaN</td>\n",
       "      <td>2016-03-24 00:00:00</td>\n",
       "      <td>0</td>\n",
       "      <td>70435</td>\n",
       "      <td>2016-04-07 03:16:57</td>\n",
       "    </tr>\n",
       "    <tr>\n",
       "      <th>1</th>\n",
       "      <td>2016-03-24 10:58:45</td>\n",
       "      <td>18300</td>\n",
       "      <td>coupe</td>\n",
       "      <td>2011</td>\n",
       "      <td>manual</td>\n",
       "      <td>190</td>\n",
       "      <td>NaN</td>\n",
       "      <td>125000</td>\n",
       "      <td>5</td>\n",
       "      <td>gasoline</td>\n",
       "      <td>audi</td>\n",
       "      <td>yes</td>\n",
       "      <td>2016-03-24 00:00:00</td>\n",
       "      <td>0</td>\n",
       "      <td>66954</td>\n",
       "      <td>2016-04-07 01:46:50</td>\n",
       "    </tr>\n",
       "    <tr>\n",
       "      <th>2</th>\n",
       "      <td>2016-03-14 12:52:21</td>\n",
       "      <td>9800</td>\n",
       "      <td>suv</td>\n",
       "      <td>2004</td>\n",
       "      <td>auto</td>\n",
       "      <td>163</td>\n",
       "      <td>grand</td>\n",
       "      <td>125000</td>\n",
       "      <td>8</td>\n",
       "      <td>gasoline</td>\n",
       "      <td>jeep</td>\n",
       "      <td>NaN</td>\n",
       "      <td>2016-03-14 00:00:00</td>\n",
       "      <td>0</td>\n",
       "      <td>90480</td>\n",
       "      <td>2016-04-05 12:47:46</td>\n",
       "    </tr>\n",
       "    <tr>\n",
       "      <th>3</th>\n",
       "      <td>2016-03-17 16:54:04</td>\n",
       "      <td>1500</td>\n",
       "      <td>small</td>\n",
       "      <td>2001</td>\n",
       "      <td>manual</td>\n",
       "      <td>75</td>\n",
       "      <td>golf</td>\n",
       "      <td>150000</td>\n",
       "      <td>6</td>\n",
       "      <td>petrol</td>\n",
       "      <td>volkswagen</td>\n",
       "      <td>no</td>\n",
       "      <td>2016-03-17 00:00:00</td>\n",
       "      <td>0</td>\n",
       "      <td>91074</td>\n",
       "      <td>2016-03-17 17:40:17</td>\n",
       "    </tr>\n",
       "    <tr>\n",
       "      <th>4</th>\n",
       "      <td>2016-03-31 17:25:20</td>\n",
       "      <td>3600</td>\n",
       "      <td>small</td>\n",
       "      <td>2008</td>\n",
       "      <td>manual</td>\n",
       "      <td>69</td>\n",
       "      <td>fabia</td>\n",
       "      <td>90000</td>\n",
       "      <td>7</td>\n",
       "      <td>gasoline</td>\n",
       "      <td>skoda</td>\n",
       "      <td>no</td>\n",
       "      <td>2016-03-31 00:00:00</td>\n",
       "      <td>0</td>\n",
       "      <td>60437</td>\n",
       "      <td>2016-04-06 10:17:21</td>\n",
       "    </tr>\n",
       "  </tbody>\n",
       "</table>\n",
       "</div>"
      ],
      "text/plain": [
       "           DateCrawled  Price VehicleType  RegistrationYear Gearbox  Power  \\\n",
       "0  2016-03-24 11:52:17    480         NaN              1993  manual      0   \n",
       "1  2016-03-24 10:58:45  18300       coupe              2011  manual    190   \n",
       "2  2016-03-14 12:52:21   9800         suv              2004    auto    163   \n",
       "3  2016-03-17 16:54:04   1500       small              2001  manual     75   \n",
       "4  2016-03-31 17:25:20   3600       small              2008  manual     69   \n",
       "\n",
       "   Model  Kilometer  RegistrationMonth  FuelType       Brand NotRepaired  \\\n",
       "0   golf     150000                  0    petrol  volkswagen         NaN   \n",
       "1    NaN     125000                  5  gasoline        audi         yes   \n",
       "2  grand     125000                  8  gasoline        jeep         NaN   \n",
       "3   golf     150000                  6    petrol  volkswagen          no   \n",
       "4  fabia      90000                  7  gasoline       skoda          no   \n",
       "\n",
       "           DateCreated  NumberOfPictures  PostalCode             LastSeen  \n",
       "0  2016-03-24 00:00:00                 0       70435  2016-04-07 03:16:57  \n",
       "1  2016-03-24 00:00:00                 0       66954  2016-04-07 01:46:50  \n",
       "2  2016-03-14 00:00:00                 0       90480  2016-04-05 12:47:46  \n",
       "3  2016-03-17 00:00:00                 0       91074  2016-03-17 17:40:17  \n",
       "4  2016-03-31 00:00:00                 0       60437  2016-04-06 10:17:21  "
      ]
     },
     "execution_count": 3,
     "metadata": {},
     "output_type": "execute_result"
    }
   ],
   "source": [
    "data.head(5)"
   ]
  },
  {
   "cell_type": "code",
   "execution_count": 4,
   "id": "353cfdd1",
   "metadata": {},
   "outputs": [
    {
     "name": "stdout",
     "output_type": "stream",
     "text": [
      "<class 'pandas.core.frame.DataFrame'>\n",
      "RangeIndex: 354369 entries, 0 to 354368\n",
      "Data columns (total 16 columns):\n",
      " #   Column             Non-Null Count   Dtype \n",
      "---  ------             --------------   ----- \n",
      " 0   DateCrawled        354369 non-null  object\n",
      " 1   Price              354369 non-null  int64 \n",
      " 2   VehicleType        316879 non-null  object\n",
      " 3   RegistrationYear   354369 non-null  int64 \n",
      " 4   Gearbox            334536 non-null  object\n",
      " 5   Power              354369 non-null  int64 \n",
      " 6   Model              334664 non-null  object\n",
      " 7   Kilometer          354369 non-null  int64 \n",
      " 8   RegistrationMonth  354369 non-null  int64 \n",
      " 9   FuelType           321474 non-null  object\n",
      " 10  Brand              354369 non-null  object\n",
      " 11  NotRepaired        283215 non-null  object\n",
      " 12  DateCreated        354369 non-null  object\n",
      " 13  NumberOfPictures   354369 non-null  int64 \n",
      " 14  PostalCode         354369 non-null  int64 \n",
      " 15  LastSeen           354369 non-null  object\n",
      "dtypes: int64(7), object(9)\n",
      "memory usage: 43.3+ MB\n"
     ]
    }
   ],
   "source": [
    "data.info()"
   ]
  },
  {
   "cell_type": "code",
   "execution_count": 5,
   "id": "99593b93",
   "metadata": {},
   "outputs": [
    {
     "data": {
      "text/html": [
       "<div>\n",
       "<style scoped>\n",
       "    .dataframe tbody tr th:only-of-type {\n",
       "        vertical-align: middle;\n",
       "    }\n",
       "\n",
       "    .dataframe tbody tr th {\n",
       "        vertical-align: top;\n",
       "    }\n",
       "\n",
       "    .dataframe thead th {\n",
       "        text-align: right;\n",
       "    }\n",
       "</style>\n",
       "<table border=\"1\" class=\"dataframe\">\n",
       "  <thead>\n",
       "    <tr style=\"text-align: right;\">\n",
       "      <th></th>\n",
       "      <th>Price</th>\n",
       "      <th>RegistrationYear</th>\n",
       "      <th>Power</th>\n",
       "      <th>Kilometer</th>\n",
       "      <th>RegistrationMonth</th>\n",
       "      <th>NumberOfPictures</th>\n",
       "      <th>PostalCode</th>\n",
       "    </tr>\n",
       "  </thead>\n",
       "  <tbody>\n",
       "    <tr>\n",
       "      <th>count</th>\n",
       "      <td>354369.000000</td>\n",
       "      <td>354369.000000</td>\n",
       "      <td>354369.000000</td>\n",
       "      <td>354369.000000</td>\n",
       "      <td>354369.000000</td>\n",
       "      <td>354369.0</td>\n",
       "      <td>354369.000000</td>\n",
       "    </tr>\n",
       "    <tr>\n",
       "      <th>mean</th>\n",
       "      <td>4416.656776</td>\n",
       "      <td>2004.234448</td>\n",
       "      <td>110.094337</td>\n",
       "      <td>128211.172535</td>\n",
       "      <td>5.714645</td>\n",
       "      <td>0.0</td>\n",
       "      <td>50508.689087</td>\n",
       "    </tr>\n",
       "    <tr>\n",
       "      <th>std</th>\n",
       "      <td>4514.158514</td>\n",
       "      <td>90.227958</td>\n",
       "      <td>189.850405</td>\n",
       "      <td>37905.341530</td>\n",
       "      <td>3.726421</td>\n",
       "      <td>0.0</td>\n",
       "      <td>25783.096248</td>\n",
       "    </tr>\n",
       "    <tr>\n",
       "      <th>min</th>\n",
       "      <td>0.000000</td>\n",
       "      <td>1000.000000</td>\n",
       "      <td>0.000000</td>\n",
       "      <td>5000.000000</td>\n",
       "      <td>0.000000</td>\n",
       "      <td>0.0</td>\n",
       "      <td>1067.000000</td>\n",
       "    </tr>\n",
       "    <tr>\n",
       "      <th>25%</th>\n",
       "      <td>1050.000000</td>\n",
       "      <td>1999.000000</td>\n",
       "      <td>69.000000</td>\n",
       "      <td>125000.000000</td>\n",
       "      <td>3.000000</td>\n",
       "      <td>0.0</td>\n",
       "      <td>30165.000000</td>\n",
       "    </tr>\n",
       "    <tr>\n",
       "      <th>50%</th>\n",
       "      <td>2700.000000</td>\n",
       "      <td>2003.000000</td>\n",
       "      <td>105.000000</td>\n",
       "      <td>150000.000000</td>\n",
       "      <td>6.000000</td>\n",
       "      <td>0.0</td>\n",
       "      <td>49413.000000</td>\n",
       "    </tr>\n",
       "    <tr>\n",
       "      <th>75%</th>\n",
       "      <td>6400.000000</td>\n",
       "      <td>2008.000000</td>\n",
       "      <td>143.000000</td>\n",
       "      <td>150000.000000</td>\n",
       "      <td>9.000000</td>\n",
       "      <td>0.0</td>\n",
       "      <td>71083.000000</td>\n",
       "    </tr>\n",
       "    <tr>\n",
       "      <th>max</th>\n",
       "      <td>20000.000000</td>\n",
       "      <td>9999.000000</td>\n",
       "      <td>20000.000000</td>\n",
       "      <td>150000.000000</td>\n",
       "      <td>12.000000</td>\n",
       "      <td>0.0</td>\n",
       "      <td>99998.000000</td>\n",
       "    </tr>\n",
       "  </tbody>\n",
       "</table>\n",
       "</div>"
      ],
      "text/plain": [
       "               Price  RegistrationYear          Power      Kilometer  \\\n",
       "count  354369.000000     354369.000000  354369.000000  354369.000000   \n",
       "mean     4416.656776       2004.234448     110.094337  128211.172535   \n",
       "std      4514.158514         90.227958     189.850405   37905.341530   \n",
       "min         0.000000       1000.000000       0.000000    5000.000000   \n",
       "25%      1050.000000       1999.000000      69.000000  125000.000000   \n",
       "50%      2700.000000       2003.000000     105.000000  150000.000000   \n",
       "75%      6400.000000       2008.000000     143.000000  150000.000000   \n",
       "max     20000.000000       9999.000000   20000.000000  150000.000000   \n",
       "\n",
       "       RegistrationMonth  NumberOfPictures     PostalCode  \n",
       "count      354369.000000          354369.0  354369.000000  \n",
       "mean            5.714645               0.0   50508.689087  \n",
       "std             3.726421               0.0   25783.096248  \n",
       "min             0.000000               0.0    1067.000000  \n",
       "25%             3.000000               0.0   30165.000000  \n",
       "50%             6.000000               0.0   49413.000000  \n",
       "75%             9.000000               0.0   71083.000000  \n",
       "max            12.000000               0.0   99998.000000  "
      ]
     },
     "execution_count": 5,
     "metadata": {},
     "output_type": "execute_result"
    }
   ],
   "source": [
    "data.describe()"
   ]
  },
  {
   "cell_type": "markdown",
   "id": "225f79e6",
   "metadata": {},
   "source": [
    "## Описание данных"
   ]
  },
  {
   "cell_type": "markdown",
   "id": "867dfb9b",
   "metadata": {},
   "source": [
    "Признаки:\n",
    "- DateCrawled — дата скачивания анкеты из базы\n",
    "- VehicleType — тип автомобильного кузова\n",
    "- RegistrationYear — год регистрации автомобиля\n",
    "- Gearbox — тип коробки передач\n",
    "- Power — мощность (л. с.)\n",
    "- Model — модель автомобиля\n",
    "- Kilometer — пробег (км)\n",
    "- RegistrationMonth — месяц регистрации автомобиля\n",
    "- FuelType — тип топлива\n",
    "- Brand — марка автомобиля\n",
    "- NotRepaired — была машина в ремонте или нет\n",
    "- DateCreated — дата создания анкеты\n",
    "- NumberOfPictures — количество фотографий автомобиля\n",
    "- PostalCode — почтовый индекс владельца анкеты (пользователя)\n",
    "- LastSeen — дата последней активности пользователя\n",
    "\n",
    "Целевой признак:\n",
    "- Price — цена (евро)"
   ]
  },
  {
   "cell_type": "markdown",
   "id": "74949ba7",
   "metadata": {},
   "source": [
    "Сначала проанализируем признаки:\n",
    "- DateCrawled - дата скачивания анкеты из базы врятли влияет на стоимость автомобиля\n",
    "- RegistrationMonth - у нас есть информация о годе, месяц избыточен и обычно никого не интересует\n",
    "- NumberOfPictures - просто нулевой признак с такой же нулевой пользой\n",
    "- PostalCode, LastSeen, DataCreated - столбцы с сомнительной полезностью"
   ]
  },
  {
   "cell_type": "markdown",
   "id": "e87aa641",
   "metadata": {},
   "source": [
    "Удалим из стоблцы забракованные признаки"
   ]
  },
  {
   "cell_type": "code",
   "execution_count": 6,
   "id": "1e5079c7",
   "metadata": {},
   "outputs": [],
   "source": [
    "data = data.drop([\n",
    "#     'DateCrawled', \n",
    "#     'RegistrationMonth', \n",
    "    'NumberOfPictures', \n",
    "    'PostalCode', \n",
    "    'LastSeen', \n",
    "    'DateCreated'], \n",
    "    axis=1)"
   ]
  },
  {
   "cell_type": "markdown",
   "id": "7e3ae49b",
   "metadata": {},
   "source": [
    "Оценим кол-во дубликатов"
   ]
  },
  {
   "cell_type": "code",
   "execution_count": 7,
   "id": "d9daf761",
   "metadata": {},
   "outputs": [
    {
     "name": "stdout",
     "output_type": "stream",
     "text": [
      "Кол-во дубликатов: 25, процент пропусков от общего кол-ва: 0.0%\n"
     ]
    }
   ],
   "source": [
    "duplicates = data.duplicated().sum()\n",
    "print(f'Кол-во дубликатов: {duplicates}, процент пропусков от общего кол-ва: {round(duplicates/len(data), 3) * 100}%')"
   ]
  },
  {
   "cell_type": "markdown",
   "id": "63577aec",
   "metadata": {},
   "source": [
    "Удаляем дубликаты"
   ]
  },
  {
   "cell_type": "code",
   "execution_count": 8,
   "id": "cc8c3d94",
   "metadata": {},
   "outputs": [
    {
     "data": {
      "text/plain": [
       "(354344, 12)"
      ]
     },
     "execution_count": 8,
     "metadata": {},
     "output_type": "execute_result"
    }
   ],
   "source": [
    "data = data.drop_duplicates()\n",
    "data.shape"
   ]
  },
  {
   "cell_type": "markdown",
   "id": "96b3d4c3",
   "metadata": {},
   "source": [
    "Продолжим анализ признаков,\n",
    "\n",
    "Подробнее посмотрим на распределенее признаков"
   ]
  },
  {
   "cell_type": "code",
   "execution_count": 9,
   "id": "4e3fb60d",
   "metadata": {},
   "outputs": [
    {
     "data": {
      "text/html": [
       "<div>\n",
       "<style scoped>\n",
       "    .dataframe tbody tr th:only-of-type {\n",
       "        vertical-align: middle;\n",
       "    }\n",
       "\n",
       "    .dataframe tbody tr th {\n",
       "        vertical-align: top;\n",
       "    }\n",
       "\n",
       "    .dataframe thead th {\n",
       "        text-align: right;\n",
       "    }\n",
       "</style>\n",
       "<table border=\"1\" class=\"dataframe\">\n",
       "  <thead>\n",
       "    <tr style=\"text-align: right;\">\n",
       "      <th></th>\n",
       "      <th>Price</th>\n",
       "      <th>RegistrationYear</th>\n",
       "      <th>Power</th>\n",
       "      <th>Kilometer</th>\n",
       "      <th>RegistrationMonth</th>\n",
       "    </tr>\n",
       "  </thead>\n",
       "  <tbody>\n",
       "    <tr>\n",
       "      <th>count</th>\n",
       "      <td>354344.000000</td>\n",
       "      <td>354344.000000</td>\n",
       "      <td>354344.000000</td>\n",
       "      <td>354344.000000</td>\n",
       "      <td>354344.000000</td>\n",
       "    </tr>\n",
       "    <tr>\n",
       "      <th>mean</th>\n",
       "      <td>4416.561477</td>\n",
       "      <td>2004.234563</td>\n",
       "      <td>110.091352</td>\n",
       "      <td>128212.330391</td>\n",
       "      <td>5.714574</td>\n",
       "    </tr>\n",
       "    <tr>\n",
       "      <th>std</th>\n",
       "      <td>4514.167328</td>\n",
       "      <td>90.231117</td>\n",
       "      <td>189.855996</td>\n",
       "      <td>37904.408738</td>\n",
       "      <td>3.726447</td>\n",
       "    </tr>\n",
       "    <tr>\n",
       "      <th>min</th>\n",
       "      <td>0.000000</td>\n",
       "      <td>1000.000000</td>\n",
       "      <td>0.000000</td>\n",
       "      <td>5000.000000</td>\n",
       "      <td>0.000000</td>\n",
       "    </tr>\n",
       "    <tr>\n",
       "      <th>1%</th>\n",
       "      <td>0.000000</td>\n",
       "      <td>1980.000000</td>\n",
       "      <td>0.000000</td>\n",
       "      <td>5000.000000</td>\n",
       "      <td>0.000000</td>\n",
       "    </tr>\n",
       "    <tr>\n",
       "      <th>5%</th>\n",
       "      <td>200.000000</td>\n",
       "      <td>1992.000000</td>\n",
       "      <td>0.000000</td>\n",
       "      <td>40000.000000</td>\n",
       "      <td>0.000000</td>\n",
       "    </tr>\n",
       "    <tr>\n",
       "      <th>25%</th>\n",
       "      <td>1050.000000</td>\n",
       "      <td>1999.000000</td>\n",
       "      <td>69.000000</td>\n",
       "      <td>125000.000000</td>\n",
       "      <td>3.000000</td>\n",
       "    </tr>\n",
       "    <tr>\n",
       "      <th>50%</th>\n",
       "      <td>2700.000000</td>\n",
       "      <td>2003.000000</td>\n",
       "      <td>105.000000</td>\n",
       "      <td>150000.000000</td>\n",
       "      <td>6.000000</td>\n",
       "    </tr>\n",
       "    <tr>\n",
       "      <th>75%</th>\n",
       "      <td>6400.000000</td>\n",
       "      <td>2008.000000</td>\n",
       "      <td>143.000000</td>\n",
       "      <td>150000.000000</td>\n",
       "      <td>9.000000</td>\n",
       "    </tr>\n",
       "    <tr>\n",
       "      <th>95%</th>\n",
       "      <td>14600.000000</td>\n",
       "      <td>2016.000000</td>\n",
       "      <td>218.000000</td>\n",
       "      <td>150000.000000</td>\n",
       "      <td>12.000000</td>\n",
       "    </tr>\n",
       "    <tr>\n",
       "      <th>max</th>\n",
       "      <td>20000.000000</td>\n",
       "      <td>9999.000000</td>\n",
       "      <td>20000.000000</td>\n",
       "      <td>150000.000000</td>\n",
       "      <td>12.000000</td>\n",
       "    </tr>\n",
       "  </tbody>\n",
       "</table>\n",
       "</div>"
      ],
      "text/plain": [
       "               Price  RegistrationYear          Power      Kilometer  \\\n",
       "count  354344.000000     354344.000000  354344.000000  354344.000000   \n",
       "mean     4416.561477       2004.234563     110.091352  128212.330391   \n",
       "std      4514.167328         90.231117     189.855996   37904.408738   \n",
       "min         0.000000       1000.000000       0.000000    5000.000000   \n",
       "1%          0.000000       1980.000000       0.000000    5000.000000   \n",
       "5%        200.000000       1992.000000       0.000000   40000.000000   \n",
       "25%      1050.000000       1999.000000      69.000000  125000.000000   \n",
       "50%      2700.000000       2003.000000     105.000000  150000.000000   \n",
       "75%      6400.000000       2008.000000     143.000000  150000.000000   \n",
       "95%     14600.000000       2016.000000     218.000000  150000.000000   \n",
       "max     20000.000000       9999.000000   20000.000000  150000.000000   \n",
       "\n",
       "       RegistrationMonth  \n",
       "count      354344.000000  \n",
       "mean            5.714574  \n",
       "std             3.726447  \n",
       "min             0.000000  \n",
       "1%              0.000000  \n",
       "5%              0.000000  \n",
       "25%             3.000000  \n",
       "50%             6.000000  \n",
       "75%             9.000000  \n",
       "95%            12.000000  \n",
       "max            12.000000  "
      ]
     },
     "execution_count": 9,
     "metadata": {},
     "output_type": "execute_result"
    }
   ],
   "source": [
    "data.describe(percentiles=[.01, .05, 0.25, .5, .75, .95])"
   ]
  },
  {
   "cell_type": "markdown",
   "id": "fecfa83a",
   "metadata": {},
   "source": [
    "Год регистрации автомобиля не может быть раньше 1672 (если верить википедии). Если мы говорим про первый серийный с двигателем внутреннего сгорания то уже не страше 1884 года. На авито были найдены Газ АА 1936 года и Opel Admiral 1938 года...С другой стороны отбросить 1% машин, у которых год выпуска раньше 1979 года будет не большой потерей к тому же раритеты врятли будут искать в нашей системе, так что смело откидываем. Также стоит учесть, что раньше текущей даты регистрации быть не может, а процент выбросов меньше 5, смело откидываем все записи моложе 2022.\n",
    "\n",
    "Среднестатистическая повозка с объемом двигателя примерно 0.5 литра уже способна выдавать 20-40 л.с. Автомобили с мощность двигателя меньше врятли будут кому-то интересны, так что ограничиваем также не меньше 20 л.с., но и с мощностью в 20000 л.с тоже врятли похоже на правду. Ограничим эксклюзивами в 1000 л.с. для круглового счета.\n",
    "\n",
    "Остается стоимость авто. Стоимость авто исходя из цены металлома за нее врятли будет меньше 200 евро. Ограничим ими."
   ]
  },
  {
   "cell_type": "code",
   "execution_count": 10,
   "id": "9ea2f81f",
   "metadata": {},
   "outputs": [
    {
     "data": {
      "text/plain": [
       "(288074, 10)"
      ]
     },
     "execution_count": 10,
     "metadata": {},
     "output_type": "execute_result"
    }
   ],
   "source": [
    "data = data.query('1960 < RegistrationYear < 2017 and Price > 200 and 20 < Power < 1000')\n",
    "data = data.loc[~((data['RegistrationYear'] == 2016) & (data['RegistrationMonth'] > 5))]\n",
    "data = data.drop(['DateCrawled', 'RegistrationMonth'], axis=1)\n",
    "data.shape"
   ]
  },
  {
   "cell_type": "markdown",
   "id": "4d897f3a",
   "metadata": {},
   "source": [
    "Оценим кол-во пропусков в признаках"
   ]
  },
  {
   "cell_type": "code",
   "execution_count": 11,
   "id": "f0048241",
   "metadata": {},
   "outputs": [
    {
     "data": {
      "text/html": [
       "<div>\n",
       "<style scoped>\n",
       "    .dataframe tbody tr th:only-of-type {\n",
       "        vertical-align: middle;\n",
       "    }\n",
       "\n",
       "    .dataframe tbody tr th {\n",
       "        vertical-align: top;\n",
       "    }\n",
       "\n",
       "    .dataframe thead th {\n",
       "        text-align: right;\n",
       "    }\n",
       "</style>\n",
       "<table border=\"1\" class=\"dataframe\">\n",
       "  <thead>\n",
       "    <tr style=\"text-align: right;\">\n",
       "      <th></th>\n",
       "      <th>Кол-во пропусков</th>\n",
       "      <th>Доля пропусков в %</th>\n",
       "    </tr>\n",
       "  </thead>\n",
       "  <tbody>\n",
       "    <tr>\n",
       "      <th>NotRepaired</th>\n",
       "      <td>39848</td>\n",
       "      <td>13.8</td>\n",
       "    </tr>\n",
       "    <tr>\n",
       "      <th>FuelType</th>\n",
       "      <td>13373</td>\n",
       "      <td>4.6</td>\n",
       "    </tr>\n",
       "    <tr>\n",
       "      <th>Model</th>\n",
       "      <td>10156</td>\n",
       "      <td>3.5</td>\n",
       "    </tr>\n",
       "    <tr>\n",
       "      <th>VehicleType</th>\n",
       "      <td>7359</td>\n",
       "      <td>2.6</td>\n",
       "    </tr>\n",
       "    <tr>\n",
       "      <th>Gearbox</th>\n",
       "      <td>4864</td>\n",
       "      <td>1.7</td>\n",
       "    </tr>\n",
       "    <tr>\n",
       "      <th>Price</th>\n",
       "      <td>0</td>\n",
       "      <td>0.0</td>\n",
       "    </tr>\n",
       "    <tr>\n",
       "      <th>RegistrationYear</th>\n",
       "      <td>0</td>\n",
       "      <td>0.0</td>\n",
       "    </tr>\n",
       "    <tr>\n",
       "      <th>Power</th>\n",
       "      <td>0</td>\n",
       "      <td>0.0</td>\n",
       "    </tr>\n",
       "    <tr>\n",
       "      <th>Kilometer</th>\n",
       "      <td>0</td>\n",
       "      <td>0.0</td>\n",
       "    </tr>\n",
       "    <tr>\n",
       "      <th>Brand</th>\n",
       "      <td>0</td>\n",
       "      <td>0.0</td>\n",
       "    </tr>\n",
       "  </tbody>\n",
       "</table>\n",
       "</div>"
      ],
      "text/plain": [
       "                  Кол-во пропусков  Доля пропусков в %\n",
       "NotRepaired                  39848                13.8\n",
       "FuelType                     13373                 4.6\n",
       "Model                        10156                 3.5\n",
       "VehicleType                   7359                 2.6\n",
       "Gearbox                       4864                 1.7\n",
       "Price                            0                 0.0\n",
       "RegistrationYear                 0                 0.0\n",
       "Power                            0                 0.0\n",
       "Kilometer                        0                 0.0\n",
       "Brand                            0                 0.0"
      ]
     },
     "execution_count": 11,
     "metadata": {},
     "output_type": "execute_result"
    }
   ],
   "source": [
    "pd.DataFrame({'Кол-во пропусков': data.isna().sum(), 'Доля пропусков в %': round(data.isna().sum() / len(data), 3) * 100}).sort_values(by='Доля пропусков в %', ascending=False)"
   ]
  },
  {
   "cell_type": "code",
   "execution_count": 12,
   "id": "b70f694e",
   "metadata": {},
   "outputs": [
    {
     "name": "stdout",
     "output_type": "stream",
     "text": [
      "------------------------------\n",
      "no     221635\n",
      "yes     26591\n",
      "Name: NotRepaired, dtype: int64\n",
      "------------------------------\n",
      "------------------------------\n",
      "sedan          82122\n",
      "small          67511\n",
      "wagon          58670\n",
      "bus            26093\n",
      "convertible    18677\n",
      "coupe          14389\n",
      "suv            10906\n",
      "other           2347\n",
      "Name: VehicleType, dtype: int64\n",
      "------------------------------\n",
      "------------------------------\n",
      "petrol      182185\n",
      "gasoline     87097\n",
      "lpg           4630\n",
      "cng            475\n",
      "hybrid         198\n",
      "other           77\n",
      "electric        39\n",
      "Name: FuelType, dtype: int64\n",
      "------------------------------\n",
      "------------------------------\n",
      "golf                  23933\n",
      "other                 19873\n",
      "3er                   17152\n",
      "polo                  10090\n",
      "corsa                  9410\n",
      "                      ...  \n",
      "serie_2                   4\n",
      "elefantino                4\n",
      "serie_3                   3\n",
      "range_rover_evoque        2\n",
      "rangerover                2\n",
      "Name: Model, Length: 249, dtype: int64\n",
      "------------------------------\n",
      "------------------------------\n",
      "manual    225155\n",
      "auto       58055\n",
      "Name: Gearbox, dtype: int64\n",
      "------------------------------\n"
     ]
    }
   ],
   "source": [
    "for item in ['NotRepaired', 'VehicleType', 'FuelType', 'Model', 'Gearbox']:\n",
    "    print('-'*30)\n",
    "    print(data[item].value_counts())\n",
    "    print('-'*30)"
   ]
  },
  {
   "cell_type": "markdown",
   "id": "9a2b46ca",
   "metadata": {},
   "source": [
    "В признаке Model пропущено всего 5% значений, предполагая что данный признак будет иметь больше значение и с невозможностью восстановить данные, удалим отсутствующие значения."
   ]
  },
  {
   "cell_type": "code",
   "execution_count": 13,
   "id": "2af91000",
   "metadata": {},
   "outputs": [],
   "source": [
    "data = data.loc[~data['Model'].isna()]"
   ]
  },
  {
   "cell_type": "markdown",
   "id": "540abc74",
   "metadata": {},
   "source": [
    "Большое кол-во пропусков содержится в признаке NotRepaired. Так как предположительно данный признак также должен иметь огромное влияние на цену и невозможностью предугадать \"не бит не крашен\", заполним пропуски техническим \"unknown\""
   ]
  },
  {
   "cell_type": "code",
   "execution_count": 14,
   "id": "2ba82f03",
   "metadata": {},
   "outputs": [],
   "source": [
    "data['NotRepaired'] = data['NotRepaired'].fillna('unknown')"
   ]
  },
  {
   "cell_type": "markdown",
   "id": "d2243c8b",
   "metadata": {},
   "source": [
    "Данные в столбцах Gearbox, FuelType, VehicleType пропущены в небольшом кол-ве случаев. Предположим, что данные признаки не должны оказывать кардинального влияния на цену, то можно их заполнить модами соответсвующий признаков."
   ]
  },
  {
   "cell_type": "code",
   "execution_count": 15,
   "id": "597d7131",
   "metadata": {},
   "outputs": [],
   "source": [
    "data['VehicleType'] = data['VehicleType'].fillna(data\n",
    "                                                  .groupby('Model')['VehicleType']\n",
    "                                                  .transform(lambda x: x.value_counts().idxmax())\n",
    "                                                 )\n",
    "data['Gearbox'] = data['Gearbox'].fillna(data\n",
    "                                         .groupby('Model')['Gearbox']\n",
    "                                         .transform(lambda x: x.value_counts().idxmax())\n",
    "                                        )\n",
    "data['FuelType'] = data['FuelType'].fillna(data\n",
    "                                           .groupby('Model')['FuelType']\n",
    "                                           .transform(lambda x: x.value_counts().idxmax())\n",
    "                                          )"
   ]
  },
  {
   "cell_type": "markdown",
   "id": "28c6e387",
   "metadata": {},
   "source": [
    "Проверим данные на пропуски"
   ]
  },
  {
   "cell_type": "code",
   "execution_count": 16,
   "id": "7797eaba",
   "metadata": {},
   "outputs": [
    {
     "data": {
      "text/plain": [
       "Price               0\n",
       "VehicleType         0\n",
       "RegistrationYear    0\n",
       "Gearbox             0\n",
       "Power               0\n",
       "Model               0\n",
       "Kilometer           0\n",
       "FuelType            0\n",
       "Brand               0\n",
       "NotRepaired         0\n",
       "dtype: int64"
      ]
     },
     "execution_count": 16,
     "metadata": {},
     "output_type": "execute_result"
    }
   ],
   "source": [
    "data.isna().sum()"
   ]
  },
  {
   "cell_type": "markdown",
   "id": "858fa0b0",
   "metadata": {},
   "source": [
    "В заключение подправим типы данных"
   ]
  },
  {
   "cell_type": "code",
   "execution_count": 17,
   "id": "b8dc6886",
   "metadata": {},
   "outputs": [
    {
     "data": {
      "text/plain": [
       "Index(['Price', 'VehicleType', 'RegistrationYear', 'Gearbox', 'Power', 'Model',\n",
       "       'Kilometer', 'FuelType', 'Brand', 'NotRepaired'],\n",
       "      dtype='object')"
      ]
     },
     "execution_count": 17,
     "metadata": {},
     "output_type": "execute_result"
    }
   ],
   "source": [
    "data.columns"
   ]
  },
  {
   "cell_type": "code",
   "execution_count": 18,
   "id": "0311247e",
   "metadata": {},
   "outputs": [],
   "source": [
    "# data['Price'] = data['Price'].astype('int16')\n",
    "data['Price'] = pd.to_numeric(data['Price'], downcast='integer')\n",
    "data['VehicleType'] = data['VehicleType'].astype('category')\n",
    "# data['RegistrationYear'] = data['RegistrationYear'].astype('int16')\n",
    "data['RegistrationYear'] = pd.to_numeric(data['RegistrationYear'], downcast='integer')\n",
    "data['Gearbox'] = data['Gearbox'].astype('category')\n",
    "# data['Power'] = data['Power'].astype('int16')\n",
    "data['Power'] = pd.to_numeric(data['Power'], downcast='integer')\n",
    "data['Model'] = data['Model'].astype('category')\n",
    "# data['Kilometer'] = data['Kilometer'].astype('int32')\n",
    "data['Kilometer'] = pd.to_numeric(data['Kilometer'], downcast='integer')\n",
    "data['FuelType'] = data['FuelType'].astype('category')\n",
    "data['Brand'] = data['Brand'].astype('category')\n",
    "data['NotRepaired'] = data['NotRepaired'].astype('category')"
   ]
  },
  {
   "cell_type": "code",
   "execution_count": 19,
   "id": "b52d839c",
   "metadata": {},
   "outputs": [
    {
     "name": "stdout",
     "output_type": "stream",
     "text": [
      "<class 'pandas.core.frame.DataFrame'>\n",
      "Int64Index: 277918 entries, 2 to 354368\n",
      "Data columns (total 10 columns):\n",
      " #   Column            Non-Null Count   Dtype   \n",
      "---  ------            --------------   -----   \n",
      " 0   Price             277918 non-null  int16   \n",
      " 1   VehicleType       277918 non-null  category\n",
      " 2   RegistrationYear  277918 non-null  int16   \n",
      " 3   Gearbox           277918 non-null  category\n",
      " 4   Power             277918 non-null  int16   \n",
      " 5   Model             277918 non-null  category\n",
      " 6   Kilometer         277918 non-null  int32   \n",
      " 7   FuelType          277918 non-null  category\n",
      " 8   Brand             277918 non-null  category\n",
      " 9   NotRepaired       277918 non-null  category\n",
      "dtypes: category(6), int16(3), int32(1)\n",
      "memory usage: 6.6 MB\n"
     ]
    }
   ],
   "source": [
    "data.info()"
   ]
  },
  {
   "cell_type": "markdown",
   "id": "816b8c24",
   "metadata": {},
   "source": [
    "## Шаг 2. Обучение моделей."
   ]
  },
  {
   "cell_type": "markdown",
   "id": "18951d51",
   "metadata": {},
   "source": [
    "Сначала преобразуем категориальные признаки с помощью OneHotEncoding"
   ]
  },
  {
   "cell_type": "code",
   "execution_count": 20,
   "id": "d178b601",
   "metadata": {},
   "outputs": [
    {
     "data": {
      "text/plain": [
       "(277918, 306)"
      ]
     },
     "execution_count": 20,
     "metadata": {},
     "output_type": "execute_result"
    }
   ],
   "source": [
    "data_ohe = pd.get_dummies(data, drop_first=True)\n",
    "data_ohe.shape"
   ]
  },
  {
   "cell_type": "markdown",
   "id": "8db48e0d",
   "metadata": {},
   "source": [
    "Разделим данные на следующие выборки:\n",
    "- features\n",
    "    - train\n",
    "    - valid\n",
    "    - test\n",
    "- target"
   ]
  },
  {
   "cell_type": "code",
   "execution_count": 21,
   "id": "0c2b5f73",
   "metadata": {},
   "outputs": [],
   "source": [
    "features = data_ohe.drop('Price', axis=1)\n",
    "target = data['Price']"
   ]
  },
  {
   "cell_type": "code",
   "execution_count": 22,
   "id": "10af83ed",
   "metadata": {},
   "outputs": [
    {
     "name": "stdout",
     "output_type": "stream",
     "text": [
      "Количество строк в target_train по классам: (222334, 305)\n",
      "Количество строк в target_test по классам: (55584, 305)\n"
     ]
    }
   ],
   "source": [
    "X_train, X_test, y_train, y_test = train_test_split(\n",
    "    features, \n",
    "    target, \n",
    "    test_size=.2, \n",
    "    random_state=RAND\n",
    ")\n",
    "\n",
    "# features_train, features_valid, target_train, target_valid = train_test_split(\n",
    "#     features, \n",
    "#     target, \n",
    "#     test_size=.25, \n",
    "#     random_state=RAND\n",
    "# )\n",
    "print(f\"Количество строк в target_train по классам: {X_train.shape}\")\n",
    "# print(f\"Количество строк в target_valid по классам: {features_valid.shape}\")\n",
    "print(f\"Количество строк в target_test по классам: {X_test.shape}\")"
   ]
  },
  {
   "cell_type": "markdown",
   "id": "bdfd5ee6",
   "metadata": {},
   "source": [
    "Также для улучшения качества модели отмасштабируем признаки с помощью StandartScaler"
   ]
  },
  {
   "cell_type": "code",
   "execution_count": 23,
   "id": "938db760",
   "metadata": {},
   "outputs": [],
   "source": [
    "numeric = ['RegistrationYear', 'Power', 'Kilometer']\n",
    "\n",
    "scaler = StandardScaler().fit(X_train[numeric])\n",
    "\n",
    "X_train[numeric] = scaler.transform(X_train[numeric])\n",
    "# features_valid[numeric] = scaler.transform(features_valid[numeric])\n",
    "X_test[numeric] = scaler.transform(X_test[numeric])"
   ]
  },
  {
   "cell_type": "code",
   "execution_count": 24,
   "id": "b2ecf454",
   "metadata": {},
   "outputs": [],
   "source": [
    "# model, RMSE_valid, RMSE_test, work_time, pred_time, param\n",
    "results = []"
   ]
  },
  {
   "cell_type": "markdown",
   "id": "839b11da",
   "metadata": {},
   "source": [
    "Линейная регрессия"
   ]
  },
  {
   "cell_type": "code",
   "execution_count": 25,
   "id": "a96fff8c",
   "metadata": {},
   "outputs": [],
   "source": [
    "start = time.time()\n",
    "lr_model = LinearRegression()\n",
    "mse_valid = cross_val_score(lr_model, X_train, y_train, cv=5, scoring='neg_mean_squared_error')\n",
    "rmse_valid = round(sqrt(-mse_valid.mean()), 2)\n",
    "end = time.time()\n",
    "work_time_lr_model = round(end - start, 3)"
   ]
  },
  {
   "cell_type": "code",
   "execution_count": 26,
   "id": "10d6bcab",
   "metadata": {},
   "outputs": [],
   "source": [
    "start = time.time()\n",
    "lr_model.fit(X_train, y_train)\n",
    "lr_pred = lr_model.predict(X_test)\n",
    "mse_test = mean_squared_error(y_test, lr_pred)\n",
    "rmse_test = round(sqrt(mse_test), 2)\n",
    "end = time.time()\n",
    "test_time_lr_model = round(end - start, 3)"
   ]
  },
  {
   "cell_type": "code",
   "execution_count": 27,
   "id": "ae80ee15",
   "metadata": {},
   "outputs": [
    {
     "data": {
      "text/plain": [
       "[[LinearRegression(), 2536.4, 2529.87, 17.54, 4.347, nan]]"
      ]
     },
     "execution_count": 27,
     "metadata": {},
     "output_type": "execute_result"
    }
   ],
   "source": [
    "results.append([lr_model, rmse_valid, rmse_test, work_time_lr_model, test_time_lr_model, np.nan])\n",
    "results"
   ]
  },
  {
   "cell_type": "markdown",
   "id": "5644b3a1",
   "metadata": {},
   "source": [
    "Линейная регрессия с L1 регуляризацией (Lasso)"
   ]
  },
  {
   "cell_type": "code",
   "execution_count": 28,
   "id": "5e687c19",
   "metadata": {},
   "outputs": [],
   "source": [
    "start = time.time()\n",
    "ls_model = Lasso(alpha=0.01)\n",
    "mse_valid = cross_val_score(ls_model, X_train, y_train, cv=5, scoring='neg_mean_squared_error')\n",
    "rmse_valid = round(sqrt(-mse_valid.mean()), 2)\n",
    "end = time.time()\n",
    "work_time_ls_model = round(end - start, 3)"
   ]
  },
  {
   "cell_type": "code",
   "execution_count": 29,
   "id": "946deee1",
   "metadata": {},
   "outputs": [],
   "source": [
    "start = time.time()\n",
    "ls_model = Lasso(alpha=0.01)\n",
    "ls_model.fit(X_train, y_train)\n",
    "ls_pred = ls_model.predict(X_test)\n",
    "mse_test = mean_squared_error(y_test, ls_pred)\n",
    "rmse_test = round(sqrt(mse_test), 2)\n",
    "end = time.time()\n",
    "test_time_ls_model = round(end - start, 3)"
   ]
  },
  {
   "cell_type": "code",
   "execution_count": 30,
   "id": "3f08f30e",
   "metadata": {},
   "outputs": [
    {
     "data": {
      "text/plain": [
       "[[LinearRegression(), 2536.4, 2529.87, 17.54, 4.347, nan],\n",
       " [Lasso(alpha=0.01), 2536.39, 2530.21, 415.721, 95.846, {'alpha': 0.01}]]"
      ]
     },
     "execution_count": 30,
     "metadata": {},
     "output_type": "execute_result"
    }
   ],
   "source": [
    "results.append([ls_model, rmse_valid, rmse_test, work_time_ls_model, test_time_ls_model, {'alpha': 0.01}])\n",
    "results"
   ]
  },
  {
   "cell_type": "markdown",
   "id": "1405ea0e",
   "metadata": {},
   "source": [
    "Линейная регрессия с L2 регуляризацией (Ridge)"
   ]
  },
  {
   "cell_type": "code",
   "execution_count": 31,
   "id": "bee2cd44",
   "metadata": {},
   "outputs": [
    {
     "name": "stdout",
     "output_type": "stream",
     "text": [
      "best_rmse_valid: 2536.36, best_alpha: 0.1\n"
     ]
    }
   ],
   "source": [
    "start = time.time()\n",
    "best_alpha = 0\n",
    "best_rmse_valid = 10000\n",
    "for alpha in [0, 0.1, 0.01, 0.001]:\n",
    "    rg_model = Ridge(alpha=alpha)\n",
    "    mse_valid = cross_val_score(rg_model, X_train, y_train, cv=5, scoring='neg_mean_squared_error')\n",
    "    rmse_valid = round(sqrt(-mse_valid.mean()), 2)\n",
    "    if rmse_valid < best_rmse_valid:\n",
    "        best_rmse_valid = rmse_valid\n",
    "        best_alpha = alpha\n",
    "end = time.time()\n",
    "work_time_rg_model = round(end - start, 3)\n",
    "print(f'best_rmse_valid: {best_rmse_valid}, best_alpha: {best_alpha}')"
   ]
  },
  {
   "cell_type": "code",
   "execution_count": 32,
   "id": "3a892c95",
   "metadata": {},
   "outputs": [],
   "source": [
    "start = time.time()\n",
    "rg_model = Ridge(alpha=best_alpha)\n",
    "rg_model.fit(X_train, y_train)\n",
    "rg_pred = rg_model.predict(X_test)\n",
    "mse_test = mean_squared_error(y_test, rg_pred)\n",
    "rmse_test = round(sqrt(mse_test), 2)\n",
    "end = time.time()\n",
    "test_time_rg_model = round(end - start, 3)"
   ]
  },
  {
   "cell_type": "code",
   "execution_count": 33,
   "id": "58c44f54",
   "metadata": {},
   "outputs": [],
   "source": [
    "results.append([rg_model, best_rmse_valid, rmse_test, work_time_rg_model, test_time_rg_model, {'alpha': best_alpha}])"
   ]
  },
  {
   "cell_type": "markdown",
   "id": "9dc46f6c",
   "metadata": {},
   "source": [
    "Вывод для линейный моделей:\n",
    "- все три модели показали одинаковые результаты ~2580\n",
    "- время обучения и предсказания в разы выше у Ridge\n",
    "- оптимальный алгоритм - Ridge"
   ]
  },
  {
   "cell_type": "markdown",
   "id": "39ca8df2",
   "metadata": {},
   "source": [
    "LightGBM"
   ]
  },
  {
   "cell_type": "code",
   "execution_count": 34,
   "id": "fc6d6edd",
   "metadata": {},
   "outputs": [],
   "source": [
    "start = time.time()\n",
    "lgbm_model = LGBMRegressor()\n",
    "param_grid = {\n",
    "    'max_depth': [10, 15, 20, 25],\n",
    "    'n_estimators': [100, 200, 400, 700, 1000],\n",
    "    'random_state': [RAND],\n",
    "    'learning_rate': [0.1, 0.3, 0.5, 0.7]\n",
    "}\n",
    "gs = GridSearchCV(\n",
    "    estimator=lgbm_model, \n",
    "    param_grid=param_grid, \n",
    "    cv=5, \n",
    "    n_jobs=-1, \n",
    "    scoring='neg_mean_squared_error'\n",
    ")\n",
    "fitted_model = gs.fit(X_train, y_train)\n",
    "rmse_valid = round(sqrt(-gs.best_score_), 2)\n",
    "end = time.time()\n",
    "work_time_lgbm_model = round(end - start, 3)"
   ]
  },
  {
   "cell_type": "code",
   "execution_count": 35,
   "id": "f4cd2885",
   "metadata": {},
   "outputs": [],
   "source": [
    "start = time.time()\n",
    "lgbm_model.fit(X_train, y_train)\n",
    "lgbm_pred = lgbm_model.predict(X_test)\n",
    "mse_test = mean_squared_error(y_test, lgbm_pred)\n",
    "rmse_test = round(sqrt(mse_test), 2)\n",
    "end = time.time()\n",
    "test_time_lgbm_model = round(end - start, 3)"
   ]
  },
  {
   "cell_type": "code",
   "execution_count": 36,
   "id": "0339a3c3",
   "metadata": {},
   "outputs": [
    {
     "data": {
      "text/plain": [
       "[[LinearRegression(), 2536.4, 2529.87, 17.54, 4.347, nan],\n",
       " [Lasso(alpha=0.01), 2536.39, 2530.21, 415.721, 95.846, {'alpha': 0.01}],\n",
       " [Ridge(alpha=0.1), 2536.36, 2529.92, 38.183, 0.804, {'alpha': 0.1}],\n",
       " [LGBMRegressor(),\n",
       "  1494.88,\n",
       "  1634.03,\n",
       "  301.286,\n",
       "  1.309,\n",
       "  {'learning_rate': 0.3,\n",
       "   'max_depth': 15,\n",
       "   'n_estimators': 1000,\n",
       "   'random_state': 12345}]]"
      ]
     },
     "execution_count": 36,
     "metadata": {},
     "output_type": "execute_result"
    }
   ],
   "source": [
    "results.append([lgbm_model, rmse_valid, rmse_test, work_time_lgbm_model, test_time_lgbm_model, gs.best_params_])\n",
    "results"
   ]
  },
  {
   "cell_type": "markdown",
   "id": "f81e3db0",
   "metadata": {},
   "source": [
    "Для контроля проверим результаты константной модели"
   ]
  },
  {
   "cell_type": "code",
   "execution_count": 37,
   "id": "a4ad4dbb",
   "metadata": {},
   "outputs": [
    {
     "name": "stdout",
     "output_type": "stream",
     "text": [
      "RMSE константной модели: 4660.88\n"
     ]
    }
   ],
   "source": [
    "dum_model = DummyRegressor(strategy='mean')\n",
    "dum_model.fit(X_train, y_train)\n",
    "dum_pred = dum_model.predict(X_test)\n",
    "print(f'RMSE константной модели: {round(sqrt(mean_squared_error(y_test, dum_pred)), 2)}')"
   ]
  },
  {
   "cell_type": "code",
   "execution_count": 40,
   "id": "99cf0ea7",
   "metadata": {},
   "outputs": [
    {
     "data": {
      "text/html": [
       "<div>\n",
       "<style scoped>\n",
       "    .dataframe tbody tr th:only-of-type {\n",
       "        vertical-align: middle;\n",
       "    }\n",
       "\n",
       "    .dataframe tbody tr th {\n",
       "        vertical-align: top;\n",
       "    }\n",
       "\n",
       "    .dataframe thead th {\n",
       "        text-align: right;\n",
       "    }\n",
       "</style>\n",
       "<table border=\"1\" class=\"dataframe\">\n",
       "  <thead>\n",
       "    <tr style=\"text-align: right;\">\n",
       "      <th></th>\n",
       "      <th>model</th>\n",
       "      <th>RMSE_valid</th>\n",
       "      <th>RMSE_test</th>\n",
       "      <th>work_time</th>\n",
       "      <th>pred_time</th>\n",
       "      <th>params</th>\n",
       "    </tr>\n",
       "  </thead>\n",
       "  <tbody>\n",
       "    <tr>\n",
       "      <th>3</th>\n",
       "      <td>LGBMRegressor()</td>\n",
       "      <td>1494.88</td>\n",
       "      <td>1634.03</td>\n",
       "      <td>301.286</td>\n",
       "      <td>1.309</td>\n",
       "      <td>{'learning_rate': 0.3, 'max_depth': 15, 'n_est...</td>\n",
       "    </tr>\n",
       "    <tr>\n",
       "      <th>0</th>\n",
       "      <td>LinearRegression()</td>\n",
       "      <td>2536.40</td>\n",
       "      <td>2529.87</td>\n",
       "      <td>17.540</td>\n",
       "      <td>4.347</td>\n",
       "      <td>NaN</td>\n",
       "    </tr>\n",
       "    <tr>\n",
       "      <th>2</th>\n",
       "      <td>Ridge(alpha=0.1)</td>\n",
       "      <td>2536.36</td>\n",
       "      <td>2529.92</td>\n",
       "      <td>38.183</td>\n",
       "      <td>0.804</td>\n",
       "      <td>{'alpha': 0.1}</td>\n",
       "    </tr>\n",
       "    <tr>\n",
       "      <th>1</th>\n",
       "      <td>Lasso(alpha=0.01)</td>\n",
       "      <td>2536.39</td>\n",
       "      <td>2530.21</td>\n",
       "      <td>415.721</td>\n",
       "      <td>95.846</td>\n",
       "      <td>{'alpha': 0.01}</td>\n",
       "    </tr>\n",
       "  </tbody>\n",
       "</table>\n",
       "</div>"
      ],
      "text/plain": [
       "                model  RMSE_valid  RMSE_test  work_time  pred_time  \\\n",
       "3     LGBMRegressor()     1494.88    1634.03    301.286      1.309   \n",
       "0  LinearRegression()     2536.40    2529.87     17.540      4.347   \n",
       "2    Ridge(alpha=0.1)     2536.36    2529.92     38.183      0.804   \n",
       "1   Lasso(alpha=0.01)     2536.39    2530.21    415.721     95.846   \n",
       "\n",
       "                                              params  \n",
       "3  {'learning_rate': 0.3, 'max_depth': 15, 'n_est...  \n",
       "0                                                NaN  \n",
       "2                                     {'alpha': 0.1}  \n",
       "1                                    {'alpha': 0.01}  "
      ]
     },
     "execution_count": 40,
     "metadata": {},
     "output_type": "execute_result"
    }
   ],
   "source": [
    "results_df = pd.DataFrame(results, columns=['model', 'RMSE_valid', 'RMSE_test', 'work_time', 'pred_time', 'params'])\n",
    "results_df.sort_values(by='RMSE_test')"
   ]
  },
  {
   "cell_type": "markdown",
   "id": "af41e13b",
   "metadata": {},
   "source": [
    "<b>Общий вывод:</b>\n",
    "- была проведена предобработка данных\n",
    "- протестированы следующие модели:\n",
    "    - LinearRegression\n",
    "    - Lasso\n",
    "    - Ridge\n",
    "    - LGBMRegressor\n",
    "- Исходя их требований задачи лучшим вариантом оказался LGBMRegressor, хотя стоит отметить, что обучение модели занимает продолжительное время. Возможно данное время можно сократить, продолжив сокращать кол-во дамми-признаков."
   ]
  }
 ],
 "metadata": {
  "ExecuteTimeLog": [
   {
    "duration": 1776,
    "start_time": "2022-05-26T03:22:37.103Z"
   },
   {
    "duration": 1636,
    "start_time": "2022-05-26T03:22:41.514Z"
   },
   {
    "duration": 43,
    "start_time": "2022-05-26T03:22:44.402Z"
   },
   {
    "duration": 254,
    "start_time": "2022-05-26T03:22:46.474Z"
   },
   {
    "duration": 162,
    "start_time": "2022-05-26T03:22:47.795Z"
   },
   {
    "duration": 55,
    "start_time": "2022-05-26T03:23:26.172Z"
   },
   {
    "duration": 365,
    "start_time": "2022-05-26T03:23:44.792Z"
   },
   {
    "duration": 422,
    "start_time": "2022-05-26T03:24:31.426Z"
   },
   {
    "duration": 64,
    "start_time": "2022-05-26T03:25:08.505Z"
   },
   {
    "duration": 178,
    "start_time": "2022-05-26T03:26:29.553Z"
   },
   {
    "duration": 281,
    "start_time": "2022-05-26T03:27:37.790Z"
   },
   {
    "duration": 169,
    "start_time": "2022-05-26T03:27:45.901Z"
   },
   {
    "duration": 49,
    "start_time": "2022-05-26T03:27:55.991Z"
   },
   {
    "duration": 21,
    "start_time": "2022-05-26T03:28:04.432Z"
   },
   {
    "duration": 1307,
    "start_time": "2022-05-26T03:28:41.350Z"
   },
   {
    "duration": 85,
    "start_time": "2022-05-26T03:29:33.186Z"
   },
   {
    "duration": 4,
    "start_time": "2022-05-26T03:29:41.241Z"
   },
   {
    "duration": 247,
    "start_time": "2022-05-26T03:29:51.322Z"
   },
   {
    "duration": 45,
    "start_time": "2022-05-26T03:29:52.900Z"
   },
   {
    "duration": 857,
    "start_time": "2022-05-26T03:32:50.912Z"
   },
   {
    "duration": 323,
    "start_time": "2022-05-26T03:32:53.418Z"
   },
   {
    "duration": 1693,
    "start_time": "2022-05-26T03:33:42.336Z"
   },
   {
    "duration": 213,
    "start_time": "2022-05-26T03:34:21.230Z"
   },
   {
    "duration": 999,
    "start_time": "2022-05-26T03:34:34.426Z"
   },
   {
    "duration": 3,
    "start_time": "2022-05-26T03:35:28.799Z"
   },
   {
    "duration": 1131,
    "start_time": "2022-05-27T04:26:55.443Z"
   },
   {
    "duration": 806,
    "start_time": "2022-05-27T04:26:56.576Z"
   },
   {
    "duration": 20,
    "start_time": "2022-05-27T04:26:57.384Z"
   },
   {
    "duration": 136,
    "start_time": "2022-05-27T04:26:57.406Z"
   },
   {
    "duration": 106,
    "start_time": "2022-05-27T04:26:57.544Z"
   },
   {
    "duration": 23,
    "start_time": "2022-05-27T04:26:57.652Z"
   },
   {
    "duration": 187,
    "start_time": "2022-05-27T04:26:57.678Z"
   },
   {
    "duration": 212,
    "start_time": "2022-05-27T04:26:57.867Z"
   },
   {
    "duration": 64,
    "start_time": "2022-05-27T04:26:58.081Z"
   },
   {
    "duration": 25,
    "start_time": "2022-05-27T04:26:58.147Z"
   },
   {
    "duration": 5,
    "start_time": "2022-05-27T04:27:18.575Z"
   },
   {
    "duration": 1693,
    "start_time": "2022-05-28T08:28:59.062Z"
   },
   {
    "duration": 1589,
    "start_time": "2022-05-28T08:29:00.758Z"
   },
   {
    "duration": 54,
    "start_time": "2022-05-28T08:29:02.352Z"
   },
   {
    "duration": 131,
    "start_time": "2022-05-28T08:29:02.410Z"
   },
   {
    "duration": 173,
    "start_time": "2022-05-28T08:29:02.544Z"
   },
   {
    "duration": 27,
    "start_time": "2022-05-28T08:29:02.724Z"
   },
   {
    "duration": 392,
    "start_time": "2022-05-28T08:29:02.753Z"
   },
   {
    "duration": 358,
    "start_time": "2022-05-28T08:29:03.147Z"
   },
   {
    "duration": 69,
    "start_time": "2022-05-28T08:29:03.507Z"
   },
   {
    "duration": 4,
    "start_time": "2022-05-28T08:29:03.578Z"
   },
   {
    "duration": 23,
    "start_time": "2022-05-28T08:29:03.584Z"
   },
   {
    "duration": 593,
    "start_time": "2022-05-28T08:29:03.622Z"
   },
   {
    "duration": 32,
    "start_time": "2022-05-28T08:29:04.217Z"
   },
   {
    "duration": 638,
    "start_time": "2022-05-28T08:29:04.251Z"
   },
   {
    "duration": 607,
    "start_time": "2022-05-28T08:29:04.890Z"
   }
  ],
  "kernelspec": {
   "display_name": "Python 3 (ipykernel)",
   "language": "python",
   "name": "python3"
  },
  "language_info": {
   "codemirror_mode": {
    "name": "ipython",
    "version": 3
   },
   "file_extension": ".py",
   "mimetype": "text/x-python",
   "name": "python",
   "nbconvert_exporter": "python",
   "pygments_lexer": "ipython3",
   "version": "3.10.5"
  },
  "toc": {
   "base_numbering": 1,
   "nav_menu": {},
   "number_sections": true,
   "sideBar": true,
   "skip_h1_title": true,
   "title_cell": "Table of Contents",
   "title_sidebar": "Contents",
   "toc_cell": false,
   "toc_position": {},
   "toc_section_display": true,
   "toc_window_display": true
  }
 },
 "nbformat": 4,
 "nbformat_minor": 5
}
